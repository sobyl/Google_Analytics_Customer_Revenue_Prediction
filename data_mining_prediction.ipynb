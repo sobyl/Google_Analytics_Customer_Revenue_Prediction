{
 "cells": [
  {
   "cell_type": "markdown",
   "metadata": {},
   "source": [
    "# Data mining and prediction"
   ]
  },
  {
   "cell_type": "markdown",
   "metadata": {},
   "source": [
    "From data_explore.ipynb we already explore features and find some useful features in the dataset. in this part, we will mining modify these features and use them with some models to predict the totals_transactionRevenue."
   ]
  },
  {
   "cell_type": "code",
   "execution_count": 2,
   "metadata": {},
   "outputs": [],
   "source": [
    "use_intermediate_results = True"
   ]
  },
  {
   "cell_type": "code",
   "execution_count": 3,
   "metadata": {},
   "outputs": [],
   "source": [
    "import pandas as pd\n",
    "import numpy as np\n",
    "import json\n",
    "from ast import literal_eval\n",
    "from pandas.io.json import json_normalize\n",
    "import matplotlib.pyplot as plt\n",
    "#import gc\n",
    "from datetime import datetime\n",
    "from sklearn.preprocessing import LabelEncoder\n",
    "%matplotlib inline"
   ]
  },
  {
   "cell_type": "markdown",
   "metadata": {},
   "source": [
    "## Load data"
   ]
  },
  {
   "cell_type": "markdown",
   "metadata": {},
   "source": [
    "Firstly, as we alread found the useful features, I write a function to load these features in more effecient way."
   ]
  },
  {
   "cell_type": "code",
   "execution_count": 4,
   "metadata": {},
   "outputs": [],
   "source": [
    "use_features = ['channelGrouping', 'date', 'fullVisitorId', 'visitId', 'visitNumber', 'visitStartTime', \n",
    "                'device_browser', 'device_deviceCategory', 'device_isMobile', 'device_operatingSystem',\n",
    "                'geoNetwork_city', 'geoNetwork_continent', 'geoNetwork_country', 'geoNetwork_metro', \n",
    "                'geoNetwork_networkDomain', 'geoNetwork_region', 'geoNetwork_subContinent', 'totals_bounces', \n",
    "                'totals_hits', 'totals_newVisits', 'totals_pageviews', 'totals_sessionQualityDim',\n",
    "                'totals_timeOnSite', 'totals_transactionRevenue', 'totals_transactions',\n",
    "                'trafficSource_adContent', 'trafficSource_adwordsClickInfo.page','trafficSource_campaign', \n",
    "                'trafficSource_isTrueDirect', 'trafficSource_keyword', 'trafficSource_medium', \n",
    "                'trafficSource_referralPath', 'trafficSource_source', 'customDimensions_index', \n",
    "                'customDimensions_value']"
   ]
  },
  {
   "cell_type": "markdown",
   "metadata": {},
   "source": [
    "As the dataset is very large, I try to use python's [Garbage collection package](https://rushter.com/blog/python-garbage-collector/) and read csv file in small chunks to reduce the memory when loading the data."
   ]
  },
  {
   "cell_type": "code",
   "execution_count": 3,
   "metadata": {},
   "outputs": [],
   "source": [
    "gc.enable()"
   ]
  },
  {
   "cell_type": "code",
   "execution_count": 5,
   "metadata": {},
   "outputs": [],
   "source": [
    "def load_data(file_path):\n",
    "    j_col = ['device', 'geoNetwork', 'totals', 'trafficSource']\n",
    "    re_df = pd.DataFrame()\n",
    "    dfs = pd.read_csv(file_path, converters={column: json.loads for column in j_col}, \n",
    "                      dtype={'fullVisitorId': 'str'}, chunksize=100000)\n",
    "    for df in dfs:\n",
    "        df.reset_index(drop=True, inplace=True)\n",
    "        for column in j_col:\n",
    "            column_as_df = json_normalize(df[column])\n",
    "            column_as_df.columns = [f\"{column}_{subcolumn}\" for subcolumn in column_as_df.columns]\n",
    "            df = df.drop(column, axis=1).merge(column_as_df, right_index=True, left_index=True)\n",
    "        column_as_df = json_normalize(df['customDimensions'].apply(lambda x: literal_eval(x)[0] if x != \"[]\" else {'index': 'NaN', 'value': 'NaN'}))\n",
    "        column_as_df.columns = [f\"{'customDimensions'}_{subcolumn}\" for subcolumn in column_as_df.columns]\n",
    "        df = df.drop('customDimensions', axis=1).merge(column_as_df, right_index=True, left_index=True)\n",
    "        use_df = df[use_features]\n",
    "        use_df['visitStartTime'] = pd.to_datetime(use_df['visitStartTime'].apply(lambda x: datetime.utcfromtimestamp(x).strftime('%Y-%m-%d %H:%M:%S')))\n",
    "        use_df['year'] = use_df['visitStartTime'].apply(lambda x:x.year)\n",
    "        use_df['month'] = use_df['visitStartTime'].apply(lambda x:x.month)\n",
    "        use_df['day'] = use_df['visitStartTime'].apply(lambda x:x.day)\n",
    "        use_df['weekday'] = use_df['visitStartTime'].apply(lambda x:x.weekday())\n",
    "        del df\n",
    "        gc.collect()\n",
    "        re_df= pd.concat([re_df, use_df], axis=0).reset_index(drop=True)\n",
    "    return re_df"
   ]
  },
  {
   "cell_type": "markdown",
   "metadata": {},
   "source": [
    "In this load function, I also chage the 'visitStartTime' feature from the POSIX timestamp to readable time and create the time features, like year, month, day, weekday."
   ]
  },
  {
   "cell_type": "code",
   "execution_count": 6,
   "metadata": {
    "scrolled": true
   },
   "outputs": [
    {
     "name": "stderr",
     "output_type": "stream",
     "text": [
      "/anaconda3/lib/python3.7/site-packages/ipykernel_launcher.py:16: SettingWithCopyWarning: \n",
      "A value is trying to be set on a copy of a slice from a DataFrame.\n",
      "Try using .loc[row_indexer,col_indexer] = value instead\n",
      "\n",
      "See the caveats in the documentation: http://pandas.pydata.org/pandas-docs/stable/indexing.html#indexing-view-versus-copy\n",
      "  app.launch_new_instance()\n",
      "/anaconda3/lib/python3.7/site-packages/ipykernel_launcher.py:17: SettingWithCopyWarning: \n",
      "A value is trying to be set on a copy of a slice from a DataFrame.\n",
      "Try using .loc[row_indexer,col_indexer] = value instead\n",
      "\n",
      "See the caveats in the documentation: http://pandas.pydata.org/pandas-docs/stable/indexing.html#indexing-view-versus-copy\n",
      "/anaconda3/lib/python3.7/site-packages/ipykernel_launcher.py:18: SettingWithCopyWarning: \n",
      "A value is trying to be set on a copy of a slice from a DataFrame.\n",
      "Try using .loc[row_indexer,col_indexer] = value instead\n",
      "\n",
      "See the caveats in the documentation: http://pandas.pydata.org/pandas-docs/stable/indexing.html#indexing-view-versus-copy\n",
      "/anaconda3/lib/python3.7/site-packages/ipykernel_launcher.py:19: SettingWithCopyWarning: \n",
      "A value is trying to be set on a copy of a slice from a DataFrame.\n",
      "Try using .loc[row_indexer,col_indexer] = value instead\n",
      "\n",
      "See the caveats in the documentation: http://pandas.pydata.org/pandas-docs/stable/indexing.html#indexing-view-versus-copy\n",
      "/anaconda3/lib/python3.7/site-packages/ipykernel_launcher.py:20: SettingWithCopyWarning: \n",
      "A value is trying to be set on a copy of a slice from a DataFrame.\n",
      "Try using .loc[row_indexer,col_indexer] = value instead\n",
      "\n",
      "See the caveats in the documentation: http://pandas.pydata.org/pandas-docs/stable/indexing.html#indexing-view-versus-copy\n"
     ]
    }
   ],
   "source": [
    "train_df = load_data('train_v2.csv')"
   ]
  },
  {
   "cell_type": "code",
   "execution_count": 7,
   "metadata": {},
   "outputs": [
    {
     "data": {
      "text/plain": [
       "(1708337, 39)"
      ]
     },
     "execution_count": 7,
     "metadata": {},
     "output_type": "execute_result"
    }
   ],
   "source": [
    "train_df.shape"
   ]
  },
  {
   "cell_type": "markdown",
   "metadata": {},
   "source": [
    "After loading the data, there are 39 columns and 1,708,337 rows."
   ]
  },
  {
   "cell_type": "code",
   "execution_count": 8,
   "metadata": {},
   "outputs": [],
   "source": [
    "pd.set_option('display.max_columns', 40)"
   ]
  },
  {
   "cell_type": "code",
   "execution_count": 9,
   "metadata": {},
   "outputs": [
    {
     "data": {
      "text/html": [
       "<div>\n",
       "<style scoped>\n",
       "    .dataframe tbody tr th:only-of-type {\n",
       "        vertical-align: middle;\n",
       "    }\n",
       "\n",
       "    .dataframe tbody tr th {\n",
       "        vertical-align: top;\n",
       "    }\n",
       "\n",
       "    .dataframe thead th {\n",
       "        text-align: right;\n",
       "    }\n",
       "</style>\n",
       "<table border=\"1\" class=\"dataframe\">\n",
       "  <thead>\n",
       "    <tr style=\"text-align: right;\">\n",
       "      <th></th>\n",
       "      <th>channelGrouping</th>\n",
       "      <th>date</th>\n",
       "      <th>fullVisitorId</th>\n",
       "      <th>visitId</th>\n",
       "      <th>visitNumber</th>\n",
       "      <th>visitStartTime</th>\n",
       "      <th>device_browser</th>\n",
       "      <th>device_deviceCategory</th>\n",
       "      <th>device_isMobile</th>\n",
       "      <th>device_operatingSystem</th>\n",
       "      <th>geoNetwork_city</th>\n",
       "      <th>geoNetwork_continent</th>\n",
       "      <th>geoNetwork_country</th>\n",
       "      <th>geoNetwork_metro</th>\n",
       "      <th>geoNetwork_networkDomain</th>\n",
       "      <th>geoNetwork_region</th>\n",
       "      <th>geoNetwork_subContinent</th>\n",
       "      <th>totals_bounces</th>\n",
       "      <th>totals_hits</th>\n",
       "      <th>totals_newVisits</th>\n",
       "      <th>totals_pageviews</th>\n",
       "      <th>totals_sessionQualityDim</th>\n",
       "      <th>totals_timeOnSite</th>\n",
       "      <th>totals_transactionRevenue</th>\n",
       "      <th>totals_transactions</th>\n",
       "      <th>trafficSource_adContent</th>\n",
       "      <th>trafficSource_adwordsClickInfo.page</th>\n",
       "      <th>trafficSource_campaign</th>\n",
       "      <th>trafficSource_isTrueDirect</th>\n",
       "      <th>trafficSource_keyword</th>\n",
       "      <th>trafficSource_medium</th>\n",
       "      <th>trafficSource_referralPath</th>\n",
       "      <th>trafficSource_source</th>\n",
       "      <th>customDimensions_index</th>\n",
       "      <th>customDimensions_value</th>\n",
       "      <th>year</th>\n",
       "      <th>month</th>\n",
       "      <th>day</th>\n",
       "      <th>weekday</th>\n",
       "    </tr>\n",
       "  </thead>\n",
       "  <tbody>\n",
       "    <tr>\n",
       "      <th>0</th>\n",
       "      <td>Organic Search</td>\n",
       "      <td>20171016</td>\n",
       "      <td>3162355547410993243</td>\n",
       "      <td>1508198450</td>\n",
       "      <td>1</td>\n",
       "      <td>2017-10-17 00:00:50</td>\n",
       "      <td>Firefox</td>\n",
       "      <td>desktop</td>\n",
       "      <td>False</td>\n",
       "      <td>Windows</td>\n",
       "      <td>not available in demo dataset</td>\n",
       "      <td>Europe</td>\n",
       "      <td>Germany</td>\n",
       "      <td>not available in demo dataset</td>\n",
       "      <td>(not set)</td>\n",
       "      <td>not available in demo dataset</td>\n",
       "      <td>Western Europe</td>\n",
       "      <td>1</td>\n",
       "      <td>1</td>\n",
       "      <td>1</td>\n",
       "      <td>1</td>\n",
       "      <td>1</td>\n",
       "      <td>NaN</td>\n",
       "      <td>NaN</td>\n",
       "      <td>NaN</td>\n",
       "      <td>NaN</td>\n",
       "      <td>NaN</td>\n",
       "      <td>(not set)</td>\n",
       "      <td>NaN</td>\n",
       "      <td>water bottle</td>\n",
       "      <td>organic</td>\n",
       "      <td>NaN</td>\n",
       "      <td>google</td>\n",
       "      <td>4</td>\n",
       "      <td>EMEA</td>\n",
       "      <td>2017</td>\n",
       "      <td>10</td>\n",
       "      <td>17</td>\n",
       "      <td>1</td>\n",
       "    </tr>\n",
       "    <tr>\n",
       "      <th>1</th>\n",
       "      <td>Referral</td>\n",
       "      <td>20171016</td>\n",
       "      <td>8934116514970143966</td>\n",
       "      <td>1508176307</td>\n",
       "      <td>6</td>\n",
       "      <td>2017-10-16 17:51:47</td>\n",
       "      <td>Chrome</td>\n",
       "      <td>desktop</td>\n",
       "      <td>False</td>\n",
       "      <td>Chrome OS</td>\n",
       "      <td>Cupertino</td>\n",
       "      <td>Americas</td>\n",
       "      <td>United States</td>\n",
       "      <td>San Francisco-Oakland-San Jose CA</td>\n",
       "      <td>(not set)</td>\n",
       "      <td>California</td>\n",
       "      <td>Northern America</td>\n",
       "      <td>NaN</td>\n",
       "      <td>2</td>\n",
       "      <td>NaN</td>\n",
       "      <td>2</td>\n",
       "      <td>2</td>\n",
       "      <td>28</td>\n",
       "      <td>NaN</td>\n",
       "      <td>NaN</td>\n",
       "      <td>NaN</td>\n",
       "      <td>NaN</td>\n",
       "      <td>(not set)</td>\n",
       "      <td>NaN</td>\n",
       "      <td>NaN</td>\n",
       "      <td>referral</td>\n",
       "      <td>/a/google.com/transportation/mtv-services/bike...</td>\n",
       "      <td>sites.google.com</td>\n",
       "      <td>4</td>\n",
       "      <td>North America</td>\n",
       "      <td>2017</td>\n",
       "      <td>10</td>\n",
       "      <td>16</td>\n",
       "      <td>0</td>\n",
       "    </tr>\n",
       "    <tr>\n",
       "      <th>2</th>\n",
       "      <td>Direct</td>\n",
       "      <td>20171016</td>\n",
       "      <td>7992466427990357681</td>\n",
       "      <td>1508201613</td>\n",
       "      <td>1</td>\n",
       "      <td>2017-10-17 00:53:33</td>\n",
       "      <td>Chrome</td>\n",
       "      <td>mobile</td>\n",
       "      <td>True</td>\n",
       "      <td>Android</td>\n",
       "      <td>not available in demo dataset</td>\n",
       "      <td>Americas</td>\n",
       "      <td>United States</td>\n",
       "      <td>not available in demo dataset</td>\n",
       "      <td>windjammercable.net</td>\n",
       "      <td>not available in demo dataset</td>\n",
       "      <td>Northern America</td>\n",
       "      <td>NaN</td>\n",
       "      <td>2</td>\n",
       "      <td>1</td>\n",
       "      <td>2</td>\n",
       "      <td>1</td>\n",
       "      <td>38</td>\n",
       "      <td>NaN</td>\n",
       "      <td>NaN</td>\n",
       "      <td>NaN</td>\n",
       "      <td>NaN</td>\n",
       "      <td>(not set)</td>\n",
       "      <td>True</td>\n",
       "      <td>NaN</td>\n",
       "      <td>(none)</td>\n",
       "      <td>NaN</td>\n",
       "      <td>(direct)</td>\n",
       "      <td>4</td>\n",
       "      <td>North America</td>\n",
       "      <td>2017</td>\n",
       "      <td>10</td>\n",
       "      <td>17</td>\n",
       "      <td>1</td>\n",
       "    </tr>\n",
       "    <tr>\n",
       "      <th>3</th>\n",
       "      <td>Organic Search</td>\n",
       "      <td>20171016</td>\n",
       "      <td>9075655783635761930</td>\n",
       "      <td>1508169851</td>\n",
       "      <td>1</td>\n",
       "      <td>2017-10-16 16:04:11</td>\n",
       "      <td>Chrome</td>\n",
       "      <td>desktop</td>\n",
       "      <td>False</td>\n",
       "      <td>Windows</td>\n",
       "      <td>not available in demo dataset</td>\n",
       "      <td>Asia</td>\n",
       "      <td>Turkey</td>\n",
       "      <td>not available in demo dataset</td>\n",
       "      <td>unknown.unknown</td>\n",
       "      <td>not available in demo dataset</td>\n",
       "      <td>Western Asia</td>\n",
       "      <td>NaN</td>\n",
       "      <td>2</td>\n",
       "      <td>1</td>\n",
       "      <td>2</td>\n",
       "      <td>1</td>\n",
       "      <td>1</td>\n",
       "      <td>NaN</td>\n",
       "      <td>NaN</td>\n",
       "      <td>NaN</td>\n",
       "      <td>NaN</td>\n",
       "      <td>(not set)</td>\n",
       "      <td>NaN</td>\n",
       "      <td>(not provided)</td>\n",
       "      <td>organic</td>\n",
       "      <td>NaN</td>\n",
       "      <td>google</td>\n",
       "      <td>4</td>\n",
       "      <td>EMEA</td>\n",
       "      <td>2017</td>\n",
       "      <td>10</td>\n",
       "      <td>16</td>\n",
       "      <td>0</td>\n",
       "    </tr>\n",
       "    <tr>\n",
       "      <th>4</th>\n",
       "      <td>Organic Search</td>\n",
       "      <td>20171016</td>\n",
       "      <td>6960673291025684308</td>\n",
       "      <td>1508190552</td>\n",
       "      <td>1</td>\n",
       "      <td>2017-10-16 21:49:12</td>\n",
       "      <td>Chrome</td>\n",
       "      <td>desktop</td>\n",
       "      <td>False</td>\n",
       "      <td>Windows</td>\n",
       "      <td>not available in demo dataset</td>\n",
       "      <td>Americas</td>\n",
       "      <td>Mexico</td>\n",
       "      <td>not available in demo dataset</td>\n",
       "      <td>prod-infinitum.com.mx</td>\n",
       "      <td>not available in demo dataset</td>\n",
       "      <td>Central America</td>\n",
       "      <td>NaN</td>\n",
       "      <td>2</td>\n",
       "      <td>1</td>\n",
       "      <td>2</td>\n",
       "      <td>1</td>\n",
       "      <td>52</td>\n",
       "      <td>NaN</td>\n",
       "      <td>NaN</td>\n",
       "      <td>NaN</td>\n",
       "      <td>NaN</td>\n",
       "      <td>(not set)</td>\n",
       "      <td>NaN</td>\n",
       "      <td>(not provided)</td>\n",
       "      <td>organic</td>\n",
       "      <td>NaN</td>\n",
       "      <td>google</td>\n",
       "      <td>4</td>\n",
       "      <td>Central America</td>\n",
       "      <td>2017</td>\n",
       "      <td>10</td>\n",
       "      <td>16</td>\n",
       "      <td>0</td>\n",
       "    </tr>\n",
       "  </tbody>\n",
       "</table>\n",
       "</div>"
      ],
      "text/plain": [
       "  channelGrouping      date        fullVisitorId     visitId  visitNumber  \\\n",
       "0  Organic Search  20171016  3162355547410993243  1508198450            1   \n",
       "1        Referral  20171016  8934116514970143966  1508176307            6   \n",
       "2          Direct  20171016  7992466427990357681  1508201613            1   \n",
       "3  Organic Search  20171016  9075655783635761930  1508169851            1   \n",
       "4  Organic Search  20171016  6960673291025684308  1508190552            1   \n",
       "\n",
       "       visitStartTime device_browser device_deviceCategory  device_isMobile  \\\n",
       "0 2017-10-17 00:00:50        Firefox               desktop            False   \n",
       "1 2017-10-16 17:51:47         Chrome               desktop            False   \n",
       "2 2017-10-17 00:53:33         Chrome                mobile             True   \n",
       "3 2017-10-16 16:04:11         Chrome               desktop            False   \n",
       "4 2017-10-16 21:49:12         Chrome               desktop            False   \n",
       "\n",
       "  device_operatingSystem                geoNetwork_city geoNetwork_continent  \\\n",
       "0                Windows  not available in demo dataset               Europe   \n",
       "1              Chrome OS                      Cupertino             Americas   \n",
       "2                Android  not available in demo dataset             Americas   \n",
       "3                Windows  not available in demo dataset                 Asia   \n",
       "4                Windows  not available in demo dataset             Americas   \n",
       "\n",
       "  geoNetwork_country                   geoNetwork_metro  \\\n",
       "0            Germany      not available in demo dataset   \n",
       "1      United States  San Francisco-Oakland-San Jose CA   \n",
       "2      United States      not available in demo dataset   \n",
       "3             Turkey      not available in demo dataset   \n",
       "4             Mexico      not available in demo dataset   \n",
       "\n",
       "  geoNetwork_networkDomain              geoNetwork_region  \\\n",
       "0                (not set)  not available in demo dataset   \n",
       "1                (not set)                     California   \n",
       "2      windjammercable.net  not available in demo dataset   \n",
       "3          unknown.unknown  not available in demo dataset   \n",
       "4    prod-infinitum.com.mx  not available in demo dataset   \n",
       "\n",
       "  geoNetwork_subContinent totals_bounces totals_hits totals_newVisits  \\\n",
       "0          Western Europe              1           1                1   \n",
       "1        Northern America            NaN           2              NaN   \n",
       "2        Northern America            NaN           2                1   \n",
       "3            Western Asia            NaN           2                1   \n",
       "4         Central America            NaN           2                1   \n",
       "\n",
       "  totals_pageviews totals_sessionQualityDim totals_timeOnSite  \\\n",
       "0                1                        1               NaN   \n",
       "1                2                        2                28   \n",
       "2                2                        1                38   \n",
       "3                2                        1                 1   \n",
       "4                2                        1                52   \n",
       "\n",
       "  totals_transactionRevenue totals_transactions trafficSource_adContent  \\\n",
       "0                       NaN                 NaN                     NaN   \n",
       "1                       NaN                 NaN                     NaN   \n",
       "2                       NaN                 NaN                     NaN   \n",
       "3                       NaN                 NaN                     NaN   \n",
       "4                       NaN                 NaN                     NaN   \n",
       "\n",
       "  trafficSource_adwordsClickInfo.page trafficSource_campaign  \\\n",
       "0                                 NaN              (not set)   \n",
       "1                                 NaN              (not set)   \n",
       "2                                 NaN              (not set)   \n",
       "3                                 NaN              (not set)   \n",
       "4                                 NaN              (not set)   \n",
       "\n",
       "  trafficSource_isTrueDirect trafficSource_keyword trafficSource_medium  \\\n",
       "0                        NaN          water bottle              organic   \n",
       "1                        NaN                   NaN             referral   \n",
       "2                       True                   NaN               (none)   \n",
       "3                        NaN        (not provided)              organic   \n",
       "4                        NaN        (not provided)              organic   \n",
       "\n",
       "                          trafficSource_referralPath trafficSource_source  \\\n",
       "0                                                NaN               google   \n",
       "1  /a/google.com/transportation/mtv-services/bike...     sites.google.com   \n",
       "2                                                NaN             (direct)   \n",
       "3                                                NaN               google   \n",
       "4                                                NaN               google   \n",
       "\n",
       "  customDimensions_index customDimensions_value  year  month  day  weekday  \n",
       "0                      4                   EMEA  2017     10   17        1  \n",
       "1                      4          North America  2017     10   16        0  \n",
       "2                      4          North America  2017     10   17        1  \n",
       "3                      4                   EMEA  2017     10   16        0  \n",
       "4                      4        Central America  2017     10   16        0  "
      ]
     },
     "execution_count": 9,
     "metadata": {},
     "output_type": "execute_result"
    }
   ],
   "source": [
    "train_df.head()"
   ]
  },
  {
   "cell_type": "markdown",
   "metadata": {},
   "source": [
    "In the target value, the NaN values means the customer doesn't spend any money on this view, so I fill them with 0."
   ]
  },
  {
   "cell_type": "code",
   "execution_count": 10,
   "metadata": {},
   "outputs": [],
   "source": [
    "train_df['totals_transactionRevenue'].fillna(0, inplace=True)\n",
    "train_df['totals_transactionRevenue']=pd.to_numeric(train_df['totals_transactionRevenue'])"
   ]
  },
  {
   "cell_type": "code",
   "execution_count": 11,
   "metadata": {
    "scrolled": true
   },
   "outputs": [
    {
     "data": {
      "text/plain": [
       "channelGrouping                                object\n",
       "date                                            int64\n",
       "fullVisitorId                                  object\n",
       "visitId                                         int64\n",
       "visitNumber                                     int64\n",
       "visitStartTime                         datetime64[ns]\n",
       "device_browser                                 object\n",
       "device_deviceCategory                          object\n",
       "device_isMobile                                  bool\n",
       "device_operatingSystem                         object\n",
       "geoNetwork_city                                object\n",
       "geoNetwork_continent                           object\n",
       "geoNetwork_country                             object\n",
       "geoNetwork_metro                               object\n",
       "geoNetwork_networkDomain                       object\n",
       "geoNetwork_region                              object\n",
       "geoNetwork_subContinent                        object\n",
       "totals_bounces                                 object\n",
       "totals_hits                                    object\n",
       "totals_newVisits                               object\n",
       "totals_pageviews                               object\n",
       "totals_sessionQualityDim                       object\n",
       "totals_timeOnSite                              object\n",
       "totals_transactionRevenue                       int64\n",
       "totals_transactions                            object\n",
       "trafficSource_adContent                        object\n",
       "trafficSource_adwordsClickInfo.page            object\n",
       "trafficSource_campaign                         object\n",
       "trafficSource_isTrueDirect                     object\n",
       "trafficSource_keyword                          object\n",
       "trafficSource_medium                           object\n",
       "trafficSource_referralPath                     object\n",
       "trafficSource_source                           object\n",
       "customDimensions_index                         object\n",
       "customDimensions_value                         object\n",
       "year                                            int64\n",
       "month                                           int64\n",
       "day                                             int64\n",
       "weekday                                         int64\n",
       "dtype: object"
      ]
     },
     "execution_count": 11,
     "metadata": {},
     "output_type": "execute_result"
    }
   ],
   "source": [
    "train_df.dtypes"
   ]
  },
  {
   "cell_type": "markdown",
   "metadata": {},
   "source": [
    "Load the test dataset."
   ]
  },
  {
   "cell_type": "code",
   "execution_count": 12,
   "metadata": {
    "scrolled": true
   },
   "outputs": [
    {
     "name": "stderr",
     "output_type": "stream",
     "text": [
      "/anaconda3/lib/python3.7/site-packages/ipykernel_launcher.py:16: SettingWithCopyWarning: \n",
      "A value is trying to be set on a copy of a slice from a DataFrame.\n",
      "Try using .loc[row_indexer,col_indexer] = value instead\n",
      "\n",
      "See the caveats in the documentation: http://pandas.pydata.org/pandas-docs/stable/indexing.html#indexing-view-versus-copy\n",
      "  app.launch_new_instance()\n",
      "/anaconda3/lib/python3.7/site-packages/ipykernel_launcher.py:17: SettingWithCopyWarning: \n",
      "A value is trying to be set on a copy of a slice from a DataFrame.\n",
      "Try using .loc[row_indexer,col_indexer] = value instead\n",
      "\n",
      "See the caveats in the documentation: http://pandas.pydata.org/pandas-docs/stable/indexing.html#indexing-view-versus-copy\n",
      "/anaconda3/lib/python3.7/site-packages/ipykernel_launcher.py:18: SettingWithCopyWarning: \n",
      "A value is trying to be set on a copy of a slice from a DataFrame.\n",
      "Try using .loc[row_indexer,col_indexer] = value instead\n",
      "\n",
      "See the caveats in the documentation: http://pandas.pydata.org/pandas-docs/stable/indexing.html#indexing-view-versus-copy\n",
      "/anaconda3/lib/python3.7/site-packages/ipykernel_launcher.py:19: SettingWithCopyWarning: \n",
      "A value is trying to be set on a copy of a slice from a DataFrame.\n",
      "Try using .loc[row_indexer,col_indexer] = value instead\n",
      "\n",
      "See the caveats in the documentation: http://pandas.pydata.org/pandas-docs/stable/indexing.html#indexing-view-versus-copy\n",
      "/anaconda3/lib/python3.7/site-packages/ipykernel_launcher.py:20: SettingWithCopyWarning: \n",
      "A value is trying to be set on a copy of a slice from a DataFrame.\n",
      "Try using .loc[row_indexer,col_indexer] = value instead\n",
      "\n",
      "See the caveats in the documentation: http://pandas.pydata.org/pandas-docs/stable/indexing.html#indexing-view-versus-copy\n"
     ]
    }
   ],
   "source": [
    "test_df = load_data('test_v2.csv')"
   ]
  },
  {
   "cell_type": "markdown",
   "metadata": {},
   "source": [
    "As this project is a competition, there is no target value in test data. And for convenience and consistency when encoding object type values, I make the target values in test dataset equal to NaN."
   ]
  },
  {
   "cell_type": "code",
   "execution_count": 13,
   "metadata": {},
   "outputs": [],
   "source": [
    "test_df['totals_transactionRevenue'] = np.nan"
   ]
  },
  {
   "cell_type": "markdown",
   "metadata": {},
   "source": [
    "Let's merge train data and test data together to handle the features."
   ]
  },
  {
   "cell_type": "code",
   "execution_count": 14,
   "metadata": {},
   "outputs": [],
   "source": [
    "big_df = train_df.append(test_df, sort=False).reset_index(drop=True)"
   ]
  },
  {
   "cell_type": "markdown",
   "metadata": {},
   "source": [
    "## Data handling"
   ]
  },
  {
   "cell_type": "markdown",
   "metadata": {},
   "source": [
    "First, let's check if there is NaN value in the big dataset."
   ]
  },
  {
   "cell_type": "code",
   "execution_count": 15,
   "metadata": {},
   "outputs": [
    {
     "name": "stdout",
     "output_type": "stream",
     "text": [
      "totals_pageviews                           340\n",
      "totals_transactionRevenue               401589\n",
      "totals_newVisits                        516431\n",
      "totals_sessionQualityDim                835274\n",
      "totals_bounces                         1055670\n",
      "totals_timeOnSite                      1057980\n",
      "trafficSource_keyword                  1093006\n",
      "trafficSource_referralPath             1142073\n",
      "trafficSource_isTrueDirect             1426999\n",
      "trafficSource_adContent                1643600\n",
      "trafficSource_adwordsClickInfo.page    2024047\n",
      "totals_transactions                    2085062\n",
      "dtype: int64\n"
     ]
    }
   ],
   "source": [
    "null_cols = big_df.isnull().sum().sort_values()\n",
    "print(null_cols[null_cols > 0])"
   ]
  },
  {
   "cell_type": "markdown",
   "metadata": {},
   "source": [
    "Except the target value there are 11 columns have NaN values, fill them with different ways according to the columns theirself."
   ]
  },
  {
   "cell_type": "markdown",
   "metadata": {},
   "source": [
    "As the every customer should visit at least 1 page, so fill NaN values in this columns with 1."
   ]
  },
  {
   "cell_type": "code",
   "execution_count": 16,
   "metadata": {},
   "outputs": [],
   "source": [
    "big_df['totals_pageviews'].fillna(1, inplace=True)\n",
    "big_df['totals_newVisits'].fillna(0, inplace=True)\n",
    "big_df['totals_sessionQualityDim'].fillna(0, inplace=True)\n",
    "big_df['totals_bounces'].fillna(0, inplace=True)\n",
    "big_df['totals_timeOnSite'].fillna(0, inplace=True)\n",
    "big_df['totals_transactions'].fillna(0, inplace=True)"
   ]
  },
  {
   "cell_type": "code",
   "execution_count": 17,
   "metadata": {},
   "outputs": [],
   "source": [
    "big_df['trafficSource_keyword'].fillna('(not provided)', inplace=True)\n",
    "big_df['trafficSource_referralPath'].fillna('/', inplace=True)\n",
    "big_df['trafficSource_isTrueDirect'].fillna(False, inplace=True)\n",
    "big_df['trafficSource_adContent'].fillna('unknown', inplace=True)\n",
    "big_df['trafficSource_adwordsClickInfo.page'].fillna(0, inplace=True)"
   ]
  },
  {
   "cell_type": "markdown",
   "metadata": {},
   "source": [
    "As other values in each columns, fill them with different values."
   ]
  },
  {
   "cell_type": "code",
   "execution_count": 18,
   "metadata": {},
   "outputs": [
    {
     "name": "stdout",
     "output_type": "stream",
     "text": [
      "totals_transactionRevenue    401589\n",
      "dtype: int64\n"
     ]
    }
   ],
   "source": [
    "null_cols = big_df.isnull().sum().sort_values()\n",
    "print(null_cols[null_cols > 0])"
   ]
  },
  {
   "cell_type": "markdown",
   "metadata": {},
   "source": [
    "There are some columns with integer, but them type is object, change them to integer."
   ]
  },
  {
   "cell_type": "code",
   "execution_count": 19,
   "metadata": {},
   "outputs": [],
   "source": [
    "big_df['totals_pageviews'] = big_df['totals_pageviews'].astype(int)\n",
    "big_df['totals_newVisits'] = big_df['totals_newVisits'].astype(int)\n",
    "big_df['totals_sessionQualityDim'] = big_df['totals_sessionQualityDim'].astype(int)\n",
    "big_df['totals_bounces'] = big_df['totals_bounces'].astype(int)\n",
    "big_df['totals_timeOnSite'] = big_df['totals_timeOnSite'].astype(int)\n",
    "big_df['totals_transactions'] = big_df['totals_transactions'].astype(int)\n",
    "big_df['totals_hits'] = big_df['totals_hits'].astype(int)\n",
    "big_df['trafficSource_adwordsClickInfo.page'] = big_df['trafficSource_adwordsClickInfo.page'].astype(int)"
   ]
  },
  {
   "cell_type": "code",
   "execution_count": 20,
   "metadata": {},
   "outputs": [
    {
     "name": "stdout",
     "output_type": "stream",
     "text": [
      "<class 'pandas.core.frame.DataFrame'>\n",
      "RangeIndex: 2109926 entries, 0 to 2109925\n",
      "Data columns (total 39 columns):\n",
      "channelGrouping                        object\n",
      "date                                   int64\n",
      "fullVisitorId                          object\n",
      "visitId                                int64\n",
      "visitNumber                            int64\n",
      "visitStartTime                         datetime64[ns]\n",
      "device_browser                         object\n",
      "device_deviceCategory                  object\n",
      "device_isMobile                        bool\n",
      "device_operatingSystem                 object\n",
      "geoNetwork_city                        object\n",
      "geoNetwork_continent                   object\n",
      "geoNetwork_country                     object\n",
      "geoNetwork_metro                       object\n",
      "geoNetwork_networkDomain               object\n",
      "geoNetwork_region                      object\n",
      "geoNetwork_subContinent                object\n",
      "totals_bounces                         int64\n",
      "totals_hits                            int64\n",
      "totals_newVisits                       int64\n",
      "totals_pageviews                       int64\n",
      "totals_sessionQualityDim               int64\n",
      "totals_timeOnSite                      int64\n",
      "totals_transactionRevenue              float64\n",
      "totals_transactions                    int64\n",
      "trafficSource_adContent                object\n",
      "trafficSource_adwordsClickInfo.page    int64\n",
      "trafficSource_campaign                 object\n",
      "trafficSource_isTrueDirect             bool\n",
      "trafficSource_keyword                  object\n",
      "trafficSource_medium                   object\n",
      "trafficSource_referralPath             object\n",
      "trafficSource_source                   object\n",
      "customDimensions_index                 object\n",
      "customDimensions_value                 object\n",
      "year                                   int64\n",
      "month                                  int64\n",
      "day                                    int64\n",
      "weekday                                int64\n",
      "dtypes: bool(2), datetime64[ns](1), float64(1), int64(15), object(20)\n",
      "memory usage: 599.6+ MB\n"
     ]
    }
   ],
   "source": [
    "big_df.info()"
   ]
  },
  {
   "cell_type": "markdown",
   "metadata": {},
   "source": [
    "Now let's see the information of big datafram, the memory usage is only about 600 MB, which is much small than the origin datasets. And there are 20 object type columns we need to encode."
   ]
  },
  {
   "cell_type": "markdown",
   "metadata": {},
   "source": [
    "Before encode features, let's drop some columns we already used."
   ]
  },
  {
   "cell_type": "code",
   "execution_count": 21,
   "metadata": {},
   "outputs": [],
   "source": [
    "big_df.drop(['date','visitId','visitStartTime'], axis=1, inplace=True)"
   ]
  },
  {
   "cell_type": "markdown",
   "metadata": {},
   "source": [
    "### Label Encoder"
   ]
  },
  {
   "cell_type": "markdown",
   "metadata": {},
   "source": [
    "Chage the boolean columns, first."
   ]
  },
  {
   "cell_type": "code",
   "execution_count": 23,
   "metadata": {},
   "outputs": [],
   "source": [
    "big_df['trafficSource_isTrueDirect'] = big_df['trafficSource_isTrueDirect'].astype(int)\n",
    "big_df['device_isMobile'] = big_df['device_isMobile'].astype(int)"
   ]
  },
  {
   "cell_type": "markdown",
   "metadata": {},
   "source": [
    "Before encoding, let's list all columns with object type."
   ]
  },
  {
   "cell_type": "code",
   "execution_count": 24,
   "metadata": {},
   "outputs": [],
   "source": [
    "le_col = []\n",
    "for c, t in big_df.loc[:,big_df.columns].dtypes.iteritems():\n",
    "    if t =='object' and (c != 'fullVisitorId' and c != 'totals_transactionRevenue'):\n",
    "        le_col.append(c)"
   ]
  },
  {
   "cell_type": "code",
   "execution_count": 25,
   "metadata": {},
   "outputs": [
    {
     "data": {
      "text/plain": [
       "['channelGrouping',\n",
       " 'device_browser',\n",
       " 'device_deviceCategory',\n",
       " 'device_operatingSystem',\n",
       " 'geoNetwork_city',\n",
       " 'geoNetwork_continent',\n",
       " 'geoNetwork_country',\n",
       " 'geoNetwork_metro',\n",
       " 'geoNetwork_networkDomain',\n",
       " 'geoNetwork_region',\n",
       " 'geoNetwork_subContinent',\n",
       " 'trafficSource_adContent',\n",
       " 'trafficSource_campaign',\n",
       " 'trafficSource_keyword',\n",
       " 'trafficSource_medium',\n",
       " 'trafficSource_referralPath',\n",
       " 'trafficSource_source',\n",
       " 'customDimensions_index',\n",
       " 'customDimensions_value']"
      ]
     },
     "execution_count": 25,
     "metadata": {},
     "output_type": "execute_result"
    }
   ],
   "source": [
    "le_col"
   ]
  },
  {
   "cell_type": "markdown",
   "metadata": {},
   "source": [
    "Use LabelEncoder function in sklearn library to encode object values in object columns."
   ]
  },
  {
   "cell_type": "code",
   "execution_count": 28,
   "metadata": {},
   "outputs": [],
   "source": [
    "for col in le_col:\n",
    "    le = LabelEncoder()\n",
    "    big_df[col] = le.fit_transform(big_df[col])"
   ]
  },
  {
   "cell_type": "code",
   "execution_count": 4,
   "metadata": {},
   "outputs": [
    {
     "name": "stdout",
     "output_type": "stream",
     "text": [
      "<class 'pandas.core.frame.DataFrame'>\n",
      "RangeIndex: 2109926 entries, 0 to 2109925\n",
      "Data columns (total 36 columns):\n",
      "channelGrouping                        int64\n",
      "fullVisitorId                          object\n",
      "visitNumber                            int64\n",
      "device_browser                         int64\n",
      "device_deviceCategory                  int64\n",
      "device_isMobile                        int64\n",
      "device_operatingSystem                 int64\n",
      "geoNetwork_city                        int64\n",
      "geoNetwork_continent                   int64\n",
      "geoNetwork_country                     int64\n",
      "geoNetwork_metro                       int64\n",
      "geoNetwork_networkDomain               int64\n",
      "geoNetwork_region                      int64\n",
      "geoNetwork_subContinent                int64\n",
      "totals_bounces                         int64\n",
      "totals_hits                            int64\n",
      "totals_newVisits                       int64\n",
      "totals_pageviews                       int64\n",
      "totals_sessionQualityDim               int64\n",
      "totals_timeOnSite                      int64\n",
      "totals_transactionRevenue              float64\n",
      "totals_transactions                    int64\n",
      "trafficSource_adContent                int64\n",
      "trafficSource_adwordsClickInfo.page    int64\n",
      "trafficSource_campaign                 int64\n",
      "trafficSource_isTrueDirect             int64\n",
      "trafficSource_keyword                  int64\n",
      "trafficSource_medium                   int64\n",
      "trafficSource_referralPath             int64\n",
      "trafficSource_source                   int64\n",
      "customDimensions_index                 int64\n",
      "customDimensions_value                 int64\n",
      "year                                   int64\n",
      "month                                  int64\n",
      "day                                    int64\n",
      "weekday                                int64\n",
      "dtypes: float64(1), int64(34), object(1)\n",
      "memory usage: 579.5+ MB\n"
     ]
    }
   ],
   "source": [
    "big_df.info()"
   ]
  },
  {
   "cell_type": "markdown",
   "metadata": {},
   "source": [
    "Now as expect, all columns' type is numeric, except fullVisitorId."
   ]
  },
  {
   "cell_type": "code",
   "execution_count": 31,
   "metadata": {},
   "outputs": [],
   "source": [
    "if use_intermediate_results == False:\n",
    "    big_df.to_pickle('big_data.pkl')"
   ]
  },
  {
   "cell_type": "code",
   "execution_count": 3,
   "metadata": {},
   "outputs": [],
   "source": [
    "if use_intermediate_results == True:\n",
    "    big_df = pd.read_pickle('big_data.pkl')"
   ]
  },
  {
   "cell_type": "markdown",
   "metadata": {},
   "source": [
    "### Groupe every customer with their ID"
   ]
  },
  {
   "cell_type": "markdown",
   "metadata": {},
   "source": [
    "The target is to predict every customer revenue in the Gstore, and row in the datasets is the record of every view of every customer. So we should combine all views belong to same customer (same fullVisitorId)."
   ]
  },
  {
   "cell_type": "markdown",
   "metadata": {},
   "source": [
    "When merge rows with same fullVisitorId, we need to decide what to do with columns. I use some diferent ways to different columns to get better result."
   ]
  },
  {
   "cell_type": "code",
   "execution_count": 20,
   "metadata": {},
   "outputs": [],
   "source": [
    "to_median = ['channelGrouping', 'device_browser', 'device_deviceCategory', 'device_isMobile', \n",
    "             'device_operatingSystem', 'geoNetwork_city', 'geoNetwork_continent', 'geoNetwork_country', \n",
    "             'geoNetwork_metro', 'geoNetwork_networkDomain', 'geoNetwork_region', 'geoNetwork_subContinent', \n",
    "             'trafficSource_adContent', 'trafficSource_adwordsClickInfo.page', 'trafficSource_campaign', \n",
    "             'trafficSource_isTrueDirect', 'trafficSource_keyword', 'trafficSource_medium', \n",
    "             'trafficSource_referralPath', 'trafficSource_source', 'customDimensions_index', \n",
    "             'customDimensions_value', 'year', 'month', 'day', 'weekday']\n",
    "to_sum = ['visitNumber', 'totals_bounces', 'totals_hits', 'totals_newVisits', 'totals_pageviews', \n",
    "          'totals_timeOnSite', 'totals_transactions']\n",
    "to_mean = ['totals_bounces', 'totals_hits', 'totals_newVisits', 'totals_pageviews', 'totals_sessionQualityDim', \n",
    "          'totals_timeOnSite']\n",
    "to_std = ['totals_bounces', 'totals_hits', 'totals_pageviews', 'totals_timeOnSite']"
   ]
  },
  {
   "cell_type": "markdown",
   "metadata": {},
   "source": [
    "Like channelGrouping and device_browser columns, get their median value is enough, and for totals_bounces and some other columns I get their sum, mean and standard decitation."
   ]
  },
  {
   "cell_type": "markdown",
   "metadata": {},
   "source": [
    "When we do lable encoding, we merge train data and test data together to keep the consistency. But after that, we should not group customer both in train set and test set, so I split them."
   ]
  },
  {
   "cell_type": "code",
   "execution_count": 21,
   "metadata": {},
   "outputs": [],
   "source": [
    "train_df = big_df[big_df['totals_transactionRevenue'].notnull()]\n",
    "test_df = big_df[big_df['totals_transactionRevenue'].isnull()].drop(['totals_transactionRevenue'], axis=1)"
   ]
  },
  {
   "cell_type": "code",
   "execution_count": 22,
   "metadata": {},
   "outputs": [
    {
     "data": {
      "text/plain": [
       "(1708337, 36)"
      ]
     },
     "execution_count": 22,
     "metadata": {},
     "output_type": "execute_result"
    }
   ],
   "source": [
    "train_df.shape"
   ]
  },
  {
   "cell_type": "code",
   "execution_count": 23,
   "metadata": {},
   "outputs": [
    {
     "data": {
      "text/plain": [
       "(401589, 35)"
      ]
     },
     "execution_count": 23,
     "metadata": {},
     "output_type": "execute_result"
    }
   ],
   "source": [
    "test_df.shape"
   ]
  },
  {
   "cell_type": "markdown",
   "metadata": {},
   "source": [
    "They have same shape as before, means we are doing right thing."
   ]
  },
  {
   "cell_type": "code",
   "execution_count": 44,
   "metadata": {},
   "outputs": [],
   "source": [
    "train = train_df.groupby('fullVisitorId')[to_median].median().add_suffix('_median')\n",
    "sum_df = train_df.groupby('fullVisitorId')[to_sum].sum().add_suffix('_sum')\n",
    "mean_df = train_df.groupby('fullVisitorId')[to_mean].mean().add_suffix('_mean')\n",
    "std_df = train_df.groupby('fullVisitorId')[to_std].std(ddof=0).add_suffix('_std')"
   ]
  },
  {
   "cell_type": "code",
   "execution_count": 45,
   "metadata": {},
   "outputs": [],
   "source": [
    "train = train.merge(sum_df.reset_index(),how='left', on='fullVisitorId')\n",
    "train = train.merge(mean_df.reset_index(),how='left', on='fullVisitorId')\n",
    "train = train.merge(std_df.reset_index(),how='left', on='fullVisitorId')\n",
    "train = train.merge(train_df.groupby('fullVisitorId')['totals_transactionRevenue'].sum().reset_index(),how='left', on='fullVisitorId')"
   ]
  },
  {
   "cell_type": "code",
   "execution_count": 46,
   "metadata": {},
   "outputs": [
    {
     "data": {
      "text/html": [
       "<div>\n",
       "<style scoped>\n",
       "    .dataframe tbody tr th:only-of-type {\n",
       "        vertical-align: middle;\n",
       "    }\n",
       "\n",
       "    .dataframe tbody tr th {\n",
       "        vertical-align: top;\n",
       "    }\n",
       "\n",
       "    .dataframe thead th {\n",
       "        text-align: right;\n",
       "    }\n",
       "</style>\n",
       "<table border=\"1\" class=\"dataframe\">\n",
       "  <thead>\n",
       "    <tr style=\"text-align: right;\">\n",
       "      <th></th>\n",
       "      <th>fullVisitorId</th>\n",
       "      <th>channelGrouping_median</th>\n",
       "      <th>device_browser_median</th>\n",
       "      <th>device_deviceCategory_median</th>\n",
       "      <th>device_isMobile_median</th>\n",
       "      <th>device_operatingSystem_median</th>\n",
       "      <th>geoNetwork_city_median</th>\n",
       "      <th>geoNetwork_continent_median</th>\n",
       "      <th>geoNetwork_country_median</th>\n",
       "      <th>geoNetwork_metro_median</th>\n",
       "      <th>...</th>\n",
       "      <th>totals_hits_mean</th>\n",
       "      <th>totals_newVisits_mean</th>\n",
       "      <th>totals_pageviews_mean</th>\n",
       "      <th>totals_sessionQualityDim_mean</th>\n",
       "      <th>totals_timeOnSite_mean</th>\n",
       "      <th>totals_bounces_std</th>\n",
       "      <th>totals_hits_std</th>\n",
       "      <th>totals_pageviews_std</th>\n",
       "      <th>totals_timeOnSite_std</th>\n",
       "      <th>totals_transactionRevenue</th>\n",
       "    </tr>\n",
       "  </thead>\n",
       "  <tbody>\n",
       "    <tr>\n",
       "      <th>0</th>\n",
       "      <td>0000000259678714014</td>\n",
       "      <td>4.0</td>\n",
       "      <td>55.0</td>\n",
       "      <td>0.0</td>\n",
       "      <td>0.0</td>\n",
       "      <td>7.0</td>\n",
       "      <td>621.0</td>\n",
       "      <td>2.0</td>\n",
       "      <td>219.0</td>\n",
       "      <td>104.0</td>\n",
       "      <td>...</td>\n",
       "      <td>9.5</td>\n",
       "      <td>0.5</td>\n",
       "      <td>6.5</td>\n",
       "      <td>6.0</td>\n",
       "      <td>64.5</td>\n",
       "      <td>0.0</td>\n",
       "      <td>6.5</td>\n",
       "      <td>3.5</td>\n",
       "      <td>7.5</td>\n",
       "      <td>0.0</td>\n",
       "    </tr>\n",
       "    <tr>\n",
       "      <th>1</th>\n",
       "      <td>0000010278554503158</td>\n",
       "      <td>4.0</td>\n",
       "      <td>55.0</td>\n",
       "      <td>0.0</td>\n",
       "      <td>0.0</td>\n",
       "      <td>7.0</td>\n",
       "      <td>1096.0</td>\n",
       "      <td>5.0</td>\n",
       "      <td>146.0</td>\n",
       "      <td>129.0</td>\n",
       "      <td>...</td>\n",
       "      <td>11.0</td>\n",
       "      <td>1.0</td>\n",
       "      <td>8.0</td>\n",
       "      <td>0.0</td>\n",
       "      <td>194.0</td>\n",
       "      <td>0.0</td>\n",
       "      <td>0.0</td>\n",
       "      <td>0.0</td>\n",
       "      <td>0.0</td>\n",
       "      <td>0.0</td>\n",
       "    </tr>\n",
       "    <tr>\n",
       "      <th>2</th>\n",
       "      <td>0000020424342248747</td>\n",
       "      <td>4.0</td>\n",
       "      <td>55.0</td>\n",
       "      <td>0.0</td>\n",
       "      <td>0.0</td>\n",
       "      <td>22.0</td>\n",
       "      <td>490.0</td>\n",
       "      <td>2.0</td>\n",
       "      <td>160.0</td>\n",
       "      <td>0.0</td>\n",
       "      <td>...</td>\n",
       "      <td>17.0</td>\n",
       "      <td>1.0</td>\n",
       "      <td>13.0</td>\n",
       "      <td>0.0</td>\n",
       "      <td>297.0</td>\n",
       "      <td>0.0</td>\n",
       "      <td>0.0</td>\n",
       "      <td>0.0</td>\n",
       "      <td>0.0</td>\n",
       "      <td>0.0</td>\n",
       "    </tr>\n",
       "    <tr>\n",
       "      <th>3</th>\n",
       "      <td>0000027376579751715</td>\n",
       "      <td>4.0</td>\n",
       "      <td>55.0</td>\n",
       "      <td>0.0</td>\n",
       "      <td>0.0</td>\n",
       "      <td>7.0</td>\n",
       "      <td>1096.0</td>\n",
       "      <td>2.0</td>\n",
       "      <td>219.0</td>\n",
       "      <td>129.0</td>\n",
       "      <td>...</td>\n",
       "      <td>6.0</td>\n",
       "      <td>1.0</td>\n",
       "      <td>5.0</td>\n",
       "      <td>0.0</td>\n",
       "      <td>49.0</td>\n",
       "      <td>0.0</td>\n",
       "      <td>0.0</td>\n",
       "      <td>0.0</td>\n",
       "      <td>0.0</td>\n",
       "      <td>0.0</td>\n",
       "    </tr>\n",
       "    <tr>\n",
       "      <th>4</th>\n",
       "      <td>0000039460501403861</td>\n",
       "      <td>7.0</td>\n",
       "      <td>55.0</td>\n",
       "      <td>0.0</td>\n",
       "      <td>0.0</td>\n",
       "      <td>22.0</td>\n",
       "      <td>1096.0</td>\n",
       "      <td>2.0</td>\n",
       "      <td>28.0</td>\n",
       "      <td>129.0</td>\n",
       "      <td>...</td>\n",
       "      <td>2.0</td>\n",
       "      <td>1.0</td>\n",
       "      <td>2.0</td>\n",
       "      <td>0.0</td>\n",
       "      <td>99.0</td>\n",
       "      <td>0.0</td>\n",
       "      <td>0.0</td>\n",
       "      <td>0.0</td>\n",
       "      <td>0.0</td>\n",
       "      <td>0.0</td>\n",
       "    </tr>\n",
       "  </tbody>\n",
       "</table>\n",
       "<p>5 rows × 45 columns</p>\n",
       "</div>"
      ],
      "text/plain": [
       "         fullVisitorId  channelGrouping_median  device_browser_median  \\\n",
       "0  0000000259678714014                     4.0                   55.0   \n",
       "1  0000010278554503158                     4.0                   55.0   \n",
       "2  0000020424342248747                     4.0                   55.0   \n",
       "3  0000027376579751715                     4.0                   55.0   \n",
       "4  0000039460501403861                     7.0                   55.0   \n",
       "\n",
       "   device_deviceCategory_median  device_isMobile_median  \\\n",
       "0                           0.0                     0.0   \n",
       "1                           0.0                     0.0   \n",
       "2                           0.0                     0.0   \n",
       "3                           0.0                     0.0   \n",
       "4                           0.0                     0.0   \n",
       "\n",
       "   device_operatingSystem_median  geoNetwork_city_median  \\\n",
       "0                            7.0                   621.0   \n",
       "1                            7.0                  1096.0   \n",
       "2                           22.0                   490.0   \n",
       "3                            7.0                  1096.0   \n",
       "4                           22.0                  1096.0   \n",
       "\n",
       "   geoNetwork_continent_median  geoNetwork_country_median  \\\n",
       "0                          2.0                      219.0   \n",
       "1                          5.0                      146.0   \n",
       "2                          2.0                      160.0   \n",
       "3                          2.0                      219.0   \n",
       "4                          2.0                       28.0   \n",
       "\n",
       "   geoNetwork_metro_median  ...  totals_hits_mean  totals_newVisits_mean  \\\n",
       "0                    104.0  ...               9.5                    0.5   \n",
       "1                    129.0  ...              11.0                    1.0   \n",
       "2                      0.0  ...              17.0                    1.0   \n",
       "3                    129.0  ...               6.0                    1.0   \n",
       "4                    129.0  ...               2.0                    1.0   \n",
       "\n",
       "   totals_pageviews_mean  totals_sessionQualityDim_mean  \\\n",
       "0                    6.5                            6.0   \n",
       "1                    8.0                            0.0   \n",
       "2                   13.0                            0.0   \n",
       "3                    5.0                            0.0   \n",
       "4                    2.0                            0.0   \n",
       "\n",
       "   totals_timeOnSite_mean  totals_bounces_std  totals_hits_std  \\\n",
       "0                    64.5                 0.0              6.5   \n",
       "1                   194.0                 0.0              0.0   \n",
       "2                   297.0                 0.0              0.0   \n",
       "3                    49.0                 0.0              0.0   \n",
       "4                    99.0                 0.0              0.0   \n",
       "\n",
       "   totals_pageviews_std  totals_timeOnSite_std  totals_transactionRevenue  \n",
       "0                   3.5                    7.5                        0.0  \n",
       "1                   0.0                    0.0                        0.0  \n",
       "2                   0.0                    0.0                        0.0  \n",
       "3                   0.0                    0.0                        0.0  \n",
       "4                   0.0                    0.0                        0.0  \n",
       "\n",
       "[5 rows x 45 columns]"
      ]
     },
     "execution_count": 46,
     "metadata": {},
     "output_type": "execute_result"
    }
   ],
   "source": [
    "train.head()"
   ]
  },
  {
   "cell_type": "code",
   "execution_count": 47,
   "metadata": {},
   "outputs": [],
   "source": [
    "if use_intermediate_results == False:\n",
    "    train.to_pickle('train.pkl')"
   ]
  },
  {
   "cell_type": "code",
   "execution_count": 5,
   "metadata": {},
   "outputs": [],
   "source": [
    "if use_intermediate_results == True:\n",
    "    train = pd.read_pickle('train.pkl')"
   ]
  },
  {
   "cell_type": "markdown",
   "metadata": {},
   "source": [
    "After complete train set, let's do the same thing in test set."
   ]
  },
  {
   "cell_type": "code",
   "execution_count": 28,
   "metadata": {},
   "outputs": [],
   "source": [
    "test = test_df.groupby('fullVisitorId')[to_median].median().add_suffix('_median')\n",
    "sum_df = test_df.groupby('fullVisitorId')[to_sum].sum().add_suffix('_sum')\n",
    "mean_df = test_df.groupby('fullVisitorId')[to_mean].mean().add_suffix('_mean')\n",
    "std_df = test_df.groupby('fullVisitorId')[to_std].std(ddof=0).add_suffix('_std')"
   ]
  },
  {
   "cell_type": "code",
   "execution_count": 29,
   "metadata": {},
   "outputs": [],
   "source": [
    "test = test.merge(sum_df.reset_index(),how='left', on='fullVisitorId')\n",
    "test = test.merge(mean_df.reset_index(),how='left', on='fullVisitorId')\n",
    "test = test.merge(std_df.reset_index(),how='left', on='fullVisitorId')"
   ]
  },
  {
   "cell_type": "code",
   "execution_count": 36,
   "metadata": {},
   "outputs": [
    {
     "data": {
      "text/html": [
       "<div>\n",
       "<style scoped>\n",
       "    .dataframe tbody tr th:only-of-type {\n",
       "        vertical-align: middle;\n",
       "    }\n",
       "\n",
       "    .dataframe tbody tr th {\n",
       "        vertical-align: top;\n",
       "    }\n",
       "\n",
       "    .dataframe thead th {\n",
       "        text-align: right;\n",
       "    }\n",
       "</style>\n",
       "<table border=\"1\" class=\"dataframe\">\n",
       "  <thead>\n",
       "    <tr style=\"text-align: right;\">\n",
       "      <th></th>\n",
       "      <th>fullVisitorId</th>\n",
       "      <th>channelGrouping_median</th>\n",
       "      <th>device_browser_median</th>\n",
       "      <th>device_deviceCategory_median</th>\n",
       "      <th>device_isMobile_median</th>\n",
       "      <th>device_operatingSystem_median</th>\n",
       "      <th>geoNetwork_city_median</th>\n",
       "      <th>geoNetwork_continent_median</th>\n",
       "      <th>geoNetwork_country_median</th>\n",
       "      <th>geoNetwork_metro_median</th>\n",
       "      <th>...</th>\n",
       "      <th>totals_bounces_mean</th>\n",
       "      <th>totals_hits_mean</th>\n",
       "      <th>totals_newVisits_mean</th>\n",
       "      <th>totals_pageviews_mean</th>\n",
       "      <th>totals_sessionQualityDim_mean</th>\n",
       "      <th>totals_timeOnSite_mean</th>\n",
       "      <th>totals_bounces_std</th>\n",
       "      <th>totals_hits_std</th>\n",
       "      <th>totals_pageviews_std</th>\n",
       "      <th>totals_timeOnSite_std</th>\n",
       "    </tr>\n",
       "  </thead>\n",
       "  <tbody>\n",
       "    <tr>\n",
       "      <th>0</th>\n",
       "      <td>0000018966949534117</td>\n",
       "      <td>4.0</td>\n",
       "      <td>55.0</td>\n",
       "      <td>0.0</td>\n",
       "      <td>0.0</td>\n",
       "      <td>7.0</td>\n",
       "      <td>861.0</td>\n",
       "      <td>2.0</td>\n",
       "      <td>219.0</td>\n",
       "      <td>104.0</td>\n",
       "      <td>...</td>\n",
       "      <td>0.0</td>\n",
       "      <td>7.0</td>\n",
       "      <td>1.0</td>\n",
       "      <td>7.0</td>\n",
       "      <td>1.0</td>\n",
       "      <td>131.0</td>\n",
       "      <td>0.0</td>\n",
       "      <td>0.0</td>\n",
       "      <td>0.0</td>\n",
       "      <td>0.0</td>\n",
       "    </tr>\n",
       "    <tr>\n",
       "      <th>1</th>\n",
       "      <td>0000039738481224681</td>\n",
       "      <td>2.0</td>\n",
       "      <td>55.0</td>\n",
       "      <td>1.0</td>\n",
       "      <td>1.0</td>\n",
       "      <td>1.0</td>\n",
       "      <td>1096.0</td>\n",
       "      <td>2.0</td>\n",
       "      <td>219.0</td>\n",
       "      <td>129.0</td>\n",
       "      <td>...</td>\n",
       "      <td>1.0</td>\n",
       "      <td>1.0</td>\n",
       "      <td>1.0</td>\n",
       "      <td>1.0</td>\n",
       "      <td>1.0</td>\n",
       "      <td>0.0</td>\n",
       "      <td>0.0</td>\n",
       "      <td>0.0</td>\n",
       "      <td>0.0</td>\n",
       "      <td>0.0</td>\n",
       "    </tr>\n",
       "    <tr>\n",
       "      <th>2</th>\n",
       "      <td>0000073585230191399</td>\n",
       "      <td>4.0</td>\n",
       "      <td>102.0</td>\n",
       "      <td>1.0</td>\n",
       "      <td>1.0</td>\n",
       "      <td>25.0</td>\n",
       "      <td>1096.0</td>\n",
       "      <td>2.0</td>\n",
       "      <td>219.0</td>\n",
       "      <td>129.0</td>\n",
       "      <td>...</td>\n",
       "      <td>1.0</td>\n",
       "      <td>1.0</td>\n",
       "      <td>1.0</td>\n",
       "      <td>1.0</td>\n",
       "      <td>1.0</td>\n",
       "      <td>0.0</td>\n",
       "      <td>0.0</td>\n",
       "      <td>0.0</td>\n",
       "      <td>0.0</td>\n",
       "      <td>0.0</td>\n",
       "    </tr>\n",
       "    <tr>\n",
       "      <th>3</th>\n",
       "      <td>0000087588448856385</td>\n",
       "      <td>4.0</td>\n",
       "      <td>55.0</td>\n",
       "      <td>0.0</td>\n",
       "      <td>0.0</td>\n",
       "      <td>22.0</td>\n",
       "      <td>1096.0</td>\n",
       "      <td>3.0</td>\n",
       "      <td>202.0</td>\n",
       "      <td>129.0</td>\n",
       "      <td>...</td>\n",
       "      <td>1.0</td>\n",
       "      <td>1.0</td>\n",
       "      <td>1.0</td>\n",
       "      <td>1.0</td>\n",
       "      <td>1.0</td>\n",
       "      <td>0.0</td>\n",
       "      <td>0.0</td>\n",
       "      <td>0.0</td>\n",
       "      <td>0.0</td>\n",
       "      <td>0.0</td>\n",
       "    </tr>\n",
       "    <tr>\n",
       "      <th>4</th>\n",
       "      <td>0000149787903119437</td>\n",
       "      <td>4.0</td>\n",
       "      <td>55.0</td>\n",
       "      <td>1.0</td>\n",
       "      <td>1.0</td>\n",
       "      <td>1.0</td>\n",
       "      <td>1096.0</td>\n",
       "      <td>4.0</td>\n",
       "      <td>174.0</td>\n",
       "      <td>129.0</td>\n",
       "      <td>...</td>\n",
       "      <td>1.0</td>\n",
       "      <td>1.0</td>\n",
       "      <td>1.0</td>\n",
       "      <td>1.0</td>\n",
       "      <td>1.0</td>\n",
       "      <td>0.0</td>\n",
       "      <td>0.0</td>\n",
       "      <td>0.0</td>\n",
       "      <td>0.0</td>\n",
       "      <td>0.0</td>\n",
       "    </tr>\n",
       "  </tbody>\n",
       "</table>\n",
       "<p>5 rows × 44 columns</p>\n",
       "</div>"
      ],
      "text/plain": [
       "         fullVisitorId  channelGrouping_median  device_browser_median  \\\n",
       "0  0000018966949534117                     4.0                   55.0   \n",
       "1  0000039738481224681                     2.0                   55.0   \n",
       "2  0000073585230191399                     4.0                  102.0   \n",
       "3  0000087588448856385                     4.0                   55.0   \n",
       "4  0000149787903119437                     4.0                   55.0   \n",
       "\n",
       "   device_deviceCategory_median  device_isMobile_median  \\\n",
       "0                           0.0                     0.0   \n",
       "1                           1.0                     1.0   \n",
       "2                           1.0                     1.0   \n",
       "3                           0.0                     0.0   \n",
       "4                           1.0                     1.0   \n",
       "\n",
       "   device_operatingSystem_median  geoNetwork_city_median  \\\n",
       "0                            7.0                   861.0   \n",
       "1                            1.0                  1096.0   \n",
       "2                           25.0                  1096.0   \n",
       "3                           22.0                  1096.0   \n",
       "4                            1.0                  1096.0   \n",
       "\n",
       "   geoNetwork_continent_median  geoNetwork_country_median  \\\n",
       "0                          2.0                      219.0   \n",
       "1                          2.0                      219.0   \n",
       "2                          2.0                      219.0   \n",
       "3                          3.0                      202.0   \n",
       "4                          4.0                      174.0   \n",
       "\n",
       "   geoNetwork_metro_median  ...  totals_bounces_mean  totals_hits_mean  \\\n",
       "0                    104.0  ...                  0.0               7.0   \n",
       "1                    129.0  ...                  1.0               1.0   \n",
       "2                    129.0  ...                  1.0               1.0   \n",
       "3                    129.0  ...                  1.0               1.0   \n",
       "4                    129.0  ...                  1.0               1.0   \n",
       "\n",
       "   totals_newVisits_mean  totals_pageviews_mean  \\\n",
       "0                    1.0                    7.0   \n",
       "1                    1.0                    1.0   \n",
       "2                    1.0                    1.0   \n",
       "3                    1.0                    1.0   \n",
       "4                    1.0                    1.0   \n",
       "\n",
       "   totals_sessionQualityDim_mean  totals_timeOnSite_mean  totals_bounces_std  \\\n",
       "0                            1.0                   131.0                 0.0   \n",
       "1                            1.0                     0.0                 0.0   \n",
       "2                            1.0                     0.0                 0.0   \n",
       "3                            1.0                     0.0                 0.0   \n",
       "4                            1.0                     0.0                 0.0   \n",
       "\n",
       "   totals_hits_std  totals_pageviews_std  totals_timeOnSite_std  \n",
       "0              0.0                   0.0                    0.0  \n",
       "1              0.0                   0.0                    0.0  \n",
       "2              0.0                   0.0                    0.0  \n",
       "3              0.0                   0.0                    0.0  \n",
       "4              0.0                   0.0                    0.0  \n",
       "\n",
       "[5 rows x 44 columns]"
      ]
     },
     "execution_count": 36,
     "metadata": {},
     "output_type": "execute_result"
    }
   ],
   "source": [
    "test.head()"
   ]
  },
  {
   "cell_type": "code",
   "execution_count": 35,
   "metadata": {},
   "outputs": [],
   "source": [
    "if use_intermediate_results == False:\n",
    "    test.to_pickle('test.pkl')"
   ]
  },
  {
   "cell_type": "code",
   "execution_count": 4,
   "metadata": {},
   "outputs": [],
   "source": [
    "if use_intermediate_results == True:\n",
    "    test = pd.read_pickle('test.pkl')"
   ]
  },
  {
   "cell_type": "markdown",
   "metadata": {},
   "source": [
    "## Prediction"
   ]
  },
  {
   "cell_type": "code",
   "execution_count": 6,
   "metadata": {},
   "outputs": [],
   "source": [
    "X = train.drop(['fullVisitorId','totals_transactionRevenue'], axis=1)"
   ]
  },
  {
   "cell_type": "markdown",
   "metadata": {},
   "source": [
    "We are predicting the natural log of the sum of all transactions per user. "
   ]
  },
  {
   "cell_type": "markdown",
   "metadata": {},
   "source": [
    "For every user in the test set, the target is: \n",
    "$$ target_{user}=ln(y_{user}+1)$$"
   ]
  },
  {
   "cell_type": "markdown",
   "metadata": {},
   "source": [
    "So let's use the equation to change y in train set."
   ]
  },
  {
   "cell_type": "code",
   "execution_count": 7,
   "metadata": {},
   "outputs": [],
   "source": [
    "y = np.log1p(train['totals_transactionRevenue'])"
   ]
  },
  {
   "cell_type": "code",
   "execution_count": 8,
   "metadata": {},
   "outputs": [],
   "source": [
    "import xgboost as xgb\n",
    "from sklearn.model_selection import train_test_split"
   ]
  },
  {
   "cell_type": "markdown",
   "metadata": {},
   "source": [
    "Use $train\\_test\\_split()$ function to split the train set to train subset and validation subset."
   ]
  },
  {
   "cell_type": "code",
   "execution_count": 9,
   "metadata": {},
   "outputs": [],
   "source": [
    "random_state = 2\n",
    "X_train, X_val, y_train, y_val =  train_test_split(X, y, test_size=.2, random_state=random_state)"
   ]
  },
  {
   "cell_type": "markdown",
   "metadata": {},
   "source": [
    "As what we see in Data explore part, the $98.9\\%$  of value we will predict is NaN, it we use decision tree to split data in to NaN and not NaN, and continue to predict the value may be a good idea, so model like random forest and xgboost may have good performance. And as experience, the xgboost perform very well in machine learning. So I try to use this model to predict first."
   ]
  },
  {
   "cell_type": "code",
   "execution_count": 96,
   "metadata": {},
   "outputs": [
    {
     "data": {
      "text/plain": [
       "XGBRegressor(alpha=0.5, base_score=0.5, booster='gbtree',\n",
       "       colsample_bylevel=0.5, colsample_bynode=1, colsample_bytree=0.054,\n",
       "       gamma=1.45, importance_type='total_gain', learning_rate=0.015,\n",
       "       max_delta_step=0, max_depth=10, min_child_weight=40, missing=None,\n",
       "       n_estimators=100, n_jobs=-1, nthread=None, objective='reg:linear',\n",
       "       random_state=0, reg_alpha=0, reg_lambda=1, scale_pos_weight=1,\n",
       "       seed=None, silent=None, subsample=0.67, verbosity=1)"
      ]
     },
     "execution_count": 96,
     "metadata": {},
     "output_type": "execute_result"
    }
   ],
   "source": [
    "xgb_reg = xgb.XGBRegressor(objective= 'reg:linear',\n",
    "        booster= 'gbtree',\n",
    "        learning_rate= 0.015,\n",
    "        max_depth= 10,\n",
    "        min_child_weight= 40,\n",
    "        gamma= 1.45,\n",
    "        alpha= 0.2,\n",
    "        subsample= 0.67,\n",
    "        colsample_bytree= 0.054,\n",
    "        colsample_bylevel= 0.50,\n",
    "        n_jobs= -1,\n",
    "        importance_type = 'total_gain',\n",
    "        n_estimators=100)\n",
    "xgb_reg"
   ]
  },
  {
   "cell_type": "code",
   "execution_count": 133,
   "metadata": {},
   "outputs": [
    {
     "data": {
      "text/plain": [
       "XGBRegressor(alpha=5.0, base_score=0.5, booster='gbtree',\n",
       "       colsample_bylevel=0.5, colsample_bynode=1, colsample_bytree=0.054,\n",
       "       gamma=1.45, importance_type='total_gain', learning_rate=0.015,\n",
       "       max_delta_step=0, max_depth=10, min_child_weight=40, missing=None,\n",
       "       n_estimators=100, n_jobs=-1, nthread=None,\n",
       "       objective='reg:squarederror', random_state=0, reg_alpha=0,\n",
       "       reg_lambda=1, scale_pos_weight=1, seed=None, silent=None,\n",
       "       subsample=0.5, verbosity=1)"
      ]
     },
     "execution_count": 133,
     "metadata": {},
     "output_type": "execute_result"
    }
   ],
   "source": [
    "xgb_reg = xgb.XGBRegressor(objective= 'reg:squarederror',\n",
    "        booster= 'gbtree',\n",
    "        learning_rate= 0.015,\n",
    "        max_depth= 10,\n",
    "        min_child_weight= 40,\n",
    "        gamma= 1.45,\n",
    "        alpha= 5.0,\n",
    "        subsample= 0.67,\n",
    "        colsample_bytree= 0.054,\n",
    "        colsample_bylevel= 0.50,\n",
    "        n_jobs= -1,\n",
    "        importance_type = 'total_gain',\n",
    "        n_estimators=100)\n",
    "xgb_reg"
   ]
  },
  {
   "cell_type": "code",
   "execution_count": 134,
   "metadata": {},
   "outputs": [
    {
     "name": "stdout",
     "output_type": "stream",
     "text": [
      "[0]\tvalidation_0-rmse:1.97568\tvalidation_1-rmse:1.95676\n",
      "[1]\tvalidation_0-rmse:1.94797\tvalidation_1-rmse:1.92877\n",
      "[2]\tvalidation_0-rmse:1.94772\tvalidation_1-rmse:1.92679\n",
      "[3]\tvalidation_0-rmse:1.94781\tvalidation_1-rmse:1.92673\n",
      "[4]\tvalidation_0-rmse:1.94624\tvalidation_1-rmse:1.92407\n",
      "[5]\tvalidation_0-rmse:1.94537\tvalidation_1-rmse:1.92077\n",
      "[6]\tvalidation_0-rmse:1.94513\tvalidation_1-rmse:1.91983\n",
      "[7]\tvalidation_0-rmse:1.93871\tvalidation_1-rmse:1.91235\n",
      "[8]\tvalidation_0-rmse:1.91104\tvalidation_1-rmse:1.8836\n",
      "[9]\tvalidation_0-rmse:1.91118\tvalidation_1-rmse:1.88316\n",
      "[10]\tvalidation_0-rmse:1.90378\tvalidation_1-rmse:1.87697\n",
      "[11]\tvalidation_0-rmse:1.89623\tvalidation_1-rmse:1.87274\n",
      "[12]\tvalidation_0-rmse:1.89566\tvalidation_1-rmse:1.87231\n",
      "[13]\tvalidation_0-rmse:1.89519\tvalidation_1-rmse:1.87209\n",
      "[14]\tvalidation_0-rmse:1.89408\tvalidation_1-rmse:1.87106\n",
      "[15]\tvalidation_0-rmse:1.89343\tvalidation_1-rmse:1.87026\n",
      "[16]\tvalidation_0-rmse:1.88844\tvalidation_1-rmse:1.86499\n",
      "[17]\tvalidation_0-rmse:1.88177\tvalidation_1-rmse:1.85776\n",
      "[18]\tvalidation_0-rmse:1.87787\tvalidation_1-rmse:1.85278\n",
      "[19]\tvalidation_0-rmse:1.87726\tvalidation_1-rmse:1.85151\n",
      "[20]\tvalidation_0-rmse:1.87712\tvalidation_1-rmse:1.85084\n",
      "[21]\tvalidation_0-rmse:1.87306\tvalidation_1-rmse:1.84617\n",
      "[22]\tvalidation_0-rmse:1.87277\tvalidation_1-rmse:1.84536\n",
      "[23]\tvalidation_0-rmse:1.86863\tvalidation_1-rmse:1.84085\n",
      "[24]\tvalidation_0-rmse:1.86198\tvalidation_1-rmse:1.83522\n",
      "[25]\tvalidation_0-rmse:1.86023\tvalidation_1-rmse:1.83481\n",
      "[26]\tvalidation_0-rmse:1.85724\tvalidation_1-rmse:1.8345\n",
      "[27]\tvalidation_0-rmse:1.85447\tvalidation_1-rmse:1.83411\n",
      "[28]\tvalidation_0-rmse:1.85092\tvalidation_1-rmse:1.83259\n",
      "[29]\tvalidation_0-rmse:1.84522\tvalidation_1-rmse:1.82873\n",
      "[30]\tvalidation_0-rmse:1.83936\tvalidation_1-rmse:1.82438\n",
      "[31]\tvalidation_0-rmse:1.83812\tvalidation_1-rmse:1.82399\n",
      "[32]\tvalidation_0-rmse:1.83576\tvalidation_1-rmse:1.82245\n",
      "[33]\tvalidation_0-rmse:1.8338\tvalidation_1-rmse:1.82099\n",
      "[34]\tvalidation_0-rmse:1.83282\tvalidation_1-rmse:1.82017\n",
      "[35]\tvalidation_0-rmse:1.83205\tvalidation_1-rmse:1.81956\n",
      "[36]\tvalidation_0-rmse:1.8316\tvalidation_1-rmse:1.81918\n",
      "[37]\tvalidation_0-rmse:1.82955\tvalidation_1-rmse:1.81704\n",
      "[38]\tvalidation_0-rmse:1.82894\tvalidation_1-rmse:1.81632\n",
      "[39]\tvalidation_0-rmse:1.8286\tvalidation_1-rmse:1.81592\n",
      "[40]\tvalidation_0-rmse:1.82803\tvalidation_1-rmse:1.81518\n",
      "[41]\tvalidation_0-rmse:1.82777\tvalidation_1-rmse:1.81482\n",
      "[42]\tvalidation_0-rmse:1.82742\tvalidation_1-rmse:1.81417\n",
      "[43]\tvalidation_0-rmse:1.82666\tvalidation_1-rmse:1.81339\n",
      "[44]\tvalidation_0-rmse:1.82237\tvalidation_1-rmse:1.80897\n",
      "[45]\tvalidation_0-rmse:1.82216\tvalidation_1-rmse:1.80867\n",
      "[46]\tvalidation_0-rmse:1.82198\tvalidation_1-rmse:1.80839\n",
      "[47]\tvalidation_0-rmse:1.81822\tvalidation_1-rmse:1.80459\n",
      "[48]\tvalidation_0-rmse:1.81651\tvalidation_1-rmse:1.80278\n",
      "[49]\tvalidation_0-rmse:1.78988\tvalidation_1-rmse:1.77615\n",
      "[50]\tvalidation_0-rmse:1.7894\tvalidation_1-rmse:1.77575\n",
      "[51]\tvalidation_0-rmse:1.78844\tvalidation_1-rmse:1.77488\n",
      "[52]\tvalidation_0-rmse:1.78803\tvalidation_1-rmse:1.7747\n",
      "[53]\tvalidation_0-rmse:1.78233\tvalidation_1-rmse:1.76923\n",
      "[54]\tvalidation_0-rmse:1.78184\tvalidation_1-rmse:1.76897\n",
      "[55]\tvalidation_0-rmse:1.77823\tvalidation_1-rmse:1.76592\n",
      "[56]\tvalidation_0-rmse:1.77752\tvalidation_1-rmse:1.76557\n",
      "[57]\tvalidation_0-rmse:1.7733\tvalidation_1-rmse:1.76177\n",
      "[58]\tvalidation_0-rmse:1.77308\tvalidation_1-rmse:1.76164\n",
      "[59]\tvalidation_0-rmse:1.77279\tvalidation_1-rmse:1.76145\n",
      "[60]\tvalidation_0-rmse:1.76987\tvalidation_1-rmse:1.75873\n",
      "[61]\tvalidation_0-rmse:1.76717\tvalidation_1-rmse:1.75642\n",
      "[62]\tvalidation_0-rmse:1.76602\tvalidation_1-rmse:1.75533\n",
      "[63]\tvalidation_0-rmse:1.76073\tvalidation_1-rmse:1.7502\n",
      "[64]\tvalidation_0-rmse:1.7604\tvalidation_1-rmse:1.74989\n",
      "[65]\tvalidation_0-rmse:1.76027\tvalidation_1-rmse:1.74976\n",
      "[66]\tvalidation_0-rmse:1.75633\tvalidation_1-rmse:1.74584\n",
      "[67]\tvalidation_0-rmse:1.75482\tvalidation_1-rmse:1.74428\n",
      "[68]\tvalidation_0-rmse:1.75294\tvalidation_1-rmse:1.74237\n",
      "[69]\tvalidation_0-rmse:1.75273\tvalidation_1-rmse:1.74208\n",
      "[70]\tvalidation_0-rmse:1.75249\tvalidation_1-rmse:1.74176\n",
      "[71]\tvalidation_0-rmse:1.75114\tvalidation_1-rmse:1.74039\n",
      "[72]\tvalidation_0-rmse:1.7503\tvalidation_1-rmse:1.73952\n",
      "[73]\tvalidation_0-rmse:1.74752\tvalidation_1-rmse:1.7368\n",
      "[74]\tvalidation_0-rmse:1.72192\tvalidation_1-rmse:1.71132\n",
      "[75]\tvalidation_0-rmse:1.72183\tvalidation_1-rmse:1.7112\n",
      "[76]\tvalidation_0-rmse:1.7214\tvalidation_1-rmse:1.71071\n",
      "[77]\tvalidation_0-rmse:1.71604\tvalidation_1-rmse:1.70531\n",
      "[78]\tvalidation_0-rmse:1.69089\tvalidation_1-rmse:1.68026\n",
      "[79]\tvalidation_0-rmse:1.69073\tvalidation_1-rmse:1.68004\n",
      "[80]\tvalidation_0-rmse:1.68993\tvalidation_1-rmse:1.67915\n",
      "[81]\tvalidation_0-rmse:1.68972\tvalidation_1-rmse:1.6788\n",
      "[82]\tvalidation_0-rmse:1.68714\tvalidation_1-rmse:1.67625\n",
      "[83]\tvalidation_0-rmse:1.6834\tvalidation_1-rmse:1.67244\n",
      "[84]\tvalidation_0-rmse:1.68321\tvalidation_1-rmse:1.6722\n",
      "[85]\tvalidation_0-rmse:1.68301\tvalidation_1-rmse:1.67195\n",
      "[86]\tvalidation_0-rmse:1.68155\tvalidation_1-rmse:1.67047\n",
      "[87]\tvalidation_0-rmse:1.67641\tvalidation_1-rmse:1.66536\n",
      "[88]\tvalidation_0-rmse:1.67626\tvalidation_1-rmse:1.66514\n",
      "[89]\tvalidation_0-rmse:1.67612\tvalidation_1-rmse:1.66496\n",
      "[90]\tvalidation_0-rmse:1.67492\tvalidation_1-rmse:1.66366\n",
      "[91]\tvalidation_0-rmse:1.67433\tvalidation_1-rmse:1.66298\n",
      "[92]\tvalidation_0-rmse:1.67409\tvalidation_1-rmse:1.66263\n",
      "[93]\tvalidation_0-rmse:1.67198\tvalidation_1-rmse:1.66055\n",
      "[94]\tvalidation_0-rmse:1.67017\tvalidation_1-rmse:1.65871\n",
      "[95]\tvalidation_0-rmse:1.66738\tvalidation_1-rmse:1.65596\n",
      "[96]\tvalidation_0-rmse:1.66605\tvalidation_1-rmse:1.65462\n",
      "[97]\tvalidation_0-rmse:1.6659\tvalidation_1-rmse:1.6544\n",
      "[98]\tvalidation_0-rmse:1.66585\tvalidation_1-rmse:1.6543\n",
      "[99]\tvalidation_0-rmse:1.66583\tvalidation_1-rmse:1.65424\n"
     ]
    },
    {
     "data": {
      "text/plain": [
       "XGBRegressor(alpha=5.0, base_score=0.5, booster='gbtree',\n",
       "       colsample_bylevel=0.5, colsample_bynode=1, colsample_bytree=0.054,\n",
       "       gamma=1.45, importance_type='total_gain', learning_rate=0.015,\n",
       "       max_delta_step=0, max_depth=10, min_child_weight=40, missing=None,\n",
       "       n_estimators=100, n_jobs=-1, nthread=None,\n",
       "       objective='reg:squarederror', random_state=0, reg_alpha=0,\n",
       "       reg_lambda=1, scale_pos_weight=1, seed=None, silent=None,\n",
       "       subsample=0.5, verbosity=1)"
      ]
     },
     "execution_count": 134,
     "metadata": {},
     "output_type": "execute_result"
    }
   ],
   "source": [
    "xgb_reg.fit(X_train, y_train, eval_set=[(X_train, y_train), (X_val, y_val)],eval_metric='rmse')"
   ]
  },
  {
   "cell_type": "code",
   "execution_count": 135,
   "metadata": {},
   "outputs": [],
   "source": [
    "results = xgb_reg.evals_result()"
   ]
  },
  {
   "cell_type": "code",
   "execution_count": 136,
   "metadata": {},
   "outputs": [
    {
     "data": {
      "text/plain": [
       "100"
      ]
     },
     "execution_count": 136,
     "metadata": {},
     "output_type": "execute_result"
    }
   ],
   "source": [
    "n_iter = len(results['validation_0']['rmse'])\n",
    "n_iter"
   ]
  },
  {
   "cell_type": "code",
   "execution_count": 137,
   "metadata": {},
   "outputs": [
    {
     "data": {
      "text/plain": [
       "<matplotlib.legend.Legend at 0x2384f7eb8>"
      ]
     },
     "execution_count": 137,
     "metadata": {},
     "output_type": "execute_result"
    },
    {
     "data": {
      "image/png": "[encoded data removed]",
      "text/plain": [
       "<Figure size 432x288 with 1 Axes>"
      ]
     },
     "metadata": {
      "needs_background": "light"
     },
     "output_type": "display_data"
    }
   ],
   "source": [
    "plt.scatter(list(range(n_iter)), results['validation_0']['rmse'], label='Training rmse error')\n",
    "plt.scatter(list(range(n_iter)), results['validation_1']['rmse'], label='Validation rmse error')\n",
    "plt.grid(True)\n",
    "plt.legend()"
   ]
  },
  {
   "cell_type": "markdown",
   "metadata": {},
   "source": [
    "From the the root-mean-square-error plot we can see, as the iteration increase, both Training rmse and Validation rmse are becoming smaller, and Training rmse is getting colser to Validation rmse, but with iteration increase further, may overfitting, so I choose the number of iteration is 100."
   ]
  },
  {
   "cell_type": "code",
   "execution_count": 138,
   "metadata": {},
   "outputs": [
    {
     "data": {
      "text/plain": [
       "<matplotlib.axes._subplots.AxesSubplot at 0x144ec9b70>"
      ]
     },
     "execution_count": 138,
     "metadata": {},
     "output_type": "execute_result"
    },
    {
     "data": {
      "image/png": "[encoded data removed]",
      "text/plain": [
       "<Figure size 432x288 with 1 Axes>"
      ]
     },
     "metadata": {
      "needs_background": "light"
     },
     "output_type": "display_data"
    }
   ],
   "source": [
    "xgb.plot_importance(xgb_reg,max_num_features=10)"
   ]
  },
  {
   "cell_type": "markdown",
   "metadata": {},
   "source": [
    "From the feature importance plot, we can see the totals_hits feature is most important, which means the number of total hits this customer hit in Gstore. The second important feature is totals_pageviews, which means how many pages this customer view in Gstore. The day of month is third important, which seems that the day of month the customer view Gstore may realted to the customer' revenue. And the customers' geograph is also important."
   ]
  },
  {
   "cell_type": "code",
   "execution_count": 139,
   "metadata": {},
   "outputs": [],
   "source": [
    "X_test = test.drop(['fullVisitorId'], axis=1)"
   ]
  },
  {
   "cell_type": "markdown",
   "metadata": {},
   "source": [
    "Let's use fitted model to predict the target value in test set."
   ]
  },
  {
   "cell_type": "code",
   "execution_count": 140,
   "metadata": {},
   "outputs": [],
   "source": [
    "y_pred = xgb_reg.predict(X_test)"
   ]
  },
  {
   "cell_type": "code",
   "execution_count": 141,
   "metadata": {},
   "outputs": [],
   "source": [
    "y_pred[y_pred < 0] = 0.0"
   ]
  },
  {
   "cell_type": "code",
   "execution_count": 142,
   "metadata": {},
   "outputs": [],
   "source": [
    "test['PredictedLogRevenue'] = y_pred"
   ]
  },
  {
   "cell_type": "markdown",
   "metadata": {},
   "source": [
    "Save the result as required format."
   ]
  },
  {
   "cell_type": "code",
   "execution_count": 143,
   "metadata": {},
   "outputs": [],
   "source": [
    "sub = test[['fullVisitorId','PredictedLogRevenue']]"
   ]
  },
  {
   "cell_type": "code",
   "execution_count": 144,
   "metadata": {},
   "outputs": [],
   "source": [
    "sub.to_csv(\"submission.csv\", index=False)"
   ]
  },
  {
   "cell_type": "markdown",
   "metadata": {},
   "source": [
    "I tried to use GridSearchCV to tune parameters, but because the data set is too large and the power of my laptop is not good enough, the auto tuning process will take much time, so I only manual tuned parameters, and after several times, I got the bset score in Kaggle is 1.00834, and the rank of it is about 400."
   ]
  },
  {
   "cell_type": "markdown",
   "metadata": {},
   "source": [
    " <img src= \"best_score.png\">"
   ]
  },
  {
   "cell_type": "markdown",
   "metadata": {},
   "source": [
    " <img src= \"rank.png\">"
   ]
  },
  {
   "cell_type": "markdown",
   "metadata": {},
   "source": [
    "### Error analysis"
   ]
  },
  {
   "cell_type": "markdown",
   "metadata": {},
   "source": [
    "As I don't use the hits columns, and I discard some columns look like useless (truth may be not), the prediction result is not good enough. The methods I group the same ID can also be improved to get a better result."
   ]
  },
  {
   "cell_type": "markdown",
   "metadata": {},
   "source": [
    "### Other models"
   ]
  },
  {
   "cell_type": "markdown",
   "metadata": {},
   "source": [
    "I also tried some other models, but their result are not better than xgboost."
   ]
  },
  {
   "cell_type": "code",
   "execution_count": 2,
   "metadata": {},
   "outputs": [
    {
     "name": "stderr",
     "output_type": "stream",
     "text": [
      "/anaconda3/lib/python3.7/site-packages/lightgbm/__init__.py:46: UserWarning: Starting from version 2.2.1, the library file in distribution wheels for macOS is built by the Apple Clang (Xcode_8.3.3) compiler.\n",
      "This means that in case of installing LightGBM from PyPI via the ``pip install lightgbm`` command, you don't need to install the gcc compiler anymore.\n",
      "Instead of that, you need to install the OpenMP library, which is required for running LightGBM on the system with the Apple Clang compiler.\n",
      "You can install the OpenMP library by the following command: ``brew install libomp``.\n",
      "  \"You can install the OpenMP library by the following command: ``brew install libomp``.\", UserWarning)\n"
     ]
    }
   ],
   "source": [
    "import lightgbm as lgb"
   ]
  },
  {
   "cell_type": "code",
   "execution_count": 11,
   "metadata": {},
   "outputs": [],
   "source": [
    "params={'learning_rate': 0.01,\n",
    "        'objective':'regression',\n",
    "        'metric':'rmse',\n",
    "        'num_leaves': 31,\n",
    "        'verbose': 1,\n",
    "        'bagging_fraction': 0.9,\n",
    "        'feature_fraction': 0.9,\n",
    "        \"random_state\":42,\n",
    "        'max_depth': 5,\n",
    "        \"bagging_seed\" : 42,\n",
    "        \"verbosity\" : -1,\n",
    "        \"bagging_frequency\" : 5,\n",
    "        'lambda_l2': 0.5,\n",
    "        'lambda_l1': 0.5,\n",
    "        'min_child_samples': 36\n",
    "       }"
   ]
  },
  {
   "cell_type": "code",
   "execution_count": 13,
   "metadata": {},
   "outputs": [],
   "source": [
    "reg = lgb.LGBMRegressor(**params,n_estimators=100)"
   ]
  },
  {
   "cell_type": "code",
   "execution_count": 24,
   "metadata": {},
   "outputs": [
    {
     "name": "stdout",
     "output_type": "stream",
     "text": [
      "[1]\ttraining's rmse: 1.94108\tvalid_1's rmse: 1.92114\n",
      "Training until validation scores don't improve for 50 rounds.\n",
      "[2]\ttraining's rmse: 1.92178\tvalid_1's rmse: 1.90205\n",
      "[3]\ttraining's rmse: 1.90267\tvalid_1's rmse: 1.88315\n",
      "[4]\ttraining's rmse: 1.88376\tvalid_1's rmse: 1.86444\n",
      "[5]\ttraining's rmse: 1.86503\tvalid_1's rmse: 1.84592\n",
      "[6]\ttraining's rmse: 1.8465\tvalid_1's rmse: 1.82759\n",
      "[7]\ttraining's rmse: 1.82815\tvalid_1's rmse: 1.80944\n",
      "[8]\ttraining's rmse: 1.80998\tvalid_1's rmse: 1.79147\n",
      "[9]\ttraining's rmse: 1.792\tvalid_1's rmse: 1.77369\n",
      "[10]\ttraining's rmse: 1.78594\tvalid_1's rmse: 1.76764\n",
      "[11]\ttraining's rmse: 1.7682\tvalid_1's rmse: 1.7501\n",
      "[12]\ttraining's rmse: 1.76225\tvalid_1's rmse: 1.74416\n",
      "[13]\ttraining's rmse: 1.75651\tvalid_1's rmse: 1.73845\n",
      "[14]\ttraining's rmse: 1.73906\tvalid_1's rmse: 1.7212\n",
      "[15]\ttraining's rmse: 1.73348\tvalid_1's rmse: 1.71567\n",
      "[16]\ttraining's rmse: 1.71627\tvalid_1's rmse: 1.69865\n",
      "[17]\ttraining's rmse: 1.69923\tvalid_1's rmse: 1.6818\n",
      "[18]\ttraining's rmse: 1.68236\tvalid_1's rmse: 1.66512\n",
      "[19]\ttraining's rmse: 1.66566\tvalid_1's rmse: 1.64861\n",
      "[20]\ttraining's rmse: 1.64913\tvalid_1's rmse: 1.63226\n",
      "[21]\ttraining's rmse: 1.63276\tvalid_1's rmse: 1.61609\n",
      "[22]\ttraining's rmse: 1.62751\tvalid_1's rmse: 1.61086\n",
      "[23]\ttraining's rmse: 1.61137\tvalid_1's rmse: 1.5949\n",
      "[24]\ttraining's rmse: 1.59538\tvalid_1's rmse: 1.5791\n",
      "[25]\ttraining's rmse: 1.57956\tvalid_1's rmse: 1.56346\n",
      "[26]\ttraining's rmse: 1.5639\tvalid_1's rmse: 1.54797\n",
      "[27]\ttraining's rmse: 1.54839\tvalid_1's rmse: 1.53265\n",
      "[28]\ttraining's rmse: 1.53304\tvalid_1's rmse: 1.51748\n",
      "[29]\ttraining's rmse: 1.51785\tvalid_1's rmse: 1.50246\n",
      "[30]\ttraining's rmse: 1.50281\tvalid_1's rmse: 1.4876\n",
      "[31]\ttraining's rmse: 1.48791\tvalid_1's rmse: 1.47289\n",
      "[32]\ttraining's rmse: 1.48311\tvalid_1's rmse: 1.4681\n",
      "[33]\ttraining's rmse: 1.46842\tvalid_1's rmse: 1.45358\n",
      "[34]\ttraining's rmse: 1.45388\tvalid_1's rmse: 1.43921\n",
      "[35]\ttraining's rmse: 1.43948\tvalid_1's rmse: 1.42499\n",
      "[36]\ttraining's rmse: 1.42523\tvalid_1's rmse: 1.4109\n",
      "[37]\ttraining's rmse: 1.41112\tvalid_1's rmse: 1.39696\n",
      "[38]\ttraining's rmse: 1.39716\tvalid_1's rmse: 1.38316\n",
      "[39]\ttraining's rmse: 1.38333\tvalid_1's rmse: 1.3695\n",
      "[40]\ttraining's rmse: 1.36965\tvalid_1's rmse: 1.35598\n",
      "[41]\ttraining's rmse: 1.35611\tvalid_1's rmse: 1.3426\n",
      "[42]\ttraining's rmse: 1.3427\tvalid_1's rmse: 1.32935\n",
      "[43]\ttraining's rmse: 1.32942\tvalid_1's rmse: 1.31624\n",
      "[44]\ttraining's rmse: 1.31628\tvalid_1's rmse: 1.30326\n",
      "[45]\ttraining's rmse: 1.30328\tvalid_1's rmse: 1.29041\n",
      "[46]\ttraining's rmse: 1.2904\tvalid_1's rmse: 1.27769\n",
      "[47]\ttraining's rmse: 1.27766\tvalid_1's rmse: 1.2651\n",
      "[48]\ttraining's rmse: 1.26504\tvalid_1's rmse: 1.25264\n",
      "[49]\ttraining's rmse: 1.25255\tvalid_1's rmse: 1.24031\n",
      "[50]\ttraining's rmse: 1.24019\tvalid_1's rmse: 1.2281\n",
      "[51]\ttraining's rmse: 1.22796\tvalid_1's rmse: 1.21602\n",
      "[52]\ttraining's rmse: 1.21584\tvalid_1's rmse: 1.20406\n",
      "[53]\ttraining's rmse: 1.20385\tvalid_1's rmse: 1.19222\n",
      "[54]\ttraining's rmse: 1.19198\tvalid_1's rmse: 1.18051\n",
      "[55]\ttraining's rmse: 1.18024\tvalid_1's rmse: 1.16891\n",
      "[56]\ttraining's rmse: 1.16861\tvalid_1's rmse: 1.15743\n",
      "[57]\ttraining's rmse: 1.1571\tvalid_1's rmse: 1.14607\n",
      "[58]\ttraining's rmse: 1.1457\tvalid_1's rmse: 1.13482\n",
      "[59]\ttraining's rmse: 1.13442\tvalid_1's rmse: 1.12369\n",
      "[60]\ttraining's rmse: 1.12326\tvalid_1's rmse: 1.11267\n",
      "[61]\ttraining's rmse: 1.11221\tvalid_1's rmse: 1.10176\n",
      "[62]\ttraining's rmse: 1.10127\tvalid_1's rmse: 1.09097\n",
      "[63]\ttraining's rmse: 1.09044\tvalid_1's rmse: 1.08029\n",
      "[64]\ttraining's rmse: 1.07972\tvalid_1's rmse: 1.06972\n",
      "[65]\ttraining's rmse: 1.06911\tvalid_1's rmse: 1.05925\n",
      "[66]\ttraining's rmse: 1.05861\tvalid_1's rmse: 1.04889\n",
      "[67]\ttraining's rmse: 1.04822\tvalid_1's rmse: 1.03864\n",
      "[68]\ttraining's rmse: 1.03793\tvalid_1's rmse: 1.02849\n",
      "[69]\ttraining's rmse: 1.02774\tvalid_1's rmse: 1.01844\n",
      "[70]\ttraining's rmse: 1.01766\tvalid_1's rmse: 1.0085\n",
      "[71]\ttraining's rmse: 1.00769\tvalid_1's rmse: 0.998658\n",
      "[72]\ttraining's rmse: 0.997809\tvalid_1's rmse: 0.988915\n",
      "[73]\ttraining's rmse: 0.988033\tvalid_1's rmse: 0.979271\n",
      "[74]\ttraining's rmse: 0.978357\tvalid_1's rmse: 0.969733\n",
      "[75]\ttraining's rmse: 0.96878\tvalid_1's rmse: 0.960283\n",
      "[76]\ttraining's rmse: 0.9593\tvalid_1's rmse: 0.950941\n",
      "[77]\ttraining's rmse: 0.956287\tvalid_1's rmse: 0.947957\n",
      "[78]\ttraining's rmse: 0.946935\tvalid_1's rmse: 0.938734\n",
      "[79]\ttraining's rmse: 0.937678\tvalid_1's rmse: 0.929612\n",
      "[80]\ttraining's rmse: 0.928515\tvalid_1's rmse: 0.920585\n",
      "[81]\ttraining's rmse: 0.919447\tvalid_1's rmse: 0.911642\n",
      "[82]\ttraining's rmse: 0.910471\tvalid_1's rmse: 0.902797\n",
      "[83]\ttraining's rmse: 0.901587\tvalid_1's rmse: 0.894043\n",
      "[84]\ttraining's rmse: 0.892794\tvalid_1's rmse: 0.885373\n",
      "[85]\ttraining's rmse: 0.884091\tvalid_1's rmse: 0.876799\n",
      "[86]\ttraining's rmse: 0.875477\tvalid_1's rmse: 0.868307\n",
      "[87]\ttraining's rmse: 0.86695\tvalid_1's rmse: 0.85991\n",
      "[88]\ttraining's rmse: 0.864333\tvalid_1's rmse: 0.857317\n",
      "[89]\ttraining's rmse: 0.855921\tvalid_1's rmse: 0.849034\n",
      "[90]\ttraining's rmse: 0.85332\tvalid_1's rmse: 0.846463\n",
      "[91]\ttraining's rmse: 0.845021\tvalid_1's rmse: 0.838287\n",
      "[92]\ttraining's rmse: 0.836808\tvalid_1's rmse: 0.830197\n",
      "[93]\ttraining's rmse: 0.828679\tvalid_1's rmse: 0.82219\n",
      "[94]\ttraining's rmse: 0.820634\tvalid_1's rmse: 0.814267\n",
      "[95]\ttraining's rmse: 0.812672\tvalid_1's rmse: 0.806432\n",
      "[96]\ttraining's rmse: 0.804791\tvalid_1's rmse: 0.798669\n",
      "[97]\ttraining's rmse: 0.796991\tvalid_1's rmse: 0.790996\n",
      "[98]\ttraining's rmse: 0.789272\tvalid_1's rmse: 0.783394\n",
      "[99]\ttraining's rmse: 0.781633\tvalid_1's rmse: 0.775876\n",
      "[100]\ttraining's rmse: 0.774071\tvalid_1's rmse: 0.768434\n",
      "[101]\ttraining's rmse: 0.766588\tvalid_1's rmse: 0.761071\n",
      "[102]\ttraining's rmse: 0.759183\tvalid_1's rmse: 0.753783\n",
      "[103]\ttraining's rmse: 0.751854\tvalid_1's rmse: 0.746578\n",
      "[104]\ttraining's rmse: 0.7446\tvalid_1's rmse: 0.739442\n",
      "[105]\ttraining's rmse: 0.737421\tvalid_1's rmse: 0.732383\n",
      "[106]\ttraining's rmse: 0.730317\tvalid_1's rmse: 0.725404\n",
      "[107]\ttraining's rmse: 0.723286\tvalid_1's rmse: 0.718494\n",
      "[108]\ttraining's rmse: 0.716329\tvalid_1's rmse: 0.711661\n",
      "[109]\ttraining's rmse: 0.709444\tvalid_1's rmse: 0.704894\n",
      "[110]\ttraining's rmse: 0.702629\tvalid_1's rmse: 0.698202\n",
      "[111]\ttraining's rmse: 0.695885\tvalid_1's rmse: 0.691576\n",
      "[112]\ttraining's rmse: 0.689211\tvalid_1's rmse: 0.685026\n",
      "[113]\ttraining's rmse: 0.687178\tvalid_1's rmse: 0.683028\n",
      "[114]\ttraining's rmse: 0.680595\tvalid_1's rmse: 0.676562\n",
      "[115]\ttraining's rmse: 0.674081\tvalid_1's rmse: 0.670168\n",
      "[116]\ttraining's rmse: 0.667634\tvalid_1's rmse: 0.663838\n",
      "[117]\ttraining's rmse: 0.661254\tvalid_1's rmse: 0.657578\n",
      "[118]\ttraining's rmse: 0.654941\tvalid_1's rmse: 0.65138\n",
      "[119]\ttraining's rmse: 0.648694\tvalid_1's rmse: 0.645256\n",
      "[120]\ttraining's rmse: 0.642512\tvalid_1's rmse: 0.639194\n",
      "[121]\ttraining's rmse: 0.636394\tvalid_1's rmse: 0.633193\n",
      "[122]\ttraining's rmse: 0.630341\tvalid_1's rmse: 0.627259\n",
      "[123]\ttraining's rmse: 0.628554\tvalid_1's rmse: 0.625509\n",
      "[124]\ttraining's rmse: 0.622582\tvalid_1's rmse: 0.619652\n",
      "[125]\ttraining's rmse: 0.616674\tvalid_1's rmse: 0.613864\n",
      "[126]\ttraining's rmse: 0.610827\tvalid_1's rmse: 0.608137\n",
      "[127]\ttraining's rmse: 0.609093\tvalid_1's rmse: 0.60644\n",
      "[128]\ttraining's rmse: 0.603326\tvalid_1's rmse: 0.600786\n",
      "[129]\ttraining's rmse: 0.59762\tvalid_1's rmse: 0.595207\n",
      "[130]\ttraining's rmse: 0.591974\tvalid_1's rmse: 0.589672\n",
      "[131]\ttraining's rmse: 0.586388\tvalid_1's rmse: 0.5842\n",
      "[132]\ttraining's rmse: 0.58086\tvalid_1's rmse: 0.578789\n",
      "[133]\ttraining's rmse: 0.575391\tvalid_1's rmse: 0.573437\n",
      "[134]\ttraining's rmse: 0.569978\tvalid_1's rmse: 0.568138\n",
      "[135]\ttraining's rmse: 0.564625\tvalid_1's rmse: 0.562903\n",
      "[136]\ttraining's rmse: 0.559328\tvalid_1's rmse: 0.557722\n",
      "[137]\ttraining's rmse: 0.554086\tvalid_1's rmse: 0.5526\n",
      "[138]\ttraining's rmse: 0.5489\tvalid_1's rmse: 0.54753\n",
      "[139]\ttraining's rmse: 0.54377\tvalid_1's rmse: 0.542516\n",
      "[140]\ttraining's rmse: 0.538693\tvalid_1's rmse: 0.537557\n",
      "[141]\ttraining's rmse: 0.533672\tvalid_1's rmse: 0.532651\n",
      "[142]\ttraining's rmse: 0.528704\tvalid_1's rmse: 0.527804\n",
      "[143]\ttraining's rmse: 0.523789\tvalid_1's rmse: 0.523006\n",
      "[144]\ttraining's rmse: 0.522386\tvalid_1's rmse: 0.521636\n",
      "[145]\ttraining's rmse: 0.517538\tvalid_1's rmse: 0.516902\n",
      "[146]\ttraining's rmse: 0.512742\tvalid_1's rmse: 0.512226\n",
      "[147]\ttraining's rmse: 0.511386\tvalid_1's rmse: 0.51091\n",
      "[148]\ttraining's rmse: 0.506657\tvalid_1's rmse: 0.506294\n",
      "[149]\ttraining's rmse: 0.501978\tvalid_1's rmse: 0.501735\n",
      "[150]\ttraining's rmse: 0.497349\tvalid_1's rmse: 0.49722\n",
      "[151]\ttraining's rmse: 0.49277\tvalid_1's rmse: 0.492755\n"
     ]
    },
    {
     "name": "stdout",
     "output_type": "stream",
     "text": [
      "[152]\ttraining's rmse: 0.491474\tvalid_1's rmse: 0.491498\n",
      "[153]\ttraining's rmse: 0.486958\tvalid_1's rmse: 0.487095\n",
      "[154]\ttraining's rmse: 0.482492\tvalid_1's rmse: 0.482744\n",
      "[155]\ttraining's rmse: 0.478073\tvalid_1's rmse: 0.478443\n",
      "[156]\ttraining's rmse: 0.473702\tvalid_1's rmse: 0.474187\n",
      "[157]\ttraining's rmse: 0.469379\tvalid_1's rmse: 0.469979\n",
      "[158]\ttraining's rmse: 0.465102\tvalid_1's rmse: 0.465818\n",
      "[159]\ttraining's rmse: 0.460872\tvalid_1's rmse: 0.461706\n",
      "[160]\ttraining's rmse: 0.456687\tvalid_1's rmse: 0.457638\n",
      "[161]\ttraining's rmse: 0.45255\tvalid_1's rmse: 0.453615\n",
      "[162]\ttraining's rmse: 0.448457\tvalid_1's rmse: 0.449643\n",
      "[163]\ttraining's rmse: 0.444408\tvalid_1's rmse: 0.445713\n",
      "[164]\ttraining's rmse: 0.440404\tvalid_1's rmse: 0.441824\n",
      "[165]\ttraining's rmse: 0.436443\tvalid_1's rmse: 0.43798\n",
      "[166]\ttraining's rmse: 0.432526\tvalid_1's rmse: 0.434178\n",
      "[167]\ttraining's rmse: 0.428652\tvalid_1's rmse: 0.430422\n",
      "[168]\ttraining's rmse: 0.424821\tvalid_1's rmse: 0.426707\n",
      "[169]\ttraining's rmse: 0.421032\tvalid_1's rmse: 0.423038\n",
      "[170]\ttraining's rmse: 0.417285\tvalid_1's rmse: 0.41941\n",
      "[171]\ttraining's rmse: 0.41358\tvalid_1's rmse: 0.415827\n",
      "[172]\ttraining's rmse: 0.409916\tvalid_1's rmse: 0.412281\n",
      "[173]\ttraining's rmse: 0.408896\tvalid_1's rmse: 0.41131\n",
      "[174]\ttraining's rmse: 0.405284\tvalid_1's rmse: 0.407816\n",
      "[175]\ttraining's rmse: 0.401711\tvalid_1's rmse: 0.404358\n",
      "[176]\ttraining's rmse: 0.39818\tvalid_1's rmse: 0.400941\n",
      "[177]\ttraining's rmse: 0.397207\tvalid_1's rmse: 0.400004\n",
      "[178]\ttraining's rmse: 0.393726\tvalid_1's rmse: 0.396643\n",
      "[179]\ttraining's rmse: 0.390284\tvalid_1's rmse: 0.393315\n",
      "[180]\ttraining's rmse: 0.38688\tvalid_1's rmse: 0.390034\n",
      "[181]\ttraining's rmse: 0.385959\tvalid_1's rmse: 0.38916\n",
      "[182]\ttraining's rmse: 0.382604\tvalid_1's rmse: 0.385921\n",
      "[183]\ttraining's rmse: 0.379287\tvalid_1's rmse: 0.382723\n",
      "[184]\ttraining's rmse: 0.378421\tvalid_1's rmse: 0.381898\n",
      "[185]\ttraining's rmse: 0.377547\tvalid_1's rmse: 0.381063\n",
      "[186]\ttraining's rmse: 0.376687\tvalid_1's rmse: 0.380244\n",
      "[187]\ttraining's rmse: 0.373438\tvalid_1's rmse: 0.377115\n",
      "[188]\ttraining's rmse: 0.370226\tvalid_1's rmse: 0.374023\n",
      "[189]\ttraining's rmse: 0.367055\tvalid_1's rmse: 0.370975\n",
      "[190]\ttraining's rmse: 0.363914\tvalid_1's rmse: 0.367951\n",
      "[191]\ttraining's rmse: 0.36081\tvalid_1's rmse: 0.364965\n",
      "[192]\ttraining's rmse: 0.357741\tvalid_1's rmse: 0.362016\n",
      "[193]\ttraining's rmse: 0.354709\tvalid_1's rmse: 0.359108\n",
      "[194]\ttraining's rmse: 0.35171\tvalid_1's rmse: 0.356226\n",
      "[195]\ttraining's rmse: 0.348747\tvalid_1's rmse: 0.353387\n",
      "[196]\ttraining's rmse: 0.345818\tvalid_1's rmse: 0.350578\n",
      "[197]\ttraining's rmse: 0.342928\tvalid_1's rmse: 0.347812\n",
      "[198]\ttraining's rmse: 0.340062\tvalid_1's rmse: 0.345069\n",
      "[199]\ttraining's rmse: 0.337233\tvalid_1's rmse: 0.342358\n",
      "[200]\ttraining's rmse: 0.334435\tvalid_1's rmse: 0.33968\n",
      "[201]\ttraining's rmse: 0.331671\tvalid_1's rmse: 0.337042\n",
      "[202]\ttraining's rmse: 0.330976\tvalid_1's rmse: 0.336382\n",
      "[203]\ttraining's rmse: 0.328252\tvalid_1's rmse: 0.333779\n",
      "[204]\ttraining's rmse: 0.325562\tvalid_1's rmse: 0.331211\n",
      "[205]\ttraining's rmse: 0.322901\tvalid_1's rmse: 0.328672\n",
      "[206]\ttraining's rmse: 0.320273\tvalid_1's rmse: 0.326172\n",
      "[207]\ttraining's rmse: 0.317676\tvalid_1's rmse: 0.323701\n",
      "[208]\ttraining's rmse: 0.315111\tvalid_1's rmse: 0.321261\n",
      "[209]\ttraining's rmse: 0.312574\tvalid_1's rmse: 0.318846\n",
      "[210]\ttraining's rmse: 0.310065\tvalid_1's rmse: 0.316462\n",
      "[211]\ttraining's rmse: 0.307588\tvalid_1's rmse: 0.314106\n",
      "[212]\ttraining's rmse: 0.305138\tvalid_1's rmse: 0.311784\n",
      "[213]\ttraining's rmse: 0.304527\tvalid_1's rmse: 0.311217\n",
      "[214]\ttraining's rmse: 0.302119\tvalid_1's rmse: 0.30893\n",
      "[215]\ttraining's rmse: 0.301532\tvalid_1's rmse: 0.308381\n",
      "[216]\ttraining's rmse: 0.299159\tvalid_1's rmse: 0.306135\n",
      "[217]\ttraining's rmse: 0.296812\tvalid_1's rmse: 0.303912\n",
      "[218]\ttraining's rmse: 0.296243\tvalid_1's rmse: 0.303386\n",
      "[219]\ttraining's rmse: 0.293932\tvalid_1's rmse: 0.301199\n",
      "[220]\ttraining's rmse: 0.293376\tvalid_1's rmse: 0.300684\n",
      "[221]\ttraining's rmse: 0.2911\tvalid_1's rmse: 0.298532\n",
      "[222]\ttraining's rmse: 0.288853\tvalid_1's rmse: 0.296415\n",
      "[223]\ttraining's rmse: 0.286634\tvalid_1's rmse: 0.29432\n",
      "[224]\ttraining's rmse: 0.284441\tvalid_1's rmse: 0.29225\n",
      "[225]\ttraining's rmse: 0.282277\tvalid_1's rmse: 0.290215\n",
      "[226]\ttraining's rmse: 0.280137\tvalid_1's rmse: 0.288198\n",
      "[227]\ttraining's rmse: 0.278026\tvalid_1's rmse: 0.28621\n",
      "[228]\ttraining's rmse: 0.275941\tvalid_1's rmse: 0.284249\n",
      "[229]\ttraining's rmse: 0.273884\tvalid_1's rmse: 0.282313\n",
      "[230]\ttraining's rmse: 0.271849\tvalid_1's rmse: 0.280404\n",
      "[231]\ttraining's rmse: 0.26984\tvalid_1's rmse: 0.278516\n",
      "[232]\ttraining's rmse: 0.267854\tvalid_1's rmse: 0.276652\n",
      "[233]\ttraining's rmse: 0.265896\tvalid_1's rmse: 0.27482\n",
      "[234]\ttraining's rmse: 0.263963\tvalid_1's rmse: 0.273013\n",
      "[235]\ttraining's rmse: 0.262051\tvalid_1's rmse: 0.271227\n",
      "[236]\ttraining's rmse: 0.260166\tvalid_1's rmse: 0.269466\n",
      "[237]\ttraining's rmse: 0.258305\tvalid_1's rmse: 0.267733\n",
      "[238]\ttraining's rmse: 0.256466\tvalid_1's rmse: 0.266018\n",
      "[239]\ttraining's rmse: 0.254649\tvalid_1's rmse: 0.264324\n",
      "[240]\ttraining's rmse: 0.252855\tvalid_1's rmse: 0.262658\n",
      "[241]\ttraining's rmse: 0.251089\tvalid_1's rmse: 0.261014\n",
      "[242]\ttraining's rmse: 0.249341\tvalid_1's rmse: 0.259391\n",
      "[243]\ttraining's rmse: 0.248932\tvalid_1's rmse: 0.259024\n",
      "[244]\ttraining's rmse: 0.247213\tvalid_1's rmse: 0.257427\n",
      "[245]\ttraining's rmse: 0.246823\tvalid_1's rmse: 0.257075\n",
      "[246]\ttraining's rmse: 0.245135\tvalid_1's rmse: 0.255515\n",
      "[247]\ttraining's rmse: 0.243464\tvalid_1's rmse: 0.253971\n",
      "[248]\ttraining's rmse: 0.241817\tvalid_1's rmse: 0.252451\n",
      "[249]\ttraining's rmse: 0.240191\tvalid_1's rmse: 0.250955\n",
      "[250]\ttraining's rmse: 0.238586\tvalid_1's rmse: 0.249474\n",
      "[251]\ttraining's rmse: 0.238221\tvalid_1's rmse: 0.249152\n",
      "[252]\ttraining's rmse: 0.236643\tvalid_1's rmse: 0.2477\n",
      "[253]\ttraining's rmse: 0.235086\tvalid_1's rmse: 0.246266\n",
      "[254]\ttraining's rmse: 0.233549\tvalid_1's rmse: 0.244858\n",
      "[255]\ttraining's rmse: 0.232029\tvalid_1's rmse: 0.24347\n",
      "[256]\ttraining's rmse: 0.230535\tvalid_1's rmse: 0.242097\n",
      "[257]\ttraining's rmse: 0.22906\tvalid_1's rmse: 0.240748\n",
      "[258]\ttraining's rmse: 0.2276\tvalid_1's rmse: 0.239417\n",
      "[259]\ttraining's rmse: 0.227276\tvalid_1's rmse: 0.239128\n",
      "[260]\ttraining's rmse: 0.225843\tvalid_1's rmse: 0.237816\n",
      "[261]\ttraining's rmse: 0.224429\tvalid_1's rmse: 0.236521\n",
      "[262]\ttraining's rmse: 0.223035\tvalid_1's rmse: 0.235253\n",
      "[263]\ttraining's rmse: 0.221659\tvalid_1's rmse: 0.234\n",
      "[264]\ttraining's rmse: 0.220299\tvalid_1's rmse: 0.232765\n",
      "[265]\ttraining's rmse: 0.218964\tvalid_1's rmse: 0.231548\n",
      "[266]\ttraining's rmse: 0.217645\tvalid_1's rmse: 0.230354\n",
      "[267]\ttraining's rmse: 0.216347\tvalid_1's rmse: 0.229177\n",
      "[268]\ttraining's rmse: 0.215065\tvalid_1's rmse: 0.228018\n",
      "[269]\ttraining's rmse: 0.214785\tvalid_1's rmse: 0.227774\n",
      "[270]\ttraining's rmse: 0.213523\tvalid_1's rmse: 0.226639\n",
      "[271]\ttraining's rmse: 0.213251\tvalid_1's rmse: 0.226405\n",
      "[272]\ttraining's rmse: 0.21201\tvalid_1's rmse: 0.225285\n",
      "[273]\ttraining's rmse: 0.210786\tvalid_1's rmse: 0.224184\n",
      "[274]\ttraining's rmse: 0.209582\tvalid_1's rmse: 0.223097\n",
      "[275]\ttraining's rmse: 0.208395\tvalid_1's rmse: 0.222029\n",
      "[276]\ttraining's rmse: 0.207223\tvalid_1's rmse: 0.220969\n",
      "[277]\ttraining's rmse: 0.20607\tvalid_1's rmse: 0.219937\n",
      "[278]\ttraining's rmse: 0.205826\tvalid_1's rmse: 0.219725\n",
      "[279]\ttraining's rmse: 0.204693\tvalid_1's rmse: 0.218707\n",
      "[280]\ttraining's rmse: 0.203573\tvalid_1's rmse: 0.217706\n",
      "[281]\ttraining's rmse: 0.202471\tvalid_1's rmse: 0.216716\n",
      "[282]\ttraining's rmse: 0.201385\tvalid_1's rmse: 0.215748\n",
      "[283]\ttraining's rmse: 0.200316\tvalid_1's rmse: 0.214792\n",
      "[284]\ttraining's rmse: 0.200098\tvalid_1's rmse: 0.214606\n",
      "[285]\ttraining's rmse: 0.199049\tvalid_1's rmse: 0.21367\n",
      "[286]\ttraining's rmse: 0.198011\tvalid_1's rmse: 0.212745\n",
      "[287]\ttraining's rmse: 0.196989\tvalid_1's rmse: 0.211837\n",
      "[288]\ttraining's rmse: 0.195984\tvalid_1's rmse: 0.210942\n",
      "[289]\ttraining's rmse: 0.194992\tvalid_1's rmse: 0.210057\n",
      "[290]\ttraining's rmse: 0.194013\tvalid_1's rmse: 0.209188\n",
      "[291]\ttraining's rmse: 0.193052\tvalid_1's rmse: 0.208335\n",
      "[292]\ttraining's rmse: 0.192853\tvalid_1's rmse: 0.208173\n",
      "[293]\ttraining's rmse: 0.191908\tvalid_1's rmse: 0.207338\n",
      "[294]\ttraining's rmse: 0.191717\tvalid_1's rmse: 0.207184\n",
      "[295]\ttraining's rmse: 0.191531\tvalid_1's rmse: 0.207029\n",
      "[296]\ttraining's rmse: 0.190606\tvalid_1's rmse: 0.206213\n",
      "[297]\ttraining's rmse: 0.189696\tvalid_1's rmse: 0.20541\n",
      "[298]\ttraining's rmse: 0.189515\tvalid_1's rmse: 0.205264\n",
      "[299]\ttraining's rmse: 0.18862\tvalid_1's rmse: 0.204473\n",
      "[300]\ttraining's rmse: 0.187736\tvalid_1's rmse: 0.203693\n",
      "[301]\ttraining's rmse: 0.186868\tvalid_1's rmse: 0.20293\n"
     ]
    },
    {
     "name": "stdout",
     "output_type": "stream",
     "text": [
      "[302]\ttraining's rmse: 0.186015\tvalid_1's rmse: 0.20218\n",
      "[303]\ttraining's rmse: 0.185853\tvalid_1's rmse: 0.202049\n",
      "[304]\ttraining's rmse: 0.185015\tvalid_1's rmse: 0.201314\n",
      "[305]\ttraining's rmse: 0.18419\tvalid_1's rmse: 0.200589\n",
      "[306]\ttraining's rmse: 0.184032\tvalid_1's rmse: 0.200465\n",
      "[307]\ttraining's rmse: 0.183224\tvalid_1's rmse: 0.199756\n",
      "[308]\ttraining's rmse: 0.182424\tvalid_1's rmse: 0.199058\n",
      "[309]\ttraining's rmse: 0.181636\tvalid_1's rmse: 0.198376\n",
      "[310]\ttraining's rmse: 0.18086\tvalid_1's rmse: 0.1977\n",
      "[311]\ttraining's rmse: 0.180096\tvalid_1's rmse: 0.197034\n",
      "[312]\ttraining's rmse: 0.179346\tvalid_1's rmse: 0.196386\n",
      "[313]\ttraining's rmse: 0.178606\tvalid_1's rmse: 0.195743\n",
      "[314]\ttraining's rmse: 0.177879\tvalid_1's rmse: 0.195119\n",
      "[315]\ttraining's rmse: 0.177163\tvalid_1's rmse: 0.194498\n",
      "[316]\ttraining's rmse: 0.176456\tvalid_1's rmse: 0.193887\n",
      "[317]\ttraining's rmse: 0.175759\tvalid_1's rmse: 0.19329\n",
      "[318]\ttraining's rmse: 0.175072\tvalid_1's rmse: 0.192699\n",
      "[319]\ttraining's rmse: 0.174944\tvalid_1's rmse: 0.192601\n",
      "[320]\ttraining's rmse: 0.174276\tvalid_1's rmse: 0.192025\n",
      "[321]\ttraining's rmse: 0.173618\tvalid_1's rmse: 0.191462\n",
      "[322]\ttraining's rmse: 0.172969\tvalid_1's rmse: 0.190902\n",
      "[323]\ttraining's rmse: 0.172329\tvalid_1's rmse: 0.190357\n",
      "[324]\ttraining's rmse: 0.171701\tvalid_1's rmse: 0.189816\n",
      "[325]\ttraining's rmse: 0.171585\tvalid_1's rmse: 0.189725\n",
      "[326]\ttraining's rmse: 0.17097\tvalid_1's rmse: 0.189198\n",
      "[327]\ttraining's rmse: 0.17036\tvalid_1's rmse: 0.18868\n",
      "[328]\ttraining's rmse: 0.169765\tvalid_1's rmse: 0.188167\n",
      "[329]\ttraining's rmse: 0.169178\tvalid_1's rmse: 0.187666\n",
      "[330]\ttraining's rmse: 0.1686\tvalid_1's rmse: 0.187177\n",
      "[331]\ttraining's rmse: 0.168032\tvalid_1's rmse: 0.18669\n",
      "[332]\ttraining's rmse: 0.167469\tvalid_1's rmse: 0.186215\n",
      "[333]\ttraining's rmse: 0.166916\tvalid_1's rmse: 0.18574\n",
      "[334]\ttraining's rmse: 0.166376\tvalid_1's rmse: 0.185278\n",
      "[335]\ttraining's rmse: 0.165841\tvalid_1's rmse: 0.184819\n",
      "[336]\ttraining's rmse: 0.165316\tvalid_1's rmse: 0.184373\n",
      "[337]\ttraining's rmse: 0.164797\tvalid_1's rmse: 0.183936\n",
      "[338]\ttraining's rmse: 0.164293\tvalid_1's rmse: 0.183511\n",
      "[339]\ttraining's rmse: 0.163795\tvalid_1's rmse: 0.183089\n",
      "[340]\ttraining's rmse: 0.163305\tvalid_1's rmse: 0.182676\n",
      "[341]\ttraining's rmse: 0.162824\tvalid_1's rmse: 0.182271\n",
      "[342]\ttraining's rmse: 0.162347\tvalid_1's rmse: 0.181873\n",
      "[343]\ttraining's rmse: 0.161878\tvalid_1's rmse: 0.181475\n",
      "[344]\ttraining's rmse: 0.161419\tvalid_1's rmse: 0.18109\n",
      "[345]\ttraining's rmse: 0.160967\tvalid_1's rmse: 0.180708\n",
      "[346]\ttraining's rmse: 0.16052\tvalid_1's rmse: 0.180342\n",
      "[347]\ttraining's rmse: 0.160084\tvalid_1's rmse: 0.179978\n",
      "[348]\ttraining's rmse: 0.159655\tvalid_1's rmse: 0.179618\n",
      "[349]\ttraining's rmse: 0.159231\tvalid_1's rmse: 0.179267\n",
      "[350]\ttraining's rmse: 0.158811\tvalid_1's rmse: 0.178917\n",
      "[351]\ttraining's rmse: 0.158402\tvalid_1's rmse: 0.178578\n",
      "[352]\ttraining's rmse: 0.157999\tvalid_1's rmse: 0.178241\n",
      "[353]\ttraining's rmse: 0.157603\tvalid_1's rmse: 0.177913\n",
      "[354]\ttraining's rmse: 0.157215\tvalid_1's rmse: 0.177593\n",
      "[355]\ttraining's rmse: 0.156833\tvalid_1's rmse: 0.17728\n",
      "[356]\ttraining's rmse: 0.15646\tvalid_1's rmse: 0.176972\n",
      "[357]\ttraining's rmse: 0.156087\tvalid_1's rmse: 0.176673\n",
      "[358]\ttraining's rmse: 0.155722\tvalid_1's rmse: 0.176377\n",
      "[359]\ttraining's rmse: 0.155655\tvalid_1's rmse: 0.176329\n",
      "[360]\ttraining's rmse: 0.155299\tvalid_1's rmse: 0.176038\n",
      "[361]\ttraining's rmse: 0.154951\tvalid_1's rmse: 0.175755\n",
      "[362]\ttraining's rmse: 0.154608\tvalid_1's rmse: 0.175475\n",
      "[363]\ttraining's rmse: 0.154546\tvalid_1's rmse: 0.175431\n",
      "[364]\ttraining's rmse: 0.15421\tvalid_1's rmse: 0.175159\n",
      "[365]\ttraining's rmse: 0.153882\tvalid_1's rmse: 0.174888\n",
      "[366]\ttraining's rmse: 0.153558\tvalid_1's rmse: 0.174625\n",
      "[367]\ttraining's rmse: 0.153241\tvalid_1's rmse: 0.174368\n",
      "[368]\ttraining's rmse: 0.152927\tvalid_1's rmse: 0.174112\n",
      "[369]\ttraining's rmse: 0.152616\tvalid_1's rmse: 0.173863\n",
      "[370]\ttraining's rmse: 0.152312\tvalid_1's rmse: 0.173618\n",
      "[371]\ttraining's rmse: 0.152013\tvalid_1's rmse: 0.173377\n",
      "[372]\ttraining's rmse: 0.151718\tvalid_1's rmse: 0.173141\n",
      "[373]\ttraining's rmse: 0.15143\tvalid_1's rmse: 0.172909\n",
      "[374]\ttraining's rmse: 0.151149\tvalid_1's rmse: 0.172679\n",
      "[375]\ttraining's rmse: 0.150869\tvalid_1's rmse: 0.172461\n",
      "[376]\ttraining's rmse: 0.150597\tvalid_1's rmse: 0.172243\n",
      "[377]\ttraining's rmse: 0.150327\tvalid_1's rmse: 0.172028\n",
      "[378]\ttraining's rmse: 0.150061\tvalid_1's rmse: 0.171822\n",
      "[379]\ttraining's rmse: 0.149801\tvalid_1's rmse: 0.171617\n",
      "[380]\ttraining's rmse: 0.149547\tvalid_1's rmse: 0.171413\n",
      "[381]\ttraining's rmse: 0.149297\tvalid_1's rmse: 0.171216\n",
      "[382]\ttraining's rmse: 0.149055\tvalid_1's rmse: 0.171022\n",
      "[383]\ttraining's rmse: 0.148813\tvalid_1's rmse: 0.170829\n",
      "[384]\ttraining's rmse: 0.14858\tvalid_1's rmse: 0.170642\n",
      "[385]\ttraining's rmse: 0.148346\tvalid_1's rmse: 0.170459\n",
      "[386]\ttraining's rmse: 0.148115\tvalid_1's rmse: 0.17028\n",
      "[387]\ttraining's rmse: 0.147895\tvalid_1's rmse: 0.170104\n",
      "[388]\ttraining's rmse: 0.147854\tvalid_1's rmse: 0.170077\n",
      "[389]\ttraining's rmse: 0.147634\tvalid_1's rmse: 0.169902\n",
      "[390]\ttraining's rmse: 0.147419\tvalid_1's rmse: 0.169733\n",
      "[391]\ttraining's rmse: 0.147205\tvalid_1's rmse: 0.169564\n",
      "[392]\ttraining's rmse: 0.146999\tvalid_1's rmse: 0.169399\n",
      "[393]\ttraining's rmse: 0.146794\tvalid_1's rmse: 0.169237\n",
      "[394]\ttraining's rmse: 0.146598\tvalid_1's rmse: 0.169082\n",
      "[395]\ttraining's rmse: 0.1464\tvalid_1's rmse: 0.168927\n",
      "[396]\ttraining's rmse: 0.146205\tvalid_1's rmse: 0.168777\n",
      "[397]\ttraining's rmse: 0.146015\tvalid_1's rmse: 0.168627\n",
      "[398]\ttraining's rmse: 0.145831\tvalid_1's rmse: 0.168482\n",
      "[399]\ttraining's rmse: 0.145646\tvalid_1's rmse: 0.168332\n",
      "[400]\ttraining's rmse: 0.145612\tvalid_1's rmse: 0.168312\n",
      "[401]\ttraining's rmse: 0.145433\tvalid_1's rmse: 0.16817\n",
      "[402]\ttraining's rmse: 0.145257\tvalid_1's rmse: 0.168032\n",
      "[403]\ttraining's rmse: 0.145086\tvalid_1's rmse: 0.167897\n",
      "[404]\ttraining's rmse: 0.144915\tvalid_1's rmse: 0.167756\n",
      "[405]\ttraining's rmse: 0.144745\tvalid_1's rmse: 0.167628\n",
      "[406]\ttraining's rmse: 0.144717\tvalid_1's rmse: 0.16761\n",
      "[407]\ttraining's rmse: 0.144551\tvalid_1's rmse: 0.167486\n",
      "[408]\ttraining's rmse: 0.14439\tvalid_1's rmse: 0.167364\n",
      "[409]\ttraining's rmse: 0.144228\tvalid_1's rmse: 0.167234\n",
      "[410]\ttraining's rmse: 0.14407\tvalid_1's rmse: 0.167114\n",
      "[411]\ttraining's rmse: 0.143919\tvalid_1's rmse: 0.166999\n",
      "[412]\ttraining's rmse: 0.143767\tvalid_1's rmse: 0.166881\n",
      "[413]\ttraining's rmse: 0.143741\tvalid_1's rmse: 0.166866\n",
      "[414]\ttraining's rmse: 0.143716\tvalid_1's rmse: 0.166849\n",
      "[415]\ttraining's rmse: 0.143571\tvalid_1's rmse: 0.166735\n",
      "[416]\ttraining's rmse: 0.143424\tvalid_1's rmse: 0.166624\n",
      "[417]\ttraining's rmse: 0.1434\tvalid_1's rmse: 0.166608\n",
      "[418]\ttraining's rmse: 0.143259\tvalid_1's rmse: 0.1665\n",
      "[419]\ttraining's rmse: 0.14312\tvalid_1's rmse: 0.166392\n",
      "[420]\ttraining's rmse: 0.142983\tvalid_1's rmse: 0.166282\n",
      "[421]\ttraining's rmse: 0.142847\tvalid_1's rmse: 0.16618\n",
      "[422]\ttraining's rmse: 0.142713\tvalid_1's rmse: 0.16608\n",
      "[423]\ttraining's rmse: 0.142584\tvalid_1's rmse: 0.165982\n",
      "[424]\ttraining's rmse: 0.142563\tvalid_1's rmse: 0.165968\n",
      "[425]\ttraining's rmse: 0.14244\tvalid_1's rmse: 0.165873\n",
      "[426]\ttraining's rmse: 0.142315\tvalid_1's rmse: 0.165777\n",
      "[427]\ttraining's rmse: 0.142196\tvalid_1's rmse: 0.165685\n",
      "[428]\ttraining's rmse: 0.142078\tvalid_1's rmse: 0.165597\n",
      "[429]\ttraining's rmse: 0.141955\tvalid_1's rmse: 0.165504\n",
      "[430]\ttraining's rmse: 0.141835\tvalid_1's rmse: 0.165407\n",
      "[431]\ttraining's rmse: 0.141723\tvalid_1's rmse: 0.165321\n",
      "[432]\ttraining's rmse: 0.141611\tvalid_1's rmse: 0.165235\n",
      "[433]\ttraining's rmse: 0.141499\tvalid_1's rmse: 0.165159\n",
      "[434]\ttraining's rmse: 0.141387\tvalid_1's rmse: 0.165075\n",
      "[435]\ttraining's rmse: 0.141284\tvalid_1's rmse: 0.164998\n",
      "[436]\ttraining's rmse: 0.141183\tvalid_1's rmse: 0.164924\n",
      "[437]\ttraining's rmse: 0.141076\tvalid_1's rmse: 0.164853\n",
      "[438]\ttraining's rmse: 0.140976\tvalid_1's rmse: 0.164778\n",
      "[439]\ttraining's rmse: 0.140879\tvalid_1's rmse: 0.164708\n",
      "[440]\ttraining's rmse: 0.14078\tvalid_1's rmse: 0.164638\n",
      "[441]\ttraining's rmse: 0.140682\tvalid_1's rmse: 0.164568\n",
      "[442]\ttraining's rmse: 0.140584\tvalid_1's rmse: 0.164492\n",
      "[443]\ttraining's rmse: 0.140568\tvalid_1's rmse: 0.164484\n",
      "[444]\ttraining's rmse: 0.14048\tvalid_1's rmse: 0.164421\n",
      "[445]\ttraining's rmse: 0.140387\tvalid_1's rmse: 0.164347\n",
      "[446]\ttraining's rmse: 0.140297\tvalid_1's rmse: 0.164282\n",
      "[447]\ttraining's rmse: 0.140211\tvalid_1's rmse: 0.164219\n",
      "[448]\ttraining's rmse: 0.140129\tvalid_1's rmse: 0.164159\n",
      "[449]\ttraining's rmse: 0.140047\tvalid_1's rmse: 0.1641\n",
      "[450]\ttraining's rmse: 0.139962\tvalid_1's rmse: 0.164041\n"
     ]
    },
    {
     "name": "stdout",
     "output_type": "stream",
     "text": [
      "[451]\ttraining's rmse: 0.139877\tvalid_1's rmse: 0.163976\n",
      "[452]\ttraining's rmse: 0.1398\tvalid_1's rmse: 0.163922\n",
      "[453]\ttraining's rmse: 0.139781\tvalid_1's rmse: 0.163912\n",
      "[454]\ttraining's rmse: 0.1397\tvalid_1's rmse: 0.163861\n",
      "[455]\ttraining's rmse: 0.139622\tvalid_1's rmse: 0.163805\n",
      "[456]\ttraining's rmse: 0.139543\tvalid_1's rmse: 0.163751\n",
      "[457]\ttraining's rmse: 0.139469\tvalid_1's rmse: 0.163704\n",
      "[458]\ttraining's rmse: 0.139397\tvalid_1's rmse: 0.163653\n",
      "[459]\ttraining's rmse: 0.139324\tvalid_1's rmse: 0.163597\n",
      "[460]\ttraining's rmse: 0.139307\tvalid_1's rmse: 0.163589\n",
      "[461]\ttraining's rmse: 0.139289\tvalid_1's rmse: 0.163581\n",
      "[462]\ttraining's rmse: 0.139218\tvalid_1's rmse: 0.163529\n",
      "[463]\ttraining's rmse: 0.13915\tvalid_1's rmse: 0.163478\n",
      "[464]\ttraining's rmse: 0.139082\tvalid_1's rmse: 0.163427\n",
      "[465]\ttraining's rmse: 0.139016\tvalid_1's rmse: 0.163382\n",
      "[466]\ttraining's rmse: 0.139\tvalid_1's rmse: 0.163374\n",
      "[467]\ttraining's rmse: 0.138937\tvalid_1's rmse: 0.163326\n",
      "[468]\ttraining's rmse: 0.138875\tvalid_1's rmse: 0.163283\n",
      "[469]\ttraining's rmse: 0.138808\tvalid_1's rmse: 0.163232\n",
      "[470]\ttraining's rmse: 0.138743\tvalid_1's rmse: 0.163187\n",
      "[471]\ttraining's rmse: 0.138728\tvalid_1's rmse: 0.163178\n",
      "[472]\ttraining's rmse: 0.138712\tvalid_1's rmse: 0.16317\n",
      "[473]\ttraining's rmse: 0.138651\tvalid_1's rmse: 0.163127\n",
      "[474]\ttraining's rmse: 0.138589\tvalid_1's rmse: 0.163083\n",
      "[475]\ttraining's rmse: 0.138533\tvalid_1's rmse: 0.163042\n",
      "[476]\ttraining's rmse: 0.138471\tvalid_1's rmse: 0.163005\n",
      "[477]\ttraining's rmse: 0.138456\tvalid_1's rmse: 0.162998\n",
      "[478]\ttraining's rmse: 0.138402\tvalid_1's rmse: 0.162961\n",
      "[479]\ttraining's rmse: 0.138346\tvalid_1's rmse: 0.162927\n",
      "[480]\ttraining's rmse: 0.138289\tvalid_1's rmse: 0.162891\n",
      "[481]\ttraining's rmse: 0.138276\tvalid_1's rmse: 0.162883\n",
      "[482]\ttraining's rmse: 0.138224\tvalid_1's rmse: 0.16285\n",
      "[483]\ttraining's rmse: 0.138174\tvalid_1's rmse: 0.162812\n",
      "[484]\ttraining's rmse: 0.138118\tvalid_1's rmse: 0.162773\n",
      "[485]\ttraining's rmse: 0.138063\tvalid_1's rmse: 0.162741\n",
      "[486]\ttraining's rmse: 0.138011\tvalid_1's rmse: 0.162705\n",
      "[487]\ttraining's rmse: 0.137964\tvalid_1's rmse: 0.162674\n",
      "[488]\ttraining's rmse: 0.137913\tvalid_1's rmse: 0.162642\n",
      "[489]\ttraining's rmse: 0.137899\tvalid_1's rmse: 0.162635\n",
      "[490]\ttraining's rmse: 0.137886\tvalid_1's rmse: 0.162628\n",
      "[491]\ttraining's rmse: 0.137836\tvalid_1's rmse: 0.16259\n",
      "[492]\ttraining's rmse: 0.137792\tvalid_1's rmse: 0.162558\n",
      "[493]\ttraining's rmse: 0.137748\tvalid_1's rmse: 0.16253\n",
      "[494]\ttraining's rmse: 0.137701\tvalid_1's rmse: 0.162502\n",
      "[495]\ttraining's rmse: 0.137688\tvalid_1's rmse: 0.162496\n",
      "[496]\ttraining's rmse: 0.137679\tvalid_1's rmse: 0.162491\n",
      "[497]\ttraining's rmse: 0.137631\tvalid_1's rmse: 0.162458\n",
      "[498]\ttraining's rmse: 0.137583\tvalid_1's rmse: 0.162432\n",
      "[499]\ttraining's rmse: 0.137541\tvalid_1's rmse: 0.162402\n",
      "[500]\ttraining's rmse: 0.137495\tvalid_1's rmse: 0.162368\n",
      "[501]\ttraining's rmse: 0.137454\tvalid_1's rmse: 0.16234\n",
      "[502]\ttraining's rmse: 0.137416\tvalid_1's rmse: 0.162316\n",
      "[503]\ttraining's rmse: 0.137372\tvalid_1's rmse: 0.16229\n",
      "[504]\ttraining's rmse: 0.137332\tvalid_1's rmse: 0.16227\n",
      "[505]\ttraining's rmse: 0.137294\tvalid_1's rmse: 0.162249\n",
      "[506]\ttraining's rmse: 0.137253\tvalid_1's rmse: 0.162223\n",
      "[507]\ttraining's rmse: 0.137211\tvalid_1's rmse: 0.1622\n",
      "[508]\ttraining's rmse: 0.137175\tvalid_1's rmse: 0.162175\n",
      "[509]\ttraining's rmse: 0.137136\tvalid_1's rmse: 0.162151\n",
      "[510]\ttraining's rmse: 0.137128\tvalid_1's rmse: 0.162146\n",
      "[511]\ttraining's rmse: 0.137088\tvalid_1's rmse: 0.162118\n",
      "[512]\ttraining's rmse: 0.137049\tvalid_1's rmse: 0.162095\n",
      "[513]\ttraining's rmse: 0.137038\tvalid_1's rmse: 0.162091\n",
      "[514]\ttraining's rmse: 0.136999\tvalid_1's rmse: 0.162062\n",
      "[515]\ttraining's rmse: 0.136964\tvalid_1's rmse: 0.16204\n",
      "[516]\ttraining's rmse: 0.136933\tvalid_1's rmse: 0.162021\n",
      "[517]\ttraining's rmse: 0.136896\tvalid_1's rmse: 0.162002\n",
      "[518]\ttraining's rmse: 0.136862\tvalid_1's rmse: 0.161986\n",
      "[519]\ttraining's rmse: 0.136825\tvalid_1's rmse: 0.161965\n",
      "[520]\ttraining's rmse: 0.136791\tvalid_1's rmse: 0.161945\n",
      "[521]\ttraining's rmse: 0.136756\tvalid_1's rmse: 0.161921\n",
      "[522]\ttraining's rmse: 0.136727\tvalid_1's rmse: 0.161904\n",
      "[523]\ttraining's rmse: 0.136697\tvalid_1's rmse: 0.161891\n",
      "[524]\ttraining's rmse: 0.136668\tvalid_1's rmse: 0.161875\n",
      "[525]\ttraining's rmse: 0.136635\tvalid_1's rmse: 0.161861\n",
      "[526]\ttraining's rmse: 0.136598\tvalid_1's rmse: 0.16184\n",
      "[527]\ttraining's rmse: 0.136568\tvalid_1's rmse: 0.161819\n",
      "[528]\ttraining's rmse: 0.13654\tvalid_1's rmse: 0.161802\n",
      "[529]\ttraining's rmse: 0.136511\tvalid_1's rmse: 0.161788\n",
      "[530]\ttraining's rmse: 0.136483\tvalid_1's rmse: 0.161775\n",
      "[531]\ttraining's rmse: 0.136453\tvalid_1's rmse: 0.161761\n",
      "[532]\ttraining's rmse: 0.136418\tvalid_1's rmse: 0.161741\n",
      "[533]\ttraining's rmse: 0.136411\tvalid_1's rmse: 0.161738\n",
      "[534]\ttraining's rmse: 0.136387\tvalid_1's rmse: 0.161724\n",
      "[535]\ttraining's rmse: 0.136357\tvalid_1's rmse: 0.161704\n",
      "[536]\ttraining's rmse: 0.136328\tvalid_1's rmse: 0.161691\n",
      "[537]\ttraining's rmse: 0.136304\tvalid_1's rmse: 0.161676\n",
      "[538]\ttraining's rmse: 0.13628\tvalid_1's rmse: 0.161662\n",
      "[539]\ttraining's rmse: 0.136258\tvalid_1's rmse: 0.161652\n",
      "[540]\ttraining's rmse: 0.136231\tvalid_1's rmse: 0.161639\n",
      "[541]\ttraining's rmse: 0.136199\tvalid_1's rmse: 0.161625\n",
      "[542]\ttraining's rmse: 0.136174\tvalid_1's rmse: 0.161611\n",
      "[543]\ttraining's rmse: 0.136147\tvalid_1's rmse: 0.161602\n",
      "[544]\ttraining's rmse: 0.136125\tvalid_1's rmse: 0.161591\n",
      "[545]\ttraining's rmse: 0.136118\tvalid_1's rmse: 0.161589\n",
      "[546]\ttraining's rmse: 0.136092\tvalid_1's rmse: 0.161579\n",
      "[547]\ttraining's rmse: 0.136072\tvalid_1's rmse: 0.161567\n",
      "[548]\ttraining's rmse: 0.136045\tvalid_1's rmse: 0.161551\n",
      "[549]\ttraining's rmse: 0.136021\tvalid_1's rmse: 0.161536\n",
      "[550]\ttraining's rmse: 0.135996\tvalid_1's rmse: 0.161518\n",
      "[551]\ttraining's rmse: 0.135977\tvalid_1's rmse: 0.161509\n",
      "[552]\ttraining's rmse: 0.135953\tvalid_1's rmse: 0.161496\n",
      "[553]\ttraining's rmse: 0.135933\tvalid_1's rmse: 0.161486\n",
      "[554]\ttraining's rmse: 0.135927\tvalid_1's rmse: 0.161482\n",
      "[555]\ttraining's rmse: 0.135909\tvalid_1's rmse: 0.161472\n",
      "[556]\ttraining's rmse: 0.135882\tvalid_1's rmse: 0.161461\n",
      "[557]\ttraining's rmse: 0.135864\tvalid_1's rmse: 0.161454\n",
      "[558]\ttraining's rmse: 0.135844\tvalid_1's rmse: 0.161443\n",
      "[559]\ttraining's rmse: 0.135821\tvalid_1's rmse: 0.161429\n",
      "[560]\ttraining's rmse: 0.135804\tvalid_1's rmse: 0.161418\n",
      "[561]\ttraining's rmse: 0.135782\tvalid_1's rmse: 0.16141\n",
      "[562]\ttraining's rmse: 0.135758\tvalid_1's rmse: 0.161398\n",
      "[563]\ttraining's rmse: 0.135739\tvalid_1's rmse: 0.161387\n",
      "[564]\ttraining's rmse: 0.135718\tvalid_1's rmse: 0.161384\n",
      "[565]\ttraining's rmse: 0.135698\tvalid_1's rmse: 0.161369\n",
      "[566]\ttraining's rmse: 0.135675\tvalid_1's rmse: 0.161356\n",
      "[567]\ttraining's rmse: 0.135658\tvalid_1's rmse: 0.161347\n",
      "[568]\ttraining's rmse: 0.135644\tvalid_1's rmse: 0.16134\n",
      "[569]\ttraining's rmse: 0.135629\tvalid_1's rmse: 0.161334\n",
      "[570]\ttraining's rmse: 0.135605\tvalid_1's rmse: 0.161324\n",
      "[571]\ttraining's rmse: 0.135586\tvalid_1's rmse: 0.161315\n",
      "[572]\ttraining's rmse: 0.135566\tvalid_1's rmse: 0.16131\n",
      "[573]\ttraining's rmse: 0.135553\tvalid_1's rmse: 0.161305\n",
      "[574]\ttraining's rmse: 0.135534\tvalid_1's rmse: 0.161296\n",
      "[575]\ttraining's rmse: 0.13552\tvalid_1's rmse: 0.161288\n",
      "[576]\ttraining's rmse: 0.135506\tvalid_1's rmse: 0.161281\n",
      "[577]\ttraining's rmse: 0.135487\tvalid_1's rmse: 0.161269\n",
      "[578]\ttraining's rmse: 0.135473\tvalid_1's rmse: 0.161266\n",
      "[579]\ttraining's rmse: 0.135455\tvalid_1's rmse: 0.161263\n",
      "[580]\ttraining's rmse: 0.135438\tvalid_1's rmse: 0.161253\n",
      "[581]\ttraining's rmse: 0.135423\tvalid_1's rmse: 0.161247\n",
      "[582]\ttraining's rmse: 0.135418\tvalid_1's rmse: 0.161247\n",
      "[583]\ttraining's rmse: 0.135402\tvalid_1's rmse: 0.161236\n",
      "[584]\ttraining's rmse: 0.135381\tvalid_1's rmse: 0.16123\n",
      "[585]\ttraining's rmse: 0.135354\tvalid_1's rmse: 0.161219\n",
      "[586]\ttraining's rmse: 0.135336\tvalid_1's rmse: 0.161211\n",
      "[587]\ttraining's rmse: 0.135322\tvalid_1's rmse: 0.161205\n",
      "[588]\ttraining's rmse: 0.135308\tvalid_1's rmse: 0.161199\n",
      "[589]\ttraining's rmse: 0.135292\tvalid_1's rmse: 0.161188\n",
      "[590]\ttraining's rmse: 0.135273\tvalid_1's rmse: 0.161181\n",
      "[591]\ttraining's rmse: 0.135259\tvalid_1's rmse: 0.161175\n",
      "[592]\ttraining's rmse: 0.135248\tvalid_1's rmse: 0.161169\n",
      "[593]\ttraining's rmse: 0.135232\tvalid_1's rmse: 0.161163\n",
      "[594]\ttraining's rmse: 0.135226\tvalid_1's rmse: 0.161163\n",
      "[595]\ttraining's rmse: 0.135219\tvalid_1's rmse: 0.161163\n",
      "[596]\ttraining's rmse: 0.135216\tvalid_1's rmse: 0.161162\n",
      "[597]\ttraining's rmse: 0.135199\tvalid_1's rmse: 0.161153\n",
      "[598]\ttraining's rmse: 0.135179\tvalid_1's rmse: 0.161143\n",
      "[599]\ttraining's rmse: 0.135169\tvalid_1's rmse: 0.16114\n",
      "[600]\ttraining's rmse: 0.135148\tvalid_1's rmse: 0.161134\n",
      "[601]\ttraining's rmse: 0.135123\tvalid_1's rmse: 0.161127\n"
     ]
    },
    {
     "name": "stdout",
     "output_type": "stream",
     "text": [
      "[602]\ttraining's rmse: 0.135109\tvalid_1's rmse: 0.16112\n",
      "[603]\ttraining's rmse: 0.135099\tvalid_1's rmse: 0.161115\n",
      "[604]\ttraining's rmse: 0.135084\tvalid_1's rmse: 0.161107\n",
      "[605]\ttraining's rmse: 0.135072\tvalid_1's rmse: 0.161104\n",
      "[606]\ttraining's rmse: 0.135057\tvalid_1's rmse: 0.161101\n",
      "[607]\ttraining's rmse: 0.13504\tvalid_1's rmse: 0.161096\n",
      "[608]\ttraining's rmse: 0.135032\tvalid_1's rmse: 0.161094\n",
      "[609]\ttraining's rmse: 0.135008\tvalid_1's rmse: 0.161089\n",
      "[610]\ttraining's rmse: 0.134994\tvalid_1's rmse: 0.161087\n",
      "[611]\ttraining's rmse: 0.134985\tvalid_1's rmse: 0.161083\n",
      "[612]\ttraining's rmse: 0.134971\tvalid_1's rmse: 0.161077\n",
      "[613]\ttraining's rmse: 0.134956\tvalid_1's rmse: 0.16107\n",
      "[614]\ttraining's rmse: 0.134949\tvalid_1's rmse: 0.161066\n",
      "[615]\ttraining's rmse: 0.134938\tvalid_1's rmse: 0.161064\n",
      "[616]\ttraining's rmse: 0.13493\tvalid_1's rmse: 0.161061\n",
      "[617]\ttraining's rmse: 0.134923\tvalid_1's rmse: 0.16106\n",
      "[618]\ttraining's rmse: 0.134907\tvalid_1's rmse: 0.161057\n",
      "[619]\ttraining's rmse: 0.134896\tvalid_1's rmse: 0.161052\n",
      "[620]\ttraining's rmse: 0.134883\tvalid_1's rmse: 0.161044\n",
      "[621]\ttraining's rmse: 0.134874\tvalid_1's rmse: 0.161043\n",
      "[622]\ttraining's rmse: 0.134862\tvalid_1's rmse: 0.161039\n",
      "[623]\ttraining's rmse: 0.134849\tvalid_1's rmse: 0.161033\n",
      "[624]\ttraining's rmse: 0.134843\tvalid_1's rmse: 0.161033\n",
      "[625]\ttraining's rmse: 0.134828\tvalid_1's rmse: 0.161029\n",
      "[626]\ttraining's rmse: 0.134815\tvalid_1's rmse: 0.161028\n",
      "[627]\ttraining's rmse: 0.134806\tvalid_1's rmse: 0.161023\n",
      "[628]\ttraining's rmse: 0.134793\tvalid_1's rmse: 0.161015\n",
      "[629]\ttraining's rmse: 0.134788\tvalid_1's rmse: 0.161015\n",
      "[630]\ttraining's rmse: 0.134771\tvalid_1's rmse: 0.161007\n",
      "[631]\ttraining's rmse: 0.134765\tvalid_1's rmse: 0.161006\n",
      "[632]\ttraining's rmse: 0.134754\tvalid_1's rmse: 0.161003\n",
      "[633]\ttraining's rmse: 0.134746\tvalid_1's rmse: 0.160999\n",
      "[634]\ttraining's rmse: 0.134733\tvalid_1's rmse: 0.160999\n",
      "[635]\ttraining's rmse: 0.134717\tvalid_1's rmse: 0.160994\n",
      "[636]\ttraining's rmse: 0.134704\tvalid_1's rmse: 0.160989\n",
      "[637]\ttraining's rmse: 0.134698\tvalid_1's rmse: 0.160988\n",
      "[638]\ttraining's rmse: 0.134691\tvalid_1's rmse: 0.160986\n",
      "[639]\ttraining's rmse: 0.134677\tvalid_1's rmse: 0.160983\n",
      "[640]\ttraining's rmse: 0.134661\tvalid_1's rmse: 0.16098\n",
      "[641]\ttraining's rmse: 0.134649\tvalid_1's rmse: 0.160975\n",
      "[642]\ttraining's rmse: 0.134635\tvalid_1's rmse: 0.160969\n",
      "[643]\ttraining's rmse: 0.134625\tvalid_1's rmse: 0.160966\n",
      "[644]\ttraining's rmse: 0.134619\tvalid_1's rmse: 0.160966\n",
      "[645]\ttraining's rmse: 0.134615\tvalid_1's rmse: 0.160965\n",
      "[646]\ttraining's rmse: 0.134603\tvalid_1's rmse: 0.16096\n",
      "[647]\ttraining's rmse: 0.134599\tvalid_1's rmse: 0.160957\n",
      "[648]\ttraining's rmse: 0.134583\tvalid_1's rmse: 0.160949\n",
      "[649]\ttraining's rmse: 0.134576\tvalid_1's rmse: 0.160945\n",
      "[650]\ttraining's rmse: 0.134569\tvalid_1's rmse: 0.160945\n",
      "[651]\ttraining's rmse: 0.134553\tvalid_1's rmse: 0.160942\n",
      "[652]\ttraining's rmse: 0.13454\tvalid_1's rmse: 0.160938\n",
      "[653]\ttraining's rmse: 0.134532\tvalid_1's rmse: 0.160935\n",
      "[654]\ttraining's rmse: 0.134519\tvalid_1's rmse: 0.16093\n",
      "[655]\ttraining's rmse: 0.134508\tvalid_1's rmse: 0.160929\n",
      "[656]\ttraining's rmse: 0.134501\tvalid_1's rmse: 0.160926\n",
      "[657]\ttraining's rmse: 0.134481\tvalid_1's rmse: 0.160919\n",
      "[658]\ttraining's rmse: 0.134471\tvalid_1's rmse: 0.160914\n",
      "[659]\ttraining's rmse: 0.134464\tvalid_1's rmse: 0.160915\n",
      "[660]\ttraining's rmse: 0.134455\tvalid_1's rmse: 0.160912\n",
      "[661]\ttraining's rmse: 0.134448\tvalid_1's rmse: 0.160909\n",
      "[662]\ttraining's rmse: 0.134441\tvalid_1's rmse: 0.160905\n",
      "[663]\ttraining's rmse: 0.13442\tvalid_1's rmse: 0.160895\n",
      "[664]\ttraining's rmse: 0.13441\tvalid_1's rmse: 0.160895\n",
      "[665]\ttraining's rmse: 0.134402\tvalid_1's rmse: 0.160894\n",
      "[666]\ttraining's rmse: 0.134388\tvalid_1's rmse: 0.160895\n",
      "[667]\ttraining's rmse: 0.134379\tvalid_1's rmse: 0.160893\n",
      "[668]\ttraining's rmse: 0.134374\tvalid_1's rmse: 0.160893\n",
      "[669]\ttraining's rmse: 0.134362\tvalid_1's rmse: 0.160887\n",
      "[670]\ttraining's rmse: 0.134355\tvalid_1's rmse: 0.160884\n",
      "[671]\ttraining's rmse: 0.134343\tvalid_1's rmse: 0.160881\n",
      "[672]\ttraining's rmse: 0.134339\tvalid_1's rmse: 0.160881\n",
      "[673]\ttraining's rmse: 0.134319\tvalid_1's rmse: 0.160877\n",
      "[674]\ttraining's rmse: 0.134309\tvalid_1's rmse: 0.160874\n",
      "[675]\ttraining's rmse: 0.134298\tvalid_1's rmse: 0.160867\n",
      "[676]\ttraining's rmse: 0.13429\tvalid_1's rmse: 0.160865\n",
      "[677]\ttraining's rmse: 0.13428\tvalid_1's rmse: 0.160863\n",
      "[678]\ttraining's rmse: 0.134272\tvalid_1's rmse: 0.160861\n",
      "[679]\ttraining's rmse: 0.134262\tvalid_1's rmse: 0.160859\n",
      "[680]\ttraining's rmse: 0.134244\tvalid_1's rmse: 0.160858\n",
      "[681]\ttraining's rmse: 0.134234\tvalid_1's rmse: 0.160852\n",
      "[682]\ttraining's rmse: 0.134228\tvalid_1's rmse: 0.160853\n",
      "[683]\ttraining's rmse: 0.134213\tvalid_1's rmse: 0.160852\n",
      "[684]\ttraining's rmse: 0.134203\tvalid_1's rmse: 0.160855\n",
      "[685]\ttraining's rmse: 0.134192\tvalid_1's rmse: 0.160854\n",
      "[686]\ttraining's rmse: 0.13418\tvalid_1's rmse: 0.160852\n",
      "[687]\ttraining's rmse: 0.134173\tvalid_1's rmse: 0.160848\n",
      "[688]\ttraining's rmse: 0.134171\tvalid_1's rmse: 0.160849\n",
      "[689]\ttraining's rmse: 0.134162\tvalid_1's rmse: 0.160847\n",
      "[690]\ttraining's rmse: 0.134149\tvalid_1's rmse: 0.160844\n",
      "[691]\ttraining's rmse: 0.134144\tvalid_1's rmse: 0.160845\n",
      "[692]\ttraining's rmse: 0.134139\tvalid_1's rmse: 0.160844\n",
      "[693]\ttraining's rmse: 0.134131\tvalid_1's rmse: 0.160841\n",
      "[694]\ttraining's rmse: 0.134123\tvalid_1's rmse: 0.160842\n",
      "[695]\ttraining's rmse: 0.134113\tvalid_1's rmse: 0.160837\n",
      "[696]\ttraining's rmse: 0.134104\tvalid_1's rmse: 0.160834\n",
      "[697]\ttraining's rmse: 0.134093\tvalid_1's rmse: 0.160828\n",
      "[698]\ttraining's rmse: 0.134088\tvalid_1's rmse: 0.160829\n",
      "[699]\ttraining's rmse: 0.134077\tvalid_1's rmse: 0.160826\n",
      "[700]\ttraining's rmse: 0.134061\tvalid_1's rmse: 0.160823\n",
      "[701]\ttraining's rmse: 0.13406\tvalid_1's rmse: 0.160824\n",
      "[702]\ttraining's rmse: 0.134051\tvalid_1's rmse: 0.160821\n",
      "[703]\ttraining's rmse: 0.134043\tvalid_1's rmse: 0.160818\n",
      "[704]\ttraining's rmse: 0.134032\tvalid_1's rmse: 0.160817\n",
      "[705]\ttraining's rmse: 0.134026\tvalid_1's rmse: 0.160814\n",
      "[706]\ttraining's rmse: 0.134022\tvalid_1's rmse: 0.160812\n",
      "[707]\ttraining's rmse: 0.134015\tvalid_1's rmse: 0.160812\n",
      "[708]\ttraining's rmse: 0.134007\tvalid_1's rmse: 0.160807\n",
      "[709]\ttraining's rmse: 0.133997\tvalid_1's rmse: 0.160808\n",
      "[710]\ttraining's rmse: 0.133986\tvalid_1's rmse: 0.160807\n",
      "[711]\ttraining's rmse: 0.133984\tvalid_1's rmse: 0.160808\n",
      "[712]\ttraining's rmse: 0.133982\tvalid_1's rmse: 0.160809\n",
      "[713]\ttraining's rmse: 0.133969\tvalid_1's rmse: 0.160807\n",
      "[714]\ttraining's rmse: 0.133955\tvalid_1's rmse: 0.160806\n",
      "[715]\ttraining's rmse: 0.133954\tvalid_1's rmse: 0.160806\n",
      "[716]\ttraining's rmse: 0.133947\tvalid_1's rmse: 0.160804\n",
      "[717]\ttraining's rmse: 0.133938\tvalid_1's rmse: 0.1608\n",
      "[718]\ttraining's rmse: 0.133936\tvalid_1's rmse: 0.160801\n",
      "[719]\ttraining's rmse: 0.133935\tvalid_1's rmse: 0.160802\n",
      "[720]\ttraining's rmse: 0.133925\tvalid_1's rmse: 0.160797\n",
      "[721]\ttraining's rmse: 0.133919\tvalid_1's rmse: 0.160793\n",
      "[722]\ttraining's rmse: 0.13391\tvalid_1's rmse: 0.160791\n",
      "[723]\ttraining's rmse: 0.133897\tvalid_1's rmse: 0.160788\n",
      "[724]\ttraining's rmse: 0.13389\tvalid_1's rmse: 0.160786\n",
      "[725]\ttraining's rmse: 0.133879\tvalid_1's rmse: 0.160777\n",
      "[726]\ttraining's rmse: 0.133874\tvalid_1's rmse: 0.160775\n",
      "[727]\ttraining's rmse: 0.133868\tvalid_1's rmse: 0.160769\n",
      "[728]\ttraining's rmse: 0.133854\tvalid_1's rmse: 0.160763\n",
      "[729]\ttraining's rmse: 0.133845\tvalid_1's rmse: 0.160756\n",
      "[730]\ttraining's rmse: 0.133832\tvalid_1's rmse: 0.16075\n",
      "[731]\ttraining's rmse: 0.133831\tvalid_1's rmse: 0.160751\n",
      "[732]\ttraining's rmse: 0.133823\tvalid_1's rmse: 0.160748\n",
      "[733]\ttraining's rmse: 0.133814\tvalid_1's rmse: 0.160743\n",
      "[734]\ttraining's rmse: 0.133799\tvalid_1's rmse: 0.160741\n",
      "[735]\ttraining's rmse: 0.133797\tvalid_1's rmse: 0.160742\n",
      "[736]\ttraining's rmse: 0.13379\tvalid_1's rmse: 0.16074\n",
      "[737]\ttraining's rmse: 0.133787\tvalid_1's rmse: 0.160741\n",
      "[738]\ttraining's rmse: 0.133781\tvalid_1's rmse: 0.160738\n",
      "[739]\ttraining's rmse: 0.133771\tvalid_1's rmse: 0.160735\n",
      "[740]\ttraining's rmse: 0.13377\tvalid_1's rmse: 0.160736\n",
      "[741]\ttraining's rmse: 0.133764\tvalid_1's rmse: 0.160733\n",
      "[742]\ttraining's rmse: 0.133753\tvalid_1's rmse: 0.160727\n",
      "[743]\ttraining's rmse: 0.133751\tvalid_1's rmse: 0.160727\n",
      "[744]\ttraining's rmse: 0.13375\tvalid_1's rmse: 0.160728\n",
      "[745]\ttraining's rmse: 0.133739\tvalid_1's rmse: 0.160722\n",
      "[746]\ttraining's rmse: 0.133727\tvalid_1's rmse: 0.160715\n",
      "[747]\ttraining's rmse: 0.133716\tvalid_1's rmse: 0.16071\n",
      "[748]\ttraining's rmse: 0.133705\tvalid_1's rmse: 0.160706\n",
      "[749]\ttraining's rmse: 0.133692\tvalid_1's rmse: 0.160703\n",
      "[750]\ttraining's rmse: 0.133681\tvalid_1's rmse: 0.160699\n",
      "[751]\ttraining's rmse: 0.133668\tvalid_1's rmse: 0.160695\n"
     ]
    },
    {
     "name": "stdout",
     "output_type": "stream",
     "text": [
      "[752]\ttraining's rmse: 0.133658\tvalid_1's rmse: 0.16069\n",
      "[753]\ttraining's rmse: 0.133647\tvalid_1's rmse: 0.160686\n",
      "[754]\ttraining's rmse: 0.133636\tvalid_1's rmse: 0.160682\n",
      "[755]\ttraining's rmse: 0.133631\tvalid_1's rmse: 0.160684\n",
      "[756]\ttraining's rmse: 0.133622\tvalid_1's rmse: 0.160685\n",
      "[757]\ttraining's rmse: 0.133613\tvalid_1's rmse: 0.160682\n",
      "[758]\ttraining's rmse: 0.133603\tvalid_1's rmse: 0.160679\n",
      "[759]\ttraining's rmse: 0.133599\tvalid_1's rmse: 0.160679\n",
      "[760]\ttraining's rmse: 0.133589\tvalid_1's rmse: 0.160676\n",
      "[761]\ttraining's rmse: 0.13358\tvalid_1's rmse: 0.160672\n",
      "[762]\ttraining's rmse: 0.133568\tvalid_1's rmse: 0.160668\n",
      "[763]\ttraining's rmse: 0.133559\tvalid_1's rmse: 0.160665\n",
      "[764]\ttraining's rmse: 0.133549\tvalid_1's rmse: 0.160661\n",
      "[765]\ttraining's rmse: 0.13354\tvalid_1's rmse: 0.160658\n",
      "[766]\ttraining's rmse: 0.133529\tvalid_1's rmse: 0.160656\n",
      "[767]\ttraining's rmse: 0.133521\tvalid_1's rmse: 0.160653\n",
      "[768]\ttraining's rmse: 0.133512\tvalid_1's rmse: 0.16065\n",
      "[769]\ttraining's rmse: 0.133504\tvalid_1's rmse: 0.160647\n",
      "[770]\ttraining's rmse: 0.133493\tvalid_1's rmse: 0.160647\n",
      "[771]\ttraining's rmse: 0.133485\tvalid_1's rmse: 0.160644\n",
      "[772]\ttraining's rmse: 0.133476\tvalid_1's rmse: 0.160642\n",
      "[773]\ttraining's rmse: 0.133466\tvalid_1's rmse: 0.160637\n",
      "[774]\ttraining's rmse: 0.133458\tvalid_1's rmse: 0.160639\n",
      "[775]\ttraining's rmse: 0.133448\tvalid_1's rmse: 0.160639\n",
      "[776]\ttraining's rmse: 0.13344\tvalid_1's rmse: 0.16064\n",
      "[777]\ttraining's rmse: 0.133433\tvalid_1's rmse: 0.160637\n",
      "[778]\ttraining's rmse: 0.133425\tvalid_1's rmse: 0.160634\n",
      "[779]\ttraining's rmse: 0.133418\tvalid_1's rmse: 0.16063\n",
      "[780]\ttraining's rmse: 0.133411\tvalid_1's rmse: 0.160626\n",
      "[781]\ttraining's rmse: 0.133404\tvalid_1's rmse: 0.160624\n",
      "[782]\ttraining's rmse: 0.133397\tvalid_1's rmse: 0.160622\n",
      "[783]\ttraining's rmse: 0.13338\tvalid_1's rmse: 0.160623\n",
      "[784]\ttraining's rmse: 0.133373\tvalid_1's rmse: 0.160619\n",
      "[785]\ttraining's rmse: 0.133365\tvalid_1's rmse: 0.160615\n",
      "[786]\ttraining's rmse: 0.133356\tvalid_1's rmse: 0.160616\n",
      "[787]\ttraining's rmse: 0.133349\tvalid_1's rmse: 0.160614\n",
      "[788]\ttraining's rmse: 0.133341\tvalid_1's rmse: 0.160616\n",
      "[789]\ttraining's rmse: 0.133331\tvalid_1's rmse: 0.160618\n",
      "[790]\ttraining's rmse: 0.133317\tvalid_1's rmse: 0.160615\n",
      "[791]\ttraining's rmse: 0.133311\tvalid_1's rmse: 0.160612\n",
      "[792]\ttraining's rmse: 0.133296\tvalid_1's rmse: 0.160602\n",
      "[793]\ttraining's rmse: 0.133286\tvalid_1's rmse: 0.1606\n",
      "[794]\ttraining's rmse: 0.133272\tvalid_1's rmse: 0.160593\n",
      "[795]\ttraining's rmse: 0.133264\tvalid_1's rmse: 0.160586\n",
      "[796]\ttraining's rmse: 0.133251\tvalid_1's rmse: 0.160583\n",
      "[797]\ttraining's rmse: 0.133238\tvalid_1's rmse: 0.160579\n",
      "[798]\ttraining's rmse: 0.133223\tvalid_1's rmse: 0.160571\n",
      "[799]\ttraining's rmse: 0.133213\tvalid_1's rmse: 0.160573\n",
      "[800]\ttraining's rmse: 0.133198\tvalid_1's rmse: 0.160566\n",
      "[801]\ttraining's rmse: 0.133186\tvalid_1's rmse: 0.160561\n",
      "[802]\ttraining's rmse: 0.133174\tvalid_1's rmse: 0.160559\n",
      "[803]\ttraining's rmse: 0.133158\tvalid_1's rmse: 0.160555\n",
      "[804]\ttraining's rmse: 0.133155\tvalid_1's rmse: 0.160552\n",
      "[805]\ttraining's rmse: 0.133152\tvalid_1's rmse: 0.160549\n",
      "[806]\ttraining's rmse: 0.133149\tvalid_1's rmse: 0.160548\n",
      "[807]\ttraining's rmse: 0.133146\tvalid_1's rmse: 0.160546\n",
      "[808]\ttraining's rmse: 0.133143\tvalid_1's rmse: 0.160545\n",
      "[809]\ttraining's rmse: 0.133135\tvalid_1's rmse: 0.160547\n",
      "[810]\ttraining's rmse: 0.133132\tvalid_1's rmse: 0.160545\n",
      "[811]\ttraining's rmse: 0.133129\tvalid_1's rmse: 0.160543\n",
      "[812]\ttraining's rmse: 0.133126\tvalid_1's rmse: 0.160541\n",
      "[813]\ttraining's rmse: 0.133123\tvalid_1's rmse: 0.16054\n",
      "[814]\ttraining's rmse: 0.13312\tvalid_1's rmse: 0.160539\n",
      "[815]\ttraining's rmse: 0.133112\tvalid_1's rmse: 0.160541\n",
      "[816]\ttraining's rmse: 0.133106\tvalid_1's rmse: 0.160543\n",
      "[817]\ttraining's rmse: 0.133103\tvalid_1's rmse: 0.160541\n",
      "[818]\ttraining's rmse: 0.133101\tvalid_1's rmse: 0.160539\n",
      "[819]\ttraining's rmse: 0.133095\tvalid_1's rmse: 0.160542\n",
      "[820]\ttraining's rmse: 0.133092\tvalid_1's rmse: 0.16054\n",
      "[821]\ttraining's rmse: 0.133089\tvalid_1's rmse: 0.160539\n",
      "[822]\ttraining's rmse: 0.133086\tvalid_1's rmse: 0.160537\n",
      "[823]\ttraining's rmse: 0.133083\tvalid_1's rmse: 0.160536\n",
      "[824]\ttraining's rmse: 0.13308\tvalid_1's rmse: 0.160537\n",
      "[825]\ttraining's rmse: 0.133075\tvalid_1's rmse: 0.160538\n",
      "[826]\ttraining's rmse: 0.133071\tvalid_1's rmse: 0.16054\n",
      "[827]\ttraining's rmse: 0.133068\tvalid_1's rmse: 0.160539\n",
      "[828]\ttraining's rmse: 0.133061\tvalid_1's rmse: 0.160541\n",
      "[829]\ttraining's rmse: 0.133056\tvalid_1's rmse: 0.160541\n",
      "[830]\ttraining's rmse: 0.133051\tvalid_1's rmse: 0.160543\n",
      "[831]\ttraining's rmse: 0.133047\tvalid_1's rmse: 0.160545\n",
      "[832]\ttraining's rmse: 0.133045\tvalid_1's rmse: 0.160544\n",
      "[833]\ttraining's rmse: 0.133041\tvalid_1's rmse: 0.160546\n",
      "[834]\ttraining's rmse: 0.133039\tvalid_1's rmse: 0.160545\n",
      "[835]\ttraining's rmse: 0.133037\tvalid_1's rmse: 0.160544\n",
      "[836]\ttraining's rmse: 0.133033\tvalid_1's rmse: 0.160546\n",
      "[837]\ttraining's rmse: 0.13303\tvalid_1's rmse: 0.160543\n",
      "[838]\ttraining's rmse: 0.133027\tvalid_1's rmse: 0.160541\n",
      "[839]\ttraining's rmse: 0.133023\tvalid_1's rmse: 0.16054\n",
      "[840]\ttraining's rmse: 0.13302\tvalid_1's rmse: 0.16054\n",
      "[841]\ttraining's rmse: 0.133017\tvalid_1's rmse: 0.160542\n",
      "[842]\ttraining's rmse: 0.133013\tvalid_1's rmse: 0.160544\n",
      "[843]\ttraining's rmse: 0.133009\tvalid_1's rmse: 0.160546\n",
      "[844]\ttraining's rmse: 0.133006\tvalid_1's rmse: 0.160544\n",
      "[845]\ttraining's rmse: 0.133002\tvalid_1's rmse: 0.160546\n",
      "[846]\ttraining's rmse: 0.132999\tvalid_1's rmse: 0.160544\n",
      "[847]\ttraining's rmse: 0.132996\tvalid_1's rmse: 0.160543\n",
      "[848]\ttraining's rmse: 0.132993\tvalid_1's rmse: 0.160541\n",
      "[849]\ttraining's rmse: 0.13299\tvalid_1's rmse: 0.16054\n",
      "[850]\ttraining's rmse: 0.132987\tvalid_1's rmse: 0.160538\n",
      "[851]\ttraining's rmse: 0.132985\tvalid_1's rmse: 0.160536\n",
      "[852]\ttraining's rmse: 0.132978\tvalid_1's rmse: 0.160538\n",
      "[853]\ttraining's rmse: 0.132975\tvalid_1's rmse: 0.160538\n",
      "[854]\ttraining's rmse: 0.132972\tvalid_1's rmse: 0.160538\n",
      "[855]\ttraining's rmse: 0.132968\tvalid_1's rmse: 0.160539\n",
      "[856]\ttraining's rmse: 0.132966\tvalid_1's rmse: 0.160538\n",
      "[857]\ttraining's rmse: 0.132962\tvalid_1's rmse: 0.160538\n",
      "[858]\ttraining's rmse: 0.13296\tvalid_1's rmse: 0.160539\n",
      "[859]\ttraining's rmse: 0.132952\tvalid_1's rmse: 0.160539\n",
      "[860]\ttraining's rmse: 0.132949\tvalid_1's rmse: 0.160539\n",
      "[861]\ttraining's rmse: 0.132946\tvalid_1's rmse: 0.160538\n",
      "[862]\ttraining's rmse: 0.132944\tvalid_1's rmse: 0.160536\n",
      "[863]\ttraining's rmse: 0.13294\tvalid_1's rmse: 0.160538\n",
      "[864]\ttraining's rmse: 0.132937\tvalid_1's rmse: 0.160534\n",
      "[865]\ttraining's rmse: 0.132934\tvalid_1's rmse: 0.160536\n",
      "[866]\ttraining's rmse: 0.132931\tvalid_1's rmse: 0.160533\n",
      "[867]\ttraining's rmse: 0.132928\tvalid_1's rmse: 0.160533\n",
      "[868]\ttraining's rmse: 0.132922\tvalid_1's rmse: 0.160534\n",
      "[869]\ttraining's rmse: 0.132919\tvalid_1's rmse: 0.160533\n",
      "[870]\ttraining's rmse: 0.132913\tvalid_1's rmse: 0.160534\n",
      "[871]\ttraining's rmse: 0.132906\tvalid_1's rmse: 0.160535\n",
      "[872]\ttraining's rmse: 0.132904\tvalid_1's rmse: 0.160534\n",
      "[873]\ttraining's rmse: 0.132901\tvalid_1's rmse: 0.160531\n",
      "[874]\ttraining's rmse: 0.132899\tvalid_1's rmse: 0.160533\n",
      "[875]\ttraining's rmse: 0.132893\tvalid_1's rmse: 0.160534\n",
      "[876]\ttraining's rmse: 0.13289\tvalid_1's rmse: 0.160531\n",
      "[877]\ttraining's rmse: 0.132889\tvalid_1's rmse: 0.160533\n",
      "[878]\ttraining's rmse: 0.132882\tvalid_1's rmse: 0.160534\n",
      "[879]\ttraining's rmse: 0.13288\tvalid_1's rmse: 0.160533\n",
      "[880]\ttraining's rmse: 0.132873\tvalid_1's rmse: 0.160534\n",
      "[881]\ttraining's rmse: 0.132872\tvalid_1's rmse: 0.160534\n",
      "[882]\ttraining's rmse: 0.132869\tvalid_1's rmse: 0.160535\n",
      "[883]\ttraining's rmse: 0.132864\tvalid_1's rmse: 0.160536\n",
      "[884]\ttraining's rmse: 0.132858\tvalid_1's rmse: 0.160537\n",
      "[885]\ttraining's rmse: 0.132857\tvalid_1's rmse: 0.160537\n",
      "[886]\ttraining's rmse: 0.132854\tvalid_1's rmse: 0.160535\n",
      "[887]\ttraining's rmse: 0.132849\tvalid_1's rmse: 0.160535\n",
      "[888]\ttraining's rmse: 0.132847\tvalid_1's rmse: 0.160534\n",
      "[889]\ttraining's rmse: 0.132841\tvalid_1's rmse: 0.160536\n",
      "[890]\ttraining's rmse: 0.132838\tvalid_1's rmse: 0.160538\n",
      "[891]\ttraining's rmse: 0.132836\tvalid_1's rmse: 0.160538\n",
      "[892]\ttraining's rmse: 0.132831\tvalid_1's rmse: 0.160539\n",
      "[893]\ttraining's rmse: 0.132828\tvalid_1's rmse: 0.160538\n",
      "[894]\ttraining's rmse: 0.132822\tvalid_1's rmse: 0.16054\n",
      "[895]\ttraining's rmse: 0.132817\tvalid_1's rmse: 0.160541\n",
      "[896]\ttraining's rmse: 0.132814\tvalid_1's rmse: 0.16054\n"
     ]
    },
    {
     "name": "stdout",
     "output_type": "stream",
     "text": [
      "[897]\ttraining's rmse: 0.132813\tvalid_1's rmse: 0.160541\n",
      "[898]\ttraining's rmse: 0.132808\tvalid_1's rmse: 0.160543\n",
      "[899]\ttraining's rmse: 0.132806\tvalid_1's rmse: 0.160542\n",
      "[900]\ttraining's rmse: 0.132805\tvalid_1's rmse: 0.160542\n",
      "[901]\ttraining's rmse: 0.132802\tvalid_1's rmse: 0.160541\n",
      "[902]\ttraining's rmse: 0.132794\tvalid_1's rmse: 0.160541\n",
      "[903]\ttraining's rmse: 0.132793\tvalid_1's rmse: 0.16054\n",
      "[904]\ttraining's rmse: 0.132787\tvalid_1's rmse: 0.160543\n",
      "[905]\ttraining's rmse: 0.132778\tvalid_1's rmse: 0.160542\n",
      "[906]\ttraining's rmse: 0.132776\tvalid_1's rmse: 0.16054\n",
      "[907]\ttraining's rmse: 0.132775\tvalid_1's rmse: 0.160541\n",
      "[908]\ttraining's rmse: 0.132769\tvalid_1's rmse: 0.160543\n",
      "[909]\ttraining's rmse: 0.132759\tvalid_1's rmse: 0.160539\n",
      "[910]\ttraining's rmse: 0.132758\tvalid_1's rmse: 0.160539\n",
      "[911]\ttraining's rmse: 0.132756\tvalid_1's rmse: 0.160539\n",
      "[912]\ttraining's rmse: 0.132746\tvalid_1's rmse: 0.160542\n",
      "[913]\ttraining's rmse: 0.132738\tvalid_1's rmse: 0.160542\n",
      "[914]\ttraining's rmse: 0.132727\tvalid_1's rmse: 0.160541\n",
      "[915]\ttraining's rmse: 0.132714\tvalid_1's rmse: 0.160543\n",
      "[916]\ttraining's rmse: 0.132696\tvalid_1's rmse: 0.160544\n",
      "[917]\ttraining's rmse: 0.132684\tvalid_1's rmse: 0.160547\n",
      "[918]\ttraining's rmse: 0.132672\tvalid_1's rmse: 0.16055\n",
      "[919]\ttraining's rmse: 0.132671\tvalid_1's rmse: 0.160552\n",
      "[920]\ttraining's rmse: 0.132662\tvalid_1's rmse: 0.160552\n",
      "[921]\ttraining's rmse: 0.132658\tvalid_1's rmse: 0.160554\n",
      "[922]\ttraining's rmse: 0.132646\tvalid_1's rmse: 0.160558\n",
      "[923]\ttraining's rmse: 0.132628\tvalid_1's rmse: 0.160551\n",
      "Early stopping, best iteration is:\n",
      "[873]\ttraining's rmse: 0.132901\tvalid_1's rmse: 0.160531\n"
     ]
    },
    {
     "data": {
      "text/plain": [
       "LGBMRegressor(bagging_fraction=0.9, bagging_frequency=5, bagging_seed=42,\n",
       "       boosting_type='gbdt', class_weight=None, colsample_bytree=1.0,\n",
       "       feature_fraction=0.9, importance_type='split', lambda_l1=0.5,\n",
       "       lambda_l2=0.5, learning_rate=0.01, max_depth=5, metric='rmse',\n",
       "       min_child_samples=36, min_child_weight=0.001, min_split_gain=0.0,\n",
       "       n_estimators=1100, n_jobs=-1, num_leaves=31, objective='regression',\n",
       "       random_state=42, reg_alpha=0.0, reg_lambda=0.0, silent=True,\n",
       "       subsample=1.0, subsample_for_bin=200000, subsample_freq=0,\n",
       "       verbose=1, verbosity=-1)"
      ]
     },
     "execution_count": 24,
     "metadata": {},
     "output_type": "execute_result"
    }
   ],
   "source": [
    "reg.fit(X_train, y_train, eval_set=[(X_train, y_train), (X_val, y_val)],eval_metric='rmse')"
   ]
  },
  {
   "cell_type": "code",
   "execution_count": 25,
   "metadata": {},
   "outputs": [],
   "source": [
    "lgb_preds = reg.predict(X_test, num_iteration=reg.best_iteration_)"
   ]
  },
  {
   "cell_type": "code",
   "execution_count": 26,
   "metadata": {},
   "outputs": [],
   "source": [
    "lgb_preds[lgb_preds < 0] = 0.0"
   ]
  },
  {
   "cell_type": "code",
   "execution_count": 27,
   "metadata": {},
   "outputs": [],
   "source": [
    "test['PredictedLogRevenue'] = lgb_preds"
   ]
  },
  {
   "cell_type": "code",
   "execution_count": 28,
   "metadata": {},
   "outputs": [],
   "source": [
    "sub = test[['fullVisitorId','PredictedLogRevenue']]"
   ]
  },
  {
   "cell_type": "code",
   "execution_count": 29,
   "metadata": {},
   "outputs": [],
   "source": [
    "sub.to_csv(\"lgb_submission.csv\", index=False)"
   ]
  },
  {
   "cell_type": "markdown",
   "metadata": {},
   "source": [
    "## Conclusion"
   ]
  },
  {
   "cell_type": "markdown",
   "metadata": {},
   "source": [
    "I think the score I get can be further improved, if I continue tune parameters or with better data mining process, but the cost is time. It's a pity that I don't have more time to continue, hope I can review this project in the future. "
   ]
  }
 ],
 "metadata": {
  "kernelspec": {
   "display_name": "Python 3",
   "language": "python",
   "name": "python3"
  },
  "language_info": {
   "codemirror_mode": {
    "name": "ipython",
    "version": 3
   },
   "file_extension": ".py",
   "mimetype": "text/x-python",
   "name": "python",
   "nbconvert_exporter": "python",
   "pygments_lexer": "ipython3",
   "version": "3.7.3"
  }
 },
 "nbformat": 4,
 "nbformat_minor": 2
}
