{
 "cells": [
  {
   "cell_type": "code",
   "execution_count": 64,
   "metadata": {},
   "outputs": [
    {
     "name": "stdout",
     "output_type": "stream",
     "text": [
      "Requirement already satisfied: numba in /anaconda3/lib/python3.7/site-packages (0.43.1)\r\n",
      "Requirement already satisfied: llvmlite>=0.28.0dev0 in /anaconda3/lib/python3.7/site-packages (from numba) (0.28.0)\r\n",
      "Requirement already satisfied: numpy in /anaconda3/lib/python3.7/site-packages (from numba) (1.16.4)\r\n"
     ]
    }
   ],
   "source": [
    "!pip install numba"
   ]
  },
  {
   "cell_type": "code",
   "execution_count": 65,
   "metadata": {},
   "outputs": [],
   "source": [
    "import numba"
   ]
  },
  {
   "cell_type": "code",
   "execution_count": 66,
   "metadata": {},
   "outputs": [
    {
     "data": {
      "text/plain": [
       "'0.43.1'"
      ]
     },
     "execution_count": 66,
     "metadata": {},
     "output_type": "execute_result"
    }
   ],
   "source": [
    "numba.__version__"
   ]
  },
  {
   "cell_type": "code",
   "execution_count": 68,
   "metadata": {},
   "outputs": [
    {
     "name": "stdout",
     "output_type": "stream",
     "text": [
      "System info:\n",
      "--------------------------------------------------------------------------------\n",
      "__Time Stamp__\n",
      "2019-07-03 02:25:37.384550\n",
      "\n",
      "__Hardware Information__\n",
      "Machine                                       : x86_64\n",
      "CPU Name                                      : skylake\n",
      "CPU count                                     : 8\n",
      "CPU Features                                  : \n",
      "adx aes avx avx2 bmi bmi2 clflushopt cmov cx16 f16c fma fsgsbase invpcid lzcnt\n",
      "mmx movbe pclmul popcnt prfchw rdrnd rdseed sahf sgx sse sse2 sse3 sse4.1 sse4.2\n",
      "ssse3 xsave xsavec xsaveopt xsaves\n",
      "\n",
      "__OS Information__\n",
      "Platform                                      : Darwin-18.6.0-x86_64-i386-64bit\n",
      "Release                                       : 18.6.0\n",
      "System Name                                   : Darwin\n",
      "Version                                       : Darwin Kernel Version 18.6.0: Thu Apr 25 23:16:27 PDT 2019; root:xnu-4903.261.4~2/RELEASE_X86_64\n",
      "OS specific info                              : 10.14.5   x86_64\n",
      "\n",
      "__Python Information__\n",
      "Python Compiler                               : Clang 4.0.1 (tags/RELEASE_401/final)\n",
      "Python Implementation                         : CPython\n",
      "Python Version                                : 3.7.3\n",
      "Error: The system reporting tool has failed unexpectedly.\n",
      "Exception was:\n",
      "unknown locale: UTF-8\n",
      "If requested, please copy and paste the information between\n",
      "the dashed (----) lines, or from a given specific section as\n",
      "appropriate.\n",
      "\n",
      "=============================================================\n",
      "IMPORTANT: Please ensure that you are happy with sharing the\n",
      "contents of the information present, any information that you\n",
      "wish to keep private you should remove before sharing.\n",
      "=============================================================\n",
      "\n"
     ]
    }
   ],
   "source": [
    "! numba -s"
   ]
  },
  {
   "cell_type": "code",
   "execution_count": 1,
   "metadata": {},
   "outputs": [],
   "source": [
    "import pandas as pd\n",
    "import numpy as np\n",
    "import json\n",
    "from pandas.io.json import json_normalize\n",
    "import matplotlib.pyplot as plt\n",
    "%matplotlib inline"
   ]
  },
  {
   "cell_type": "code",
   "execution_count": 2,
   "metadata": {},
   "outputs": [],
   "source": [
    "j_col = ['device', 'geoNetwork', 'totals', 'trafficSource']"
   ]
  },
  {
   "cell_type": "code",
   "execution_count": 3,
   "metadata": {},
   "outputs": [],
   "source": [
    "train_df = pd.read_csv('train_v2.csv', converters={column: json.loads for column in j_col}, nrows=100000)"
   ]
  },
  {
   "cell_type": "code",
   "execution_count": 4,
   "metadata": {},
   "outputs": [
    {
     "data": {
      "text/html": [
       "<div>\n",
       "<style scoped>\n",
       "    .dataframe tbody tr th:only-of-type {\n",
       "        vertical-align: middle;\n",
       "    }\n",
       "\n",
       "    .dataframe tbody tr th {\n",
       "        vertical-align: top;\n",
       "    }\n",
       "\n",
       "    .dataframe thead th {\n",
       "        text-align: right;\n",
       "    }\n",
       "</style>\n",
       "<table border=\"1\" class=\"dataframe\">\n",
       "  <thead>\n",
       "    <tr style=\"text-align: right;\">\n",
       "      <th></th>\n",
       "      <th>channelGrouping</th>\n",
       "      <th>customDimensions</th>\n",
       "      <th>date</th>\n",
       "      <th>device</th>\n",
       "      <th>fullVisitorId</th>\n",
       "      <th>geoNetwork</th>\n",
       "      <th>hits</th>\n",
       "      <th>socialEngagementType</th>\n",
       "      <th>totals</th>\n",
       "      <th>trafficSource</th>\n",
       "      <th>visitId</th>\n",
       "      <th>visitNumber</th>\n",
       "      <th>visitStartTime</th>\n",
       "    </tr>\n",
       "  </thead>\n",
       "  <tbody>\n",
       "    <tr>\n",
       "      <th>0</th>\n",
       "      <td>Organic Search</td>\n",
       "      <td>[{'index': '4', 'value': 'EMEA'}]</td>\n",
       "      <td>20171016</td>\n",
       "      <td>{'browser': 'Firefox', 'browserVersion': 'not ...</td>\n",
       "      <td>3162355547410993243</td>\n",
       "      <td>{'continent': 'Europe', 'subContinent': 'Weste...</td>\n",
       "      <td>[{'hitNumber': '1', 'time': '0', 'hour': '17',...</td>\n",
       "      <td>Not Socially Engaged</td>\n",
       "      <td>{'visits': '1', 'hits': '1', 'pageviews': '1',...</td>\n",
       "      <td>{'campaign': '(not set)', 'source': 'google', ...</td>\n",
       "      <td>1508198450</td>\n",
       "      <td>1</td>\n",
       "      <td>1508198450</td>\n",
       "    </tr>\n",
       "    <tr>\n",
       "      <th>1</th>\n",
       "      <td>Referral</td>\n",
       "      <td>[{'index': '4', 'value': 'North America'}]</td>\n",
       "      <td>20171016</td>\n",
       "      <td>{'browser': 'Chrome', 'browserVersion': 'not a...</td>\n",
       "      <td>8934116514970143966</td>\n",
       "      <td>{'continent': 'Americas', 'subContinent': 'Nor...</td>\n",
       "      <td>[{'hitNumber': '1', 'time': '0', 'hour': '10',...</td>\n",
       "      <td>Not Socially Engaged</td>\n",
       "      <td>{'visits': '1', 'hits': '2', 'pageviews': '2',...</td>\n",
       "      <td>{'referralPath': '/a/google.com/transportation...</td>\n",
       "      <td>1508176307</td>\n",
       "      <td>6</td>\n",
       "      <td>1508176307</td>\n",
       "    </tr>\n",
       "    <tr>\n",
       "      <th>2</th>\n",
       "      <td>Direct</td>\n",
       "      <td>[{'index': '4', 'value': 'North America'}]</td>\n",
       "      <td>20171016</td>\n",
       "      <td>{'browser': 'Chrome', 'browserVersion': 'not a...</td>\n",
       "      <td>7992466427990357681</td>\n",
       "      <td>{'continent': 'Americas', 'subContinent': 'Nor...</td>\n",
       "      <td>[{'hitNumber': '1', 'time': '0', 'hour': '17',...</td>\n",
       "      <td>Not Socially Engaged</td>\n",
       "      <td>{'visits': '1', 'hits': '2', 'pageviews': '2',...</td>\n",
       "      <td>{'campaign': '(not set)', 'source': '(direct)'...</td>\n",
       "      <td>1508201613</td>\n",
       "      <td>1</td>\n",
       "      <td>1508201613</td>\n",
       "    </tr>\n",
       "    <tr>\n",
       "      <th>3</th>\n",
       "      <td>Organic Search</td>\n",
       "      <td>[{'index': '4', 'value': 'EMEA'}]</td>\n",
       "      <td>20171016</td>\n",
       "      <td>{'browser': 'Chrome', 'browserVersion': 'not a...</td>\n",
       "      <td>9075655783635761930</td>\n",
       "      <td>{'continent': 'Asia', 'subContinent': 'Western...</td>\n",
       "      <td>[{'hitNumber': '1', 'time': '0', 'hour': '9', ...</td>\n",
       "      <td>Not Socially Engaged</td>\n",
       "      <td>{'visits': '1', 'hits': '2', 'pageviews': '2',...</td>\n",
       "      <td>{'campaign': '(not set)', 'source': 'google', ...</td>\n",
       "      <td>1508169851</td>\n",
       "      <td>1</td>\n",
       "      <td>1508169851</td>\n",
       "    </tr>\n",
       "    <tr>\n",
       "      <th>4</th>\n",
       "      <td>Organic Search</td>\n",
       "      <td>[{'index': '4', 'value': 'Central America'}]</td>\n",
       "      <td>20171016</td>\n",
       "      <td>{'browser': 'Chrome', 'browserVersion': 'not a...</td>\n",
       "      <td>6960673291025684308</td>\n",
       "      <td>{'continent': 'Americas', 'subContinent': 'Cen...</td>\n",
       "      <td>[{'hitNumber': '1', 'time': '0', 'hour': '14',...</td>\n",
       "      <td>Not Socially Engaged</td>\n",
       "      <td>{'visits': '1', 'hits': '2', 'pageviews': '2',...</td>\n",
       "      <td>{'campaign': '(not set)', 'source': 'google', ...</td>\n",
       "      <td>1508190552</td>\n",
       "      <td>1</td>\n",
       "      <td>1508190552</td>\n",
       "    </tr>\n",
       "  </tbody>\n",
       "</table>\n",
       "</div>"
      ],
      "text/plain": [
       "  channelGrouping                              customDimensions      date  \\\n",
       "0  Organic Search             [{'index': '4', 'value': 'EMEA'}]  20171016   \n",
       "1        Referral    [{'index': '4', 'value': 'North America'}]  20171016   \n",
       "2          Direct    [{'index': '4', 'value': 'North America'}]  20171016   \n",
       "3  Organic Search             [{'index': '4', 'value': 'EMEA'}]  20171016   \n",
       "4  Organic Search  [{'index': '4', 'value': 'Central America'}]  20171016   \n",
       "\n",
       "                                              device        fullVisitorId  \\\n",
       "0  {'browser': 'Firefox', 'browserVersion': 'not ...  3162355547410993243   \n",
       "1  {'browser': 'Chrome', 'browserVersion': 'not a...  8934116514970143966   \n",
       "2  {'browser': 'Chrome', 'browserVersion': 'not a...  7992466427990357681   \n",
       "3  {'browser': 'Chrome', 'browserVersion': 'not a...  9075655783635761930   \n",
       "4  {'browser': 'Chrome', 'browserVersion': 'not a...  6960673291025684308   \n",
       "\n",
       "                                          geoNetwork  \\\n",
       "0  {'continent': 'Europe', 'subContinent': 'Weste...   \n",
       "1  {'continent': 'Americas', 'subContinent': 'Nor...   \n",
       "2  {'continent': 'Americas', 'subContinent': 'Nor...   \n",
       "3  {'continent': 'Asia', 'subContinent': 'Western...   \n",
       "4  {'continent': 'Americas', 'subContinent': 'Cen...   \n",
       "\n",
       "                                                hits  socialEngagementType  \\\n",
       "0  [{'hitNumber': '1', 'time': '0', 'hour': '17',...  Not Socially Engaged   \n",
       "1  [{'hitNumber': '1', 'time': '0', 'hour': '10',...  Not Socially Engaged   \n",
       "2  [{'hitNumber': '1', 'time': '0', 'hour': '17',...  Not Socially Engaged   \n",
       "3  [{'hitNumber': '1', 'time': '0', 'hour': '9', ...  Not Socially Engaged   \n",
       "4  [{'hitNumber': '1', 'time': '0', 'hour': '14',...  Not Socially Engaged   \n",
       "\n",
       "                                              totals  \\\n",
       "0  {'visits': '1', 'hits': '1', 'pageviews': '1',...   \n",
       "1  {'visits': '1', 'hits': '2', 'pageviews': '2',...   \n",
       "2  {'visits': '1', 'hits': '2', 'pageviews': '2',...   \n",
       "3  {'visits': '1', 'hits': '2', 'pageviews': '2',...   \n",
       "4  {'visits': '1', 'hits': '2', 'pageviews': '2',...   \n",
       "\n",
       "                                       trafficSource     visitId  visitNumber  \\\n",
       "0  {'campaign': '(not set)', 'source': 'google', ...  1508198450            1   \n",
       "1  {'referralPath': '/a/google.com/transportation...  1508176307            6   \n",
       "2  {'campaign': '(not set)', 'source': '(direct)'...  1508201613            1   \n",
       "3  {'campaign': '(not set)', 'source': 'google', ...  1508169851            1   \n",
       "4  {'campaign': '(not set)', 'source': 'google', ...  1508190552            1   \n",
       "\n",
       "   visitStartTime  \n",
       "0      1508198450  \n",
       "1      1508176307  \n",
       "2      1508201613  \n",
       "3      1508169851  \n",
       "4      1508190552  "
      ]
     },
     "execution_count": 4,
     "metadata": {},
     "output_type": "execute_result"
    }
   ],
   "source": [
    "train_df.head()"
   ]
  },
  {
   "cell_type": "code",
   "execution_count": 5,
   "metadata": {},
   "outputs": [
    {
     "data": {
      "text/plain": [
       "(100000, 13)"
      ]
     },
     "execution_count": 5,
     "metadata": {},
     "output_type": "execute_result"
    }
   ],
   "source": [
    "train_df.shape"
   ]
  },
  {
   "cell_type": "code",
   "execution_count": 6,
   "metadata": {},
   "outputs": [
    {
     "data": {
      "text/plain": [
       "channelGrouping         object\n",
       "customDimensions        object\n",
       "date                     int64\n",
       "device                  object\n",
       "fullVisitorId           object\n",
       "geoNetwork              object\n",
       "hits                    object\n",
       "socialEngagementType    object\n",
       "totals                  object\n",
       "trafficSource           object\n",
       "visitId                  int64\n",
       "visitNumber              int64\n",
       "visitStartTime           int64\n",
       "dtype: object"
      ]
     },
     "execution_count": 6,
     "metadata": {},
     "output_type": "execute_result"
    }
   ],
   "source": [
    "train_df.dtypes"
   ]
  },
  {
   "cell_type": "code",
   "execution_count": 7,
   "metadata": {},
   "outputs": [
    {
     "data": {
      "text/plain": [
       "array([\"[{'index': '4', 'value': 'EMEA'}]\",\n",
       "       \"[{'index': '4', 'value': 'North America'}]\",\n",
       "       \"[{'index': '4', 'value': 'Central America'}]\", '[]',\n",
       "       \"[{'index': '4', 'value': 'APAC'}]\",\n",
       "       \"[{'index': '4', 'value': 'South America'}]\"], dtype=object)"
      ]
     },
     "execution_count": 7,
     "metadata": {},
     "output_type": "execute_result"
    }
   ],
   "source": [
    "train_df.customDimensions.unique()"
   ]
  },
  {
   "cell_type": "code",
   "execution_count": 8,
   "metadata": {},
   "outputs": [
    {
     "data": {
      "text/html": [
       "<div>\n",
       "<style scoped>\n",
       "    .dataframe tbody tr th:only-of-type {\n",
       "        vertical-align: middle;\n",
       "    }\n",
       "\n",
       "    .dataframe tbody tr th {\n",
       "        vertical-align: top;\n",
       "    }\n",
       "\n",
       "    .dataframe thead th {\n",
       "        text-align: right;\n",
       "    }\n",
       "</style>\n",
       "<table border=\"1\" class=\"dataframe\">\n",
       "  <thead>\n",
       "    <tr style=\"text-align: right;\">\n",
       "      <th></th>\n",
       "      <th>index</th>\n",
       "      <th>value</th>\n",
       "    </tr>\n",
       "  </thead>\n",
       "  <tbody>\n",
       "    <tr>\n",
       "      <th>0</th>\n",
       "      <td>4</td>\n",
       "      <td>EMEA</td>\n",
       "    </tr>\n",
       "  </tbody>\n",
       "</table>\n",
       "</div>"
      ],
      "text/plain": [
       "  index value\n",
       "0     4  EMEA"
      ]
     },
     "execution_count": 8,
     "metadata": {},
     "output_type": "execute_result"
    }
   ],
   "source": [
    "json_normalize(json.loads(train_df.customDimensions[0][1:-1].replace(\"'\",'''\"''')))"
   ]
  },
  {
   "cell_type": "code",
   "execution_count": 9,
   "metadata": {},
   "outputs": [
    {
     "data": {
      "text/plain": [
       "dict_keys(['browser', 'browserVersion', 'browserSize', 'operatingSystem', 'operatingSystemVersion', 'isMobile', 'mobileDeviceBranding', 'mobileDeviceModel', 'mobileInputSelector', 'mobileDeviceInfo', 'mobileDeviceMarketingName', 'flashVersion', 'language', 'screenColors', 'screenResolution', 'deviceCategory'])"
      ]
     },
     "execution_count": 9,
     "metadata": {},
     "output_type": "execute_result"
    }
   ],
   "source": [
    "train_df.device[0].keys()"
   ]
  },
  {
   "cell_type": "code",
   "execution_count": 10,
   "metadata": {},
   "outputs": [
    {
     "data": {
      "text/plain": [
       "{'visits': '1',\n",
       " 'hits': '1',\n",
       " 'pageviews': '1',\n",
       " 'bounces': '1',\n",
       " 'newVisits': '1',\n",
       " 'sessionQualityDim': '1'}"
      ]
     },
     "execution_count": 10,
     "metadata": {},
     "output_type": "execute_result"
    }
   ],
   "source": [
    "train_df.totals[0]"
   ]
  },
  {
   "cell_type": "code",
   "execution_count": 11,
   "metadata": {},
   "outputs": [
    {
     "data": {
      "text/plain": [
       "'{\"hitNumber\": \"1\", \"time\": \"0\", \"hour\": \"10\", \"minute\": \"51\", \"isInteraction\": \"True\", \"isEntrance\": \"True\", \"referer\": \"https://sites.google.com/a/google.com/transportation/mtv-services/bikes/bike2workmay2016\", \"page\": {\"pagePath\": \"/home\", \"hostname\": \"shop.googlemerchandisestore.com\", \"pageTitle\": \"Home\", \"searchKeyword\": \"jersey\", \"searchCategory\": \"(not set)\", \"pagePathLevel1\": \"/home\", \"pagePathLevel2\": \"\", \"pagePathLevel3\": \"\", \"pagePathLevel4\": \"\"}, \"appInfo\": {\"screenName\": \"shop.googlemerchandisestore.com/home\", \"landingScreenName\": \"shop.googlemerchandisestore.com/home\", \"exitScreenName\": \"shop.googlemerchandisestore.com/asearch.html\", \"screenDepth\": \"0\"}, \"exceptionInfo\": {\"isFatal\": \"True\"}, \"product\": [], \"promotion\": [{\"promoId\": \"Apparel Row 1\", \"promoName\": \"Apparel\", \"promoCreative\": \"home_main_link_apparel.jpg\", \"promoPosition\": \"Row 1\"}, {\"promoId\": \"Backpacks Row 2 Combo\", \"promoName\": \"Backpacks\", \"promoCreative\": \"home_bags_google_2.jpg\", \"promoPosition\": \"Row 2 Combo\"}, {\"promoId\": \"Mens T-Shirts Row 3-1\", \"promoName\": \"Mens T-Shirts\", \"promoCreative\": \"mens-tshirts.jpg\", \"promoPosition\": \"Row 3-1\"}, {\"promoId\": \"Womens T-Shirts Row 3-2\", \"promoName\": \"Womens T-Shirts\", \"promoCreative\": \"womens-tshirts.jpg\", \"promoPosition\": \"Row 3-2\"}, {\"promoId\": \"Office Row 5 Color Combo\", \"promoName\": \"Office\", \"promoCreative\": \"green_row_link_to_office.jpg\", \"promoPosition\": \"Row 5 Color Combo\"}, {\"promoId\": \"Drinkware Row 4 Color Combo\", \"promoName\": \"Drinkware\", \"promoCreative\": \"red_row_hydrate.jpg\", \"promoPosition\": \"Row 4 Color Combo\"}, {\"promoId\": \"Google Brand Row 7-1\", \"promoName\": \"Google Brand\", \"promoCreative\": \"home_lower_google_500.jpg\", \"promoPosition\": \"Brand Row 7-1\"}, {\"promoId\": \"YouTube Brand Row 7-2\", \"promoName\": \"YouTube Brand\", \"promoCreative\": \"home_lower_youtube_500.jpg\", \"promoPosition\": \"Brand Row 7-2\"}, {\"promoId\": \"Android Brand Row 7-3\", \"promoName\": \"Andriod Brand\", \"promoCreative\": \"home_lower_android_500.jpg\", \"promoPosition\": \"Brand Row 7-3\"}], \"promotionActionInfo\": {\"promoIsView\": \"True\"}, \"eCommerceAction\": {\"action_type\": \"0\", \"step\": \"1\"}, \"experiment\": [], \"customVariables\": [], \"customDimensions\": [], \"customMetrics\": [], \"type\": \"PAGE\", \"social\": {\"socialNetwork\": \"(not set)\", \"hasSocialSourceReferral\": \"No\", \"socialInteractionNetworkAction\": \" : \"}, \"contentGroup\": {\"contentGroup1\": \"(not set)\", \"contentGroup2\": \"(not set)\", \"contentGroup3\": \"(not set)\", \"contentGroup4\": \"(not set)\", \"contentGroup5\": \"(not set)\", \"previousContentGroup1\": \"(entrance)\", \"previousContentGroup2\": \"(entrance)\", \"previousContentGroup3\": \"(entrance)\", \"previousContentGroup4\": \"(entrance)\", \"previousContentGroup5\": \"(entrance)\"}, \"dataSource\": \"web\", \"publisher_infos\": []}, {\"hitNumber\": \"2\", \"time\": \"27844\", \"hour\": \"10\", \"minute\": \"52\", \"isInteraction\": \"True\", \"isExit\": \"True\", \"page\": {\"pagePath\": \"/asearch.html\", \"hostname\": \"shop.googlemerchandisestore.com\", \"pageTitle\": \"Store search results\", \"pagePathLevel1\": \"/asearch.html\", \"pagePathLevel2\": \"\", \"pagePathLevel3\": \"\", \"pagePathLevel4\": \"\"}, \"transaction\": {\"currencyCode\": \"USD\"}, \"item\": {\"currencyCode\": \"USD\"}, \"appInfo\": {\"screenName\": \"shop.googlemerchandisestore.com/asearch.html\", \"landingScreenName\": \"shop.googlemerchandisestore.com/home\", \"exitScreenName\": \"shop.googlemerchandisestore.com/asearch.html\", \"screenDepth\": \"0\"}, \"exceptionInfo\": {\"isFatal\": \"True\"}, \"product\": [{\"productSKU\": \"GGOEGAAX0104\", \"v2ProductName\": \"Google Men\"s 100% Cotton Short Sleeve Hero Tee White\", \"v2ProductCategory\": \"(not set)\", \"productVariant\": \"(not set)\", \"productBrand\": \"(not set)\", \"productPrice\": \"16990000\", \"localProductPrice\": \"16990000\", \"isImpression\": \"True\", \"customDimensions\": [], \"customMetrics\": [], \"productListName\": \"Search Results\", \"productListPosition\": \"1\"}, {\"productSKU\": \"GGOEGAAX0105\", \"v2ProductName\": \"Google Men\"s 100% Cotton Short Sleeve Hero Tee Black\", \"v2ProductCategory\": \"(not set)\", \"productVariant\": \"(not set)\", \"productBrand\": \"(not set)\", \"productPrice\": \"16990000\", \"localProductPrice\": \"16990000\", \"isImpression\": \"True\", \"customDimensions\": [], \"customMetrics\": [], \"productListName\": \"Search Results\", \"productListPosition\": \"2\"}, {\"productSKU\": \"GGOEGAAX0106\", \"v2ProductName\": \"Google Men\"s 100% Cotton Short Sleeve Hero Tee Navy\", \"v2ProductCategory\": \"(not set)\", \"productVariant\": \"(not set)\", \"productBrand\": \"(not set)\", \"productPrice\": \"16990000\", \"localProductPrice\": \"16990000\", \"isImpression\": \"True\", \"customDimensions\": [], \"customMetrics\": [], \"productListName\": \"Search Results\", \"productListPosition\": \"3\"}, {\"productSKU\": \"GGOEGAAX0279\", \"v2ProductName\": \"Google Women\"s Short Sleeve Hero Tee White\", \"v2ProductCategory\": \"(not set)\", \"productVariant\": \"(not set)\", \"productBrand\": \"(not set)\", \"productPrice\": \"16990000\", \"localProductPrice\": \"16990000\", \"isImpression\": \"True\", \"customDimensions\": [], \"customMetrics\": [], \"productListName\": \"Search Results\", \"productListPosition\": \"4\"}, {\"productSKU\": \"GGOEGAAX0291\", \"v2ProductName\": \"Google Women\"s Short Sleeve Hero Tee Sky Blue\", \"v2ProductCategory\": \"(not set)\", \"productVariant\": \"(not set)\", \"productBrand\": \"(not set)\", \"productPrice\": \"18990000\", \"localProductPrice\": \"18990000\", \"isImpression\": \"True\", \"customDimensions\": [], \"customMetrics\": [], \"productListName\": \"Search Results\", \"productListPosition\": \"5\"}, {\"productSKU\": \"GGOEGAAX0278\", \"v2ProductName\": \"Google Women\"s Short Sleeve Hero Tee Black\", \"v2ProductCategory\": \"(not set)\", \"productVariant\": \"(not set)\", \"productBrand\": \"(not set)\", \"productPrice\": \"16990000\", \"localProductPrice\": \"16990000\", \"isImpression\": \"True\", \"customDimensions\": [], \"customMetrics\": [], \"productListName\": \"Search Results\", \"productListPosition\": \"6\"}, {\"productSKU\": \"GGOEGAAX0297\", \"v2ProductName\": \"Google Women\"s Short Sleeve Hero Tee Red Heather\", \"v2ProductCategory\": \"(not set)\", \"productVariant\": \"(not set)\", \"productBrand\": \"(not set)\", \"productPrice\": \"18990000\", \"localProductPrice\": \"18990000\", \"isImpression\": \"True\", \"customDimensions\": [], \"customMetrics\": [], \"productListName\": \"Search Results\", \"productListPosition\": \"7\"}, {\"productSKU\": \"GGOEGAAX0107\", \"v2ProductName\": \"Google Men\"s 100% Cotton Short Sleeve Hero Tee Red\", \"v2ProductCategory\": \"(not set)\", \"productVariant\": \"(not set)\", \"productBrand\": \"(not set)\", \"productPrice\": \"16990000\", \"localProductPrice\": \"16990000\", \"isImpression\": \"True\", \"customDimensions\": [], \"customMetrics\": [], \"productListName\": \"Search Results\", \"productListPosition\": \"8\"}, {\"productSKU\": \"GGOEGAAX0280\", \"v2ProductName\": \"Google Women\"s Short Sleeve Hero Tee Grey\", \"v2ProductCategory\": \"(not set)\", \"productVariant\": \"(not set)\", \"productBrand\": \"(not set)\", \"productPrice\": \"16990000\", \"localProductPrice\": \"16990000\", \"isImpression\": \"True\", \"customDimensions\": [], \"customMetrics\": [], \"productListName\": \"Search Results\", \"productListPosition\": \"9\"}, {\"productSKU\": \"GGOEGAAX0289\", \"v2ProductName\": \"Google Women\"s Short Sleeve Hero Dark Grey\", \"v2ProductCategory\": \"(not set)\", \"productVariant\": \"(not set)\", \"productBrand\": \"(not set)\", \"productPrice\": \"18990000\", \"localProductPrice\": \"18990000\", \"isImpression\": \"True\", \"customDimensions\": [], \"customMetrics\": [], \"productListName\": \"Search Results\", \"productListPosition\": \"10\"}, {\"productSKU\": \"GGOEGAAX0281\", \"v2ProductName\": \"Google Women\"s Short Sleeve Badge Tee Grey\", \"v2ProductCategory\": \"(not set)\", \"productVariant\": \"(not set)\", \"productBrand\": \"(not set)\", \"productPrice\": \"16990000\", \"localProductPrice\": \"16990000\", \"isImpression\": \"True\", \"customDimensions\": [], \"customMetrics\": [], \"productListName\": \"Search Results\", \"productListPosition\": \"11\"}, {\"productSKU\": \"GGOEGAAX0746\", \"v2ProductName\": \"Google Women\"s Short Sleeve Badge Tee Navy\", \"v2ProductCategory\": \"(not set)\", \"productVariant\": \"(not set)\", \"productBrand\": \"(not set)\", \"productPrice\": \"16990000\", \"localProductPrice\": \"16990000\", \"isImpression\": \"True\", \"customDimensions\": [], \"customMetrics\": [], \"productListName\": \"Search Results\", \"productListPosition\": \"12\"}, {\"productSKU\": \"GGOEGAAX0324\", \"v2ProductName\": \"Android Men\"s Short Sleeve Tri-blend Hero Tee Grey\", \"v2ProductCategory\": \"(not set)\", \"productVariant\": \"(not set)\", \"productBrand\": \"(not set)\", \"productPrice\": \"18990000\", \"localProductPrice\": \"18990000\", \"isImpression\": \"True\", \"customDimensions\": [], \"customMetrics\": [], \"productListName\": \"Search Results\", \"productListPosition\": \"13\"}, {\"productSKU\": \"GGOEGAAX0326\", \"v2ProductName\": \"Google Men\"s Short Sleeve Badge Tee Charcoal\", \"v2ProductCategory\": \"(not set)\", \"productVariant\": \"(not set)\", \"productBrand\": \"(not set)\", \"productPrice\": \"18990000\", \"localProductPrice\": \"18990000\", \"isImpression\": \"True\", \"customDimensions\": [], \"customMetrics\": [], \"productListName\": \"Search Results\", \"productListPosition\": \"14\"}, {\"productSKU\": \"GGOEGAAX0323\", \"v2ProductName\": \"Google Men\"s Short Sleeve Hero Tee Charcoal\", \"v2ProductCategory\": \"(not set)\", \"productVariant\": \"(not set)\", \"productBrand\": \"(not set)\", \"productPrice\": \"18990000\", \"localProductPrice\": \"18990000\", \"isImpression\": \"True\", \"customDimensions\": [], \"customMetrics\": [], \"productListName\": \"Search Results\", \"productListPosition\": \"15\"}], \"promotion\": [], \"eCommerceAction\": {\"action_type\": \"0\", \"step\": \"1\"}, \"experiment\": [], \"customVariables\": [], \"customDimensions\": [], \"customMetrics\": [], \"type\": \"PAGE\", \"social\": {\"socialNetwork\": \"(not set)\", \"hasSocialSourceReferral\": \"No\", \"socialInteractionNetworkAction\": \" : \"}, \"contentGroup\": {\"contentGroup1\": \"(not set)\", \"contentGroup2\": \"(not set)\", \"contentGroup3\": \"(not set)\", \"contentGroup4\": \"(not set)\", \"contentGroup5\": \"(not set)\", \"previousContentGroup1\": \"(not set)\", \"previousContentGroup2\": \"(not set)\", \"previousContentGroup3\": \"(not set)\", \"previousContentGroup4\": \"(not set)\", \"previousContentGroup5\": \"(not set)\"}, \"dataSource\": \"web\", \"publisher_infos\": []}'"
      ]
     },
     "execution_count": 11,
     "metadata": {},
     "output_type": "execute_result"
    }
   ],
   "source": [
    "train_df.hits[1][1:-1].replace(\"'\",'''\"''').replace(\"True\",'''\"True\"''')"
   ]
  },
  {
   "cell_type": "code",
   "execution_count": 12,
   "metadata": {},
   "outputs": [
    {
     "data": {
      "text/plain": [
       "[{'productSKU': 'GGOEGDHC074099',\n",
       "  'v2ProductName': 'Google 17oz Stainless Steel Sport Bottle',\n",
       "  'v2ProductCategory': 'Home/Drinkware/Water Bottles and Tumblers/',\n",
       "  'productVariant': '(not set)',\n",
       "  'productBrand': '(not set)',\n",
       "  'productPrice': '23990000',\n",
       "  'localProductPrice': '23990000',\n",
       "  'isImpression': 'True',\n",
       "  'customDimensions': [],\n",
       "  'customMetrics': [],\n",
       "  'productListName': 'Category',\n",
       "  'productListPosition': '1'},\n",
       " {'productSKU': 'GGOEGDHQ015399',\n",
       "  'v2ProductName': '26 oz Double Wall Insulated Bottle',\n",
       "  'v2ProductCategory': 'Home/Drinkware/Water Bottles and Tumblers/',\n",
       "  'productVariant': '(not set)',\n",
       "  'productBrand': '(not set)',\n",
       "  'productPrice': '24990000',\n",
       "  'localProductPrice': '24990000',\n",
       "  'isImpression': 'True',\n",
       "  'customDimensions': [],\n",
       "  'customMetrics': [],\n",
       "  'productListName': 'Category',\n",
       "  'productListPosition': '2'},\n",
       " {'productSKU': 'GGOEYDHJ056099',\n",
       "  'v2ProductName': '22 oz YouTube Bottle Infuser',\n",
       "  'v2ProductCategory': 'Home/Drinkware/Water Bottles and Tumblers/',\n",
       "  'productVariant': '(not set)',\n",
       "  'productBrand': '(not set)',\n",
       "  'productPrice': '4990000',\n",
       "  'localProductPrice': '4990000',\n",
       "  'isImpression': 'True',\n",
       "  'customDimensions': [],\n",
       "  'customMetrics': [],\n",
       "  'productListName': 'Category',\n",
       "  'productListPosition': '3'},\n",
       " {'productSKU': 'GGOEGAAX0074',\n",
       "  'v2ProductName': 'Google 22 oz Water Bottle',\n",
       "  'v2ProductCategory': 'Home/Drinkware/Water Bottles and Tumblers/',\n",
       "  'productVariant': '(not set)',\n",
       "  'productBrand': '(not set)',\n",
       "  'productPrice': '2990000',\n",
       "  'localProductPrice': '2990000',\n",
       "  'isImpression': 'True',\n",
       "  'customDimensions': [],\n",
       "  'customMetrics': [],\n",
       "  'productListName': 'Category',\n",
       "  'productListPosition': '4'}]"
      ]
     },
     "execution_count": 12,
     "metadata": {},
     "output_type": "execute_result"
    }
   ],
   "source": [
    "json.loads(train_df.hits[0][1:-1].replace(\"'\",'''\"''').replace(\"True\",'''\"True\"'''))['product']"
   ]
  },
  {
   "cell_type": "code",
   "execution_count": 5,
   "metadata": {},
   "outputs": [],
   "source": [
    "for column in j_col:\n",
    "    column_as_df = json_normalize(train_df[column])\n",
    "    column_as_df.columns = [f\"{column}_{subcolumn}\" for subcolumn in column_as_df.columns]\n",
    "    train_df = train_df.drop(column, axis=1).merge(column_as_df, right_index=True, left_index=True)"
   ]
  },
  {
   "cell_type": "code",
   "execution_count": 6,
   "metadata": {},
   "outputs": [],
   "source": [
    "column_as_df = json_normalize(train_df['customDimensions'].apply(lambda x: json.loads(x[1:-1].replace(\"'\",'''\"''')) if x != \"[]\" else {'index': 'NaN', 'value': 'NaN'}))\n",
    "column_as_df.columns = [f\"{'customDimensions'}_{subcolumn}\" for subcolumn in column_as_df.columns]\n",
    "train_df = train_df.drop('customDimensions', axis=1).merge(column_as_df, right_index=True, left_index=True)"
   ]
  },
  {
   "cell_type": "code",
   "execution_count": 15,
   "metadata": {},
   "outputs": [
    {
     "data": {
      "text/plain": [
       "(100000, 60)"
      ]
     },
     "execution_count": 15,
     "metadata": {},
     "output_type": "execute_result"
    }
   ],
   "source": [
    "train_df.shape"
   ]
  },
  {
   "cell_type": "code",
   "execution_count": 17,
   "metadata": {},
   "outputs": [
    {
     "data": {
      "text/html": [
       "<div>\n",
       "<style scoped>\n",
       "    .dataframe tbody tr th:only-of-type {\n",
       "        vertical-align: middle;\n",
       "    }\n",
       "\n",
       "    .dataframe tbody tr th {\n",
       "        vertical-align: top;\n",
       "    }\n",
       "\n",
       "    .dataframe thead th {\n",
       "        text-align: right;\n",
       "    }\n",
       "</style>\n",
       "<table border=\"1\" class=\"dataframe\">\n",
       "  <thead>\n",
       "    <tr style=\"text-align: right;\">\n",
       "      <th></th>\n",
       "      <th>channelGrouping</th>\n",
       "      <th>date</th>\n",
       "      <th>fullVisitorId</th>\n",
       "      <th>hits</th>\n",
       "      <th>socialEngagementType</th>\n",
       "      <th>visitId</th>\n",
       "      <th>visitNumber</th>\n",
       "      <th>visitStartTime</th>\n",
       "      <th>device_browser</th>\n",
       "      <th>device_browserSize</th>\n",
       "      <th>...</th>\n",
       "      <th>trafficSource_adwordsClickInfo.page</th>\n",
       "      <th>trafficSource_adwordsClickInfo.slot</th>\n",
       "      <th>trafficSource_campaign</th>\n",
       "      <th>trafficSource_isTrueDirect</th>\n",
       "      <th>trafficSource_keyword</th>\n",
       "      <th>trafficSource_medium</th>\n",
       "      <th>trafficSource_referralPath</th>\n",
       "      <th>trafficSource_source</th>\n",
       "      <th>customDimensions_index</th>\n",
       "      <th>customDimensions_value</th>\n",
       "    </tr>\n",
       "  </thead>\n",
       "  <tbody>\n",
       "    <tr>\n",
       "      <th>0</th>\n",
       "      <td>Organic Search</td>\n",
       "      <td>20171016</td>\n",
       "      <td>3162355547410993243</td>\n",
       "      <td>[{'hitNumber': '1', 'time': '0', 'hour': '17',...</td>\n",
       "      <td>Not Socially Engaged</td>\n",
       "      <td>1508198450</td>\n",
       "      <td>1</td>\n",
       "      <td>1508198450</td>\n",
       "      <td>Firefox</td>\n",
       "      <td>not available in demo dataset</td>\n",
       "      <td>...</td>\n",
       "      <td>NaN</td>\n",
       "      <td>NaN</td>\n",
       "      <td>(not set)</td>\n",
       "      <td>NaN</td>\n",
       "      <td>water bottle</td>\n",
       "      <td>organic</td>\n",
       "      <td>NaN</td>\n",
       "      <td>google</td>\n",
       "      <td>4</td>\n",
       "      <td>EMEA</td>\n",
       "    </tr>\n",
       "    <tr>\n",
       "      <th>1</th>\n",
       "      <td>Referral</td>\n",
       "      <td>20171016</td>\n",
       "      <td>8934116514970143966</td>\n",
       "      <td>[{'hitNumber': '1', 'time': '0', 'hour': '10',...</td>\n",
       "      <td>Not Socially Engaged</td>\n",
       "      <td>1508176307</td>\n",
       "      <td>6</td>\n",
       "      <td>1508176307</td>\n",
       "      <td>Chrome</td>\n",
       "      <td>not available in demo dataset</td>\n",
       "      <td>...</td>\n",
       "      <td>NaN</td>\n",
       "      <td>NaN</td>\n",
       "      <td>(not set)</td>\n",
       "      <td>NaN</td>\n",
       "      <td>NaN</td>\n",
       "      <td>referral</td>\n",
       "      <td>/a/google.com/transportation/mtv-services/bike...</td>\n",
       "      <td>sites.google.com</td>\n",
       "      <td>4</td>\n",
       "      <td>North America</td>\n",
       "    </tr>\n",
       "    <tr>\n",
       "      <th>2</th>\n",
       "      <td>Direct</td>\n",
       "      <td>20171016</td>\n",
       "      <td>7992466427990357681</td>\n",
       "      <td>[{'hitNumber': '1', 'time': '0', 'hour': '17',...</td>\n",
       "      <td>Not Socially Engaged</td>\n",
       "      <td>1508201613</td>\n",
       "      <td>1</td>\n",
       "      <td>1508201613</td>\n",
       "      <td>Chrome</td>\n",
       "      <td>not available in demo dataset</td>\n",
       "      <td>...</td>\n",
       "      <td>NaN</td>\n",
       "      <td>NaN</td>\n",
       "      <td>(not set)</td>\n",
       "      <td>True</td>\n",
       "      <td>NaN</td>\n",
       "      <td>(none)</td>\n",
       "      <td>NaN</td>\n",
       "      <td>(direct)</td>\n",
       "      <td>4</td>\n",
       "      <td>North America</td>\n",
       "    </tr>\n",
       "    <tr>\n",
       "      <th>3</th>\n",
       "      <td>Organic Search</td>\n",
       "      <td>20171016</td>\n",
       "      <td>9075655783635761930</td>\n",
       "      <td>[{'hitNumber': '1', 'time': '0', 'hour': '9', ...</td>\n",
       "      <td>Not Socially Engaged</td>\n",
       "      <td>1508169851</td>\n",
       "      <td>1</td>\n",
       "      <td>1508169851</td>\n",
       "      <td>Chrome</td>\n",
       "      <td>not available in demo dataset</td>\n",
       "      <td>...</td>\n",
       "      <td>NaN</td>\n",
       "      <td>NaN</td>\n",
       "      <td>(not set)</td>\n",
       "      <td>NaN</td>\n",
       "      <td>(not provided)</td>\n",
       "      <td>organic</td>\n",
       "      <td>NaN</td>\n",
       "      <td>google</td>\n",
       "      <td>4</td>\n",
       "      <td>EMEA</td>\n",
       "    </tr>\n",
       "    <tr>\n",
       "      <th>4</th>\n",
       "      <td>Organic Search</td>\n",
       "      <td>20171016</td>\n",
       "      <td>6960673291025684308</td>\n",
       "      <td>[{'hitNumber': '1', 'time': '0', 'hour': '14',...</td>\n",
       "      <td>Not Socially Engaged</td>\n",
       "      <td>1508190552</td>\n",
       "      <td>1</td>\n",
       "      <td>1508190552</td>\n",
       "      <td>Chrome</td>\n",
       "      <td>not available in demo dataset</td>\n",
       "      <td>...</td>\n",
       "      <td>NaN</td>\n",
       "      <td>NaN</td>\n",
       "      <td>(not set)</td>\n",
       "      <td>NaN</td>\n",
       "      <td>(not provided)</td>\n",
       "      <td>organic</td>\n",
       "      <td>NaN</td>\n",
       "      <td>google</td>\n",
       "      <td>4</td>\n",
       "      <td>Central America</td>\n",
       "    </tr>\n",
       "  </tbody>\n",
       "</table>\n",
       "<p>5 rows × 60 columns</p>\n",
       "</div>"
      ],
      "text/plain": [
       "  channelGrouping      date        fullVisitorId  \\\n",
       "0  Organic Search  20171016  3162355547410993243   \n",
       "1        Referral  20171016  8934116514970143966   \n",
       "2          Direct  20171016  7992466427990357681   \n",
       "3  Organic Search  20171016  9075655783635761930   \n",
       "4  Organic Search  20171016  6960673291025684308   \n",
       "\n",
       "                                                hits  socialEngagementType  \\\n",
       "0  [{'hitNumber': '1', 'time': '0', 'hour': '17',...  Not Socially Engaged   \n",
       "1  [{'hitNumber': '1', 'time': '0', 'hour': '10',...  Not Socially Engaged   \n",
       "2  [{'hitNumber': '1', 'time': '0', 'hour': '17',...  Not Socially Engaged   \n",
       "3  [{'hitNumber': '1', 'time': '0', 'hour': '9', ...  Not Socially Engaged   \n",
       "4  [{'hitNumber': '1', 'time': '0', 'hour': '14',...  Not Socially Engaged   \n",
       "\n",
       "      visitId  visitNumber  visitStartTime device_browser  \\\n",
       "0  1508198450            1      1508198450        Firefox   \n",
       "1  1508176307            6      1508176307         Chrome   \n",
       "2  1508201613            1      1508201613         Chrome   \n",
       "3  1508169851            1      1508169851         Chrome   \n",
       "4  1508190552            1      1508190552         Chrome   \n",
       "\n",
       "              device_browserSize  ... trafficSource_adwordsClickInfo.page  \\\n",
       "0  not available in demo dataset  ...                                 NaN   \n",
       "1  not available in demo dataset  ...                                 NaN   \n",
       "2  not available in demo dataset  ...                                 NaN   \n",
       "3  not available in demo dataset  ...                                 NaN   \n",
       "4  not available in demo dataset  ...                                 NaN   \n",
       "\n",
       "  trafficSource_adwordsClickInfo.slot trafficSource_campaign  \\\n",
       "0                                 NaN              (not set)   \n",
       "1                                 NaN              (not set)   \n",
       "2                                 NaN              (not set)   \n",
       "3                                 NaN              (not set)   \n",
       "4                                 NaN              (not set)   \n",
       "\n",
       "   trafficSource_isTrueDirect trafficSource_keyword trafficSource_medium  \\\n",
       "0                         NaN          water bottle              organic   \n",
       "1                         NaN                   NaN             referral   \n",
       "2                        True                   NaN               (none)   \n",
       "3                         NaN        (not provided)              organic   \n",
       "4                         NaN        (not provided)              organic   \n",
       "\n",
       "                          trafficSource_referralPath trafficSource_source  \\\n",
       "0                                                NaN               google   \n",
       "1  /a/google.com/transportation/mtv-services/bike...     sites.google.com   \n",
       "2                                                NaN             (direct)   \n",
       "3                                                NaN               google   \n",
       "4                                                NaN               google   \n",
       "\n",
       "  customDimensions_index customDimensions_value  \n",
       "0                      4                   EMEA  \n",
       "1                      4          North America  \n",
       "2                      4          North America  \n",
       "3                      4                   EMEA  \n",
       "4                      4        Central America  \n",
       "\n",
       "[5 rows x 60 columns]"
      ]
     },
     "execution_count": 17,
     "metadata": {},
     "output_type": "execute_result"
    }
   ],
   "source": [
    "train_df.head()"
   ]
  },
  {
   "cell_type": "code",
   "execution_count": 18,
   "metadata": {},
   "outputs": [],
   "source": [
    "train_df.totals_transactionRevenue.fillna(0,inplace=True)"
   ]
  },
  {
   "cell_type": "code",
   "execution_count": 19,
   "metadata": {},
   "outputs": [
    {
     "data": {
      "text/plain": [
       "0             99003\n",
       "17590000         22\n",
       "33590000         22\n",
       "13590000         17\n",
       "18990000         15\n",
       "16990000         14\n",
       "21990000         14\n",
       "55990000         11\n",
       "59990000         10\n",
       "19990000         10\n",
       "15190000          8\n",
       "47990000          8\n",
       "44790000          8\n",
       "35180000          7\n",
       "79990000          7\n",
       "15990000          7\n",
       "24990000          6\n",
       "10390000          6\n",
       "100000000         5\n",
       "19190000          5\n",
       "12990000          5\n",
       "13290000          5\n",
       "67180000          5\n",
       "28780000          5\n",
       "27180000          4\n",
       "119990000         4\n",
       "23990000          4\n",
       "8790000           4\n",
       "15390000          4\n",
       "51990000          4\n",
       "              ...  \n",
       "6800000           1\n",
       "1509390000        1\n",
       "66140000          1\n",
       "272380000         1\n",
       "35280000          1\n",
       "10590000          1\n",
       "105120000         1\n",
       "279500000         1\n",
       "91370000          1\n",
       "329910000         1\n",
       "55440000          1\n",
       "216430000         1\n",
       "24980000          1\n",
       "95130000          1\n",
       "574150000         1\n",
       "173520000         1\n",
       "34480000          1\n",
       "33580000          1\n",
       "45130000          1\n",
       "137340000         1\n",
       "207950000         1\n",
       "124900000         1\n",
       "624450000         1\n",
       "60690000          1\n",
       "7480000           1\n",
       "231200000         1\n",
       "7960000           1\n",
       "145460000         1\n",
       "22950000          1\n",
       "23970000          1\n",
       "Name: totals_transactionRevenue, Length: 688, dtype: int64"
      ]
     },
     "execution_count": 19,
     "metadata": {},
     "output_type": "execute_result"
    }
   ],
   "source": [
    "train_df.totals_transactionRevenue.value_counts()"
   ]
  },
  {
   "cell_type": "code",
   "execution_count": 20,
   "metadata": {},
   "outputs": [],
   "source": [
    "transactionRevenue = train_df.totals_transactionRevenue.astype(np.float)"
   ]
  },
  {
   "cell_type": "code",
   "execution_count": 21,
   "metadata": {},
   "outputs": [
    {
     "data": {
      "text/plain": [
       "(array([9.9957e+04, 3.2000e+01, 8.0000e+00, 2.0000e+00, 0.0000e+00,\n",
       "        0.0000e+00, 0.0000e+00, 0.0000e+00, 0.0000e+00, 1.0000e+00]),\n",
       " array([0.0000e+00, 5.4980e+08, 1.0996e+09, 1.6494e+09, 2.1992e+09,\n",
       "        2.7490e+09, 3.2988e+09, 3.8486e+09, 4.3984e+09, 4.9482e+09,\n",
       "        5.4980e+09]),\n",
       " <a list of 10 Patch objects>)"
      ]
     },
     "execution_count": 21,
     "metadata": {},
     "output_type": "execute_result"
    },
    {
     "data": {
      "image/png": "[encoded data removed]",
      "text/plain": [
       "<Figure size 1080x720 with 1 Axes>"
      ]
     },
     "metadata": {
      "needs_background": "light"
     },
     "output_type": "display_data"
    }
   ],
   "source": [
    "plt.figure(figsize=(15,10))\n",
    "plt.hist(transactionRevenue)"
   ]
  },
  {
   "cell_type": "code",
   "execution_count": 22,
   "metadata": {},
   "outputs": [
    {
     "data": {
      "text/plain": [
       "Index(['channelGrouping', 'date', 'fullVisitorId', 'hits',\n",
       "       'socialEngagementType', 'visitId', 'visitNumber', 'visitStartTime',\n",
       "       'device_browser', 'device_browserSize', 'device_browserVersion',\n",
       "       'device_deviceCategory', 'device_flashVersion', 'device_isMobile',\n",
       "       'device_language', 'device_mobileDeviceBranding',\n",
       "       'device_mobileDeviceInfo', 'device_mobileDeviceMarketingName',\n",
       "       'device_mobileDeviceModel', 'device_mobileInputSelector',\n",
       "       'device_operatingSystem', 'device_operatingSystemVersion',\n",
       "       'device_screenColors', 'device_screenResolution', 'geoNetwork_city',\n",
       "       'geoNetwork_cityId', 'geoNetwork_continent', 'geoNetwork_country',\n",
       "       'geoNetwork_latitude', 'geoNetwork_longitude', 'geoNetwork_metro',\n",
       "       'geoNetwork_networkDomain', 'geoNetwork_networkLocation',\n",
       "       'geoNetwork_region', 'geoNetwork_subContinent', 'totals_bounces',\n",
       "       'totals_hits', 'totals_newVisits', 'totals_pageviews',\n",
       "       'totals_sessionQualityDim', 'totals_timeOnSite',\n",
       "       'totals_totalTransactionRevenue', 'totals_transactionRevenue',\n",
       "       'totals_transactions', 'totals_visits', 'trafficSource_adContent',\n",
       "       'trafficSource_adwordsClickInfo.adNetworkType',\n",
       "       'trafficSource_adwordsClickInfo.criteriaParameters',\n",
       "       'trafficSource_adwordsClickInfo.gclId',\n",
       "       'trafficSource_adwordsClickInfo.isVideoAd',\n",
       "       'trafficSource_adwordsClickInfo.page',\n",
       "       'trafficSource_adwordsClickInfo.slot', 'trafficSource_campaign',\n",
       "       'trafficSource_isTrueDirect', 'trafficSource_keyword',\n",
       "       'trafficSource_medium', 'trafficSource_referralPath',\n",
       "       'trafficSource_source', 'customDimensions_index',\n",
       "       'customDimensions_value'],\n",
       "      dtype='object')"
      ]
     },
     "execution_count": 22,
     "metadata": {},
     "output_type": "execute_result"
    }
   ],
   "source": [
    "train_df.columns"
   ]
  },
  {
   "cell_type": "code",
   "execution_count": 23,
   "metadata": {},
   "outputs": [
    {
     "data": {
      "text/plain": [
       "Chrome                      68272\n",
       "Safari                      18609\n",
       "Firefox                      3641\n",
       "Android Webview              2357\n",
       "Internet Explorer            2070\n",
       "Edge                         1176\n",
       "Samsung Internet              914\n",
       "Opera Mini                    884\n",
       "Safari (in-app)               744\n",
       "Opera                         521\n",
       "UC Browser                    328\n",
       "YaBrowser                     153\n",
       "Amazon Silk                    97\n",
       "Coc Coc                        66\n",
       "Android Browser                49\n",
       "Mozilla Compatible Agent       32\n",
       "BlackBerry                     17\n",
       "Nintendo Browser               15\n",
       "MRCHROME                       12\n",
       "Puffin                         11\n",
       "Maxthon                         9\n",
       "Nokia Browser                   8\n",
       "DESKTOP                         2\n",
       "Browser                         2\n",
       "Seznam                          1\n",
       "LYF_LS_4002_12                  1\n",
       "SeaMonkey                       1\n",
       "ThumbSniper                     1\n",
       "Mozilla                         1\n",
       "IE with Chrome Frame            1\n",
       "osee2unifiedRelease             1\n",
       "ADM                             1\n",
       "Playstation Vita Browser        1\n",
       "Lunascape                       1\n",
       "(not set)                       1\n",
       "Name: device_browser, dtype: int64"
      ]
     },
     "execution_count": 23,
     "metadata": {},
     "output_type": "execute_result"
    }
   ],
   "source": [
    "train_df.device_browser.value_counts(dropna=False)"
   ]
  },
  {
   "cell_type": "code",
   "execution_count": 24,
   "metadata": {},
   "outputs": [
    {
     "data": {
      "text/plain": [
       "desktop    68920\n",
       "mobile     27574\n",
       "tablet      3506\n",
       "Name: device_deviceCategory, dtype: int64"
      ]
     },
     "execution_count": 24,
     "metadata": {},
     "output_type": "execute_result"
    }
   ],
   "source": [
    "train_df.device_deviceCategory.value_counts(dropna=False)"
   ]
  },
  {
   "cell_type": "code",
   "execution_count": 7,
   "metadata": {},
   "outputs": [
    {
     "data": {
      "text/plain": [
       "<matplotlib.axes._subplots.AxesSubplot at 0x1337ab9e8>"
      ]
     },
     "execution_count": 7,
     "metadata": {},
     "output_type": "execute_result"
    },
    {
     "data": {
      "image/png": "[encoded data removed]",
      "text/plain": [
       "<Figure size 1440x1080 with 1 Axes>"
      ]
     },
     "metadata": {
      "needs_background": "light"
     },
     "output_type": "display_data"
    }
   ],
   "source": [
    "train_df.device_deviceCategory.value_counts(dropna=False).plot.bar(figsize=(20,15))"
   ]
  },
  {
   "cell_type": "code",
   "execution_count": 25,
   "metadata": {},
   "outputs": [
    {
     "data": {
      "text/plain": [
       "not available in demo dataset    100000\n",
       "Name: device_screenColors, dtype: int64"
      ]
     },
     "execution_count": 25,
     "metadata": {},
     "output_type": "execute_result"
    }
   ],
   "source": [
    "train_df.device_screenColors.value_counts(dropna=False)"
   ]
  },
  {
   "cell_type": "code",
   "execution_count": 26,
   "metadata": {},
   "outputs": [
    {
     "data": {
      "text/plain": [
       "not available in demo dataset    100000\n",
       "Name: geoNetwork_longitude, dtype: int64"
      ]
     },
     "execution_count": 26,
     "metadata": {},
     "output_type": "execute_result"
    }
   ],
   "source": [
    "train_df.geoNetwork_longitude.value_counts(dropna=False)"
   ]
  },
  {
   "cell_type": "code",
   "execution_count": 27,
   "metadata": {},
   "outputs": [
    {
     "data": {
      "text/plain": [
       "United States               40783\n",
       "India                        6472\n",
       "United Kingdom               4322\n",
       "Canada                       3011\n",
       "Vietnam                      2486\n",
       "Germany                      2183\n",
       "Brazil                       2176\n",
       "Japan                        2048\n",
       "Thailand                     1905\n",
       "France                       1847\n",
       "Turkey                       1746\n",
       "Mexico                       1581\n",
       "Taiwan                       1527\n",
       "Netherlands                  1521\n",
       "Australia                    1352\n",
       "Spain                        1332\n",
       "Italy                        1240\n",
       "Indonesia                    1038\n",
       "Russia                       1021\n",
       "Poland                        928\n",
       "Singapore                     870\n",
       "Romania                       821\n",
       "Philippines                   811\n",
       "Malaysia                      714\n",
       "South Korea                   682\n",
       "Ireland                       643\n",
       "Egypt                         641\n",
       "Belgium                       609\n",
       "Ukraine                       580\n",
       "Argentina                     569\n",
       "                            ...  \n",
       "Monaco                          2\n",
       "Sint Maarten                    2\n",
       "Northern Mariana Islands        2\n",
       "Liechtenstein                   2\n",
       "South Sudan                     2\n",
       "Bahamas                         2\n",
       "Liberia                         2\n",
       "Tajikistan                      2\n",
       "Turkmenistan                    2\n",
       "Congo - Brazzaville             2\n",
       "Belize                          2\n",
       "Guernsey                        2\n",
       "Mauritania                      2\n",
       "Fiji                            2\n",
       "Niger                           2\n",
       "Togo                            2\n",
       "Turks & Caicos Islands          2\n",
       "Zimbabwe                        2\n",
       "Bermuda                         2\n",
       "Papua New Guinea                1\n",
       "Jersey                          1\n",
       "Bhutan                          1\n",
       "St. Lucia                       1\n",
       "Swaziland                       1\n",
       "Andorra                         1\n",
       "St. Vincent & Grenadines        1\n",
       "Guinea-Bissau                   1\n",
       "San Marino                      1\n",
       "French Polynesia                1\n",
       "Malawi                          1\n",
       "Name: geoNetwork_country, Length: 188, dtype: int64"
      ]
     },
     "execution_count": 27,
     "metadata": {},
     "output_type": "execute_result"
    }
   ],
   "source": [
    "train_df.geoNetwork_country.value_counts(dropna=False)"
   ]
  },
  {
   "cell_type": "code",
   "execution_count": 10,
   "metadata": {},
   "outputs": [
    {
     "data": {
      "text/plain": [
       "<matplotlib.axes._subplots.AxesSubplot at 0x1334fde80>"
      ]
     },
     "execution_count": 10,
     "metadata": {},
     "output_type": "execute_result"
    },
    {
     "data": {
      "image/png": "[encoded data removed]",
      "text/plain": [
       "<Figure size 1440x1080 with 1 Axes>"
      ]
     },
     "metadata": {
      "needs_background": "light"
     },
     "output_type": "display_data"
    }
   ],
   "source": [
    "train_df.geoNetwork_country.value_counts(dropna=False)[:10].plot.bar(figsize=(20,15))"
   ]
  },
  {
   "cell_type": "code",
   "execution_count": 28,
   "metadata": {},
   "outputs": [
    {
     "data": {
      "text/plain": [
       "not available in demo dataset    54332\n",
       "Mountain View                     4460\n",
       "(not set)                         3863\n",
       "New York                          2753\n",
       "San Francisco                     2270\n",
       "Sunnyvale                         1603\n",
       "London                            1343\n",
       "San Jose                          1189\n",
       "Los Angeles                        942\n",
       "Chicago                            840\n",
       "Bangkok                            758\n",
       "Ho Chi Minh City                   675\n",
       "Bengaluru                          626\n",
       "Toronto                            584\n",
       "Seattle                            584\n",
       "Istanbul                           575\n",
       "Hyderabad                          542\n",
       "Mumbai                             532\n",
       "Sydney                             526\n",
       "Hanoi                              520\n",
       "Chennai                            516\n",
       "Dublin                             491\n",
       "Sao Paulo                          482\n",
       "Paris                              455\n",
       "Singapore                          447\n",
       "Jakarta                            424\n",
       "Santa Clara                        412\n",
       "Austin                             398\n",
       "New Delhi                          385\n",
       "Mexico City                        371\n",
       "                                 ...  \n",
       "Eskisehir                            6\n",
       "Amherst                              6\n",
       "Telford                              6\n",
       "Ridgewood                            6\n",
       "Pozuelo de Alarcon                   6\n",
       "Hradec Kralove                       6\n",
       "Tiruchirappalli                      6\n",
       "Can Tho                              6\n",
       "Santiago de Queretaro                6\n",
       "Belgrade                             6\n",
       "Quang Ngai                           6\n",
       "Addis Ababa                          6\n",
       "Konya                                6\n",
       "Melville                             6\n",
       "Agra                                 6\n",
       "Bhubaneswar                          6\n",
       "Nairobi                              6\n",
       "Cyberjaya                            6\n",
       "Surat                                6\n",
       "Campinas                             6\n",
       "Helsinki                             6\n",
       "Antalya                              6\n",
       "Canterbury                           5\n",
       "Jacksonville                         5\n",
       "Danville                             4\n",
       "Council Bluffs                       3\n",
       "Bellevue                             3\n",
       "Seville                              3\n",
       "Bothell                              3\n",
       "Menlo Park                           2\n",
       "Name: geoNetwork_city, Length: 318, dtype: int64"
      ]
     },
     "execution_count": 28,
     "metadata": {},
     "output_type": "execute_result"
    }
   ],
   "source": [
    "train_df.geoNetwork_city.value_counts(dropna=False)"
   ]
  },
  {
   "cell_type": "code",
   "execution_count": 9,
   "metadata": {},
   "outputs": [
    {
     "data": {
      "text/plain": [
       "<matplotlib.axes._subplots.AxesSubplot at 0x13369d390>"
      ]
     },
     "execution_count": 9,
     "metadata": {},
     "output_type": "execute_result"
    },
    {
     "data": {
      "image/png": "[encoded data removed]",
      "text/plain": [
       "<Figure size 1440x1080 with 1 Axes>"
      ]
     },
     "metadata": {
      "needs_background": "light"
     },
     "output_type": "display_data"
    }
   ],
   "source": [
    "train_df.geoNetwork_city.value_counts(dropna=False)[:10].plot.bar(figsize=(20,15))"
   ]
  },
  {
   "cell_type": "code",
   "execution_count": 29,
   "metadata": {},
   "outputs": [
    {
     "data": {
      "text/plain": [
       "NaN                                   96237\n",
       "Google Merchandise Store               2276\n",
       "Google Merchandise Collection           490\n",
       "Placement Accessores 300 x 250          176\n",
       "Display Ad created 3/11/14              118\n",
       "Google Online Store                      96\n",
       "Smart display ad - 8/17/2017             81\n",
       "Full auto ad IMAGE ONLY                  52\n",
       "Ad from 12/15/17                         51\n",
       "Placement Drinkware 300x250              48\n",
       "Official Google Merchandise              47\n",
       "Ad from 12/13/16                         42\n",
       "Display Ad created 3/11/15               33\n",
       "Placement Accessories 336 x 280          25\n",
       "{KeyWord:Google Merchandise}             23\n",
       "Placement Accessories 160 x 600          17\n",
       "{KeyWord:Google Brand Items}             15\n",
       "Display Ad created 11/17/14              14\n",
       "BQ                                       13\n",
       "Placement Accessories 300 x 250          10\n",
       "Swag with Google Logos                    9\n",
       "Ad from 11/3/16                           9\n",
       "{KeyWord:Looking for Google Bags?}        8\n",
       "Drinkware 336x280                         8\n",
       "{KeyWord:Google Branded Gear}             8\n",
       "Bags 300x250                              8\n",
       "Placement Office 300x250                  7\n",
       "First Full Auto Template Test Ad          7\n",
       "Bags 336x280                              6\n",
       "{KeyWord:Want Google Stickers?}           6\n",
       "Placement 300 x 250                       6\n",
       "Placememnt Drinkware 160x600              5\n",
       "{KeyWord:Google Drinkware}                4\n",
       "Ad from 11/7/16                           4\n",
       "Placement 336x280                         4\n",
       "{KeyWord:Google Branded Apparel}          4\n",
       "{KeyWord:Google Men's T-Shirts}           3\n",
       "Placement Elecronics 300 x 250            3\n",
       "Ad from 12/21/16                          3\n",
       "Google Merchandise                        3\n",
       "Placement Accessories2 120 x 600          2\n",
       "Google Store                              2\n",
       "Full auto ad TEXT ONLY                    2\n",
       "Want Google Sunglasses                    2\n",
       "Bags 160 x 600                            2\n",
       "{KeyWord:Google Branded Kit}              2\n",
       "Office Placement 160x600                  1\n",
       "google store                              1\n",
       "{KeyWord:Want Google Pet Toys?}           1\n",
       "LeEco_1a                                  1\n",
       "test_tyler_hr_merchant                    1\n",
       "Full auto ad TEXT/NATIVE                  1\n",
       "Office 2018 - 120 x 600                   1\n",
       "Placement Electronics 160 x 600           1\n",
       "Google Paraphernalia                      1\n",
       "Name: trafficSource_adContent, dtype: int64"
      ]
     },
     "execution_count": 29,
     "metadata": {},
     "output_type": "execute_result"
    }
   ],
   "source": [
    "train_df.trafficSource_adContent.value_counts(dropna=False)"
   ]
  },
  {
   "cell_type": "code",
   "execution_count": 11,
   "metadata": {},
   "outputs": [
    {
     "data": {
      "text/plain": [
       "<matplotlib.axes._subplots.AxesSubplot at 0x133452b00>"
      ]
     },
     "execution_count": 11,
     "metadata": {},
     "output_type": "execute_result"
    },
    {
     "data": {
      "image/png": "[encoded data removed]",
      "text/plain": [
       "<Figure size 1440x1080 with 1 Axes>"
      ]
     },
     "metadata": {
      "needs_background": "light"
     },
     "output_type": "display_data"
    }
   ],
   "source": [
    "train_df.trafficSource_adContent.value_counts(dropna=False)[1:10].plot.bar(figsize=(20,15))"
   ]
  }
 ],
 "metadata": {
  "kernelspec": {
   "display_name": "Python 3",
   "language": "python",
   "name": "python3"
  },
  "language_info": {
   "codemirror_mode": {
    "name": "ipython",
    "version": 3
   },
   "file_extension": ".py",
   "mimetype": "text/x-python",
   "name": "python",
   "nbconvert_exporter": "python",
   "pygments_lexer": "ipython3",
   "version": "3.7.3"
  }
 },
 "nbformat": 4,
 "nbformat_minor": 2
}
