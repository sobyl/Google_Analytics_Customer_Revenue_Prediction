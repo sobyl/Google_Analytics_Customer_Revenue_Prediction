{
 "cells": [
  {
   "cell_type": "markdown",
   "metadata": {},
   "source": [
    "## Data exploration"
   ]
  },
  {
   "cell_type": "markdown",
   "metadata": {},
   "source": [
    "- fullVisitorId- A unique identifier for each customer of the Gstore.\n",
    "- channelGrouping - The channel via which the user came to the store.\n",
    "- customDimensions - ???\n",
    "- date - The date on which the user visited the Store.\n",
    "- device - The specifications for the device used to access the Store.\n",
    "- geoNetwork - This section contains information about the geography of the user.\n",
    "- hits -  This section contains hits information.\n",
    "- sessionId - A unique identifier for this visit to the store.\n",
    "- socialEngagementType - Engagement type, either \"Socially Engaged\" or \"Not Socially Engaged\".\n",
    "- totals - This section contains aggregate values across the session.\n",
    "- trafficSource - This section contains information about the Traffic Source from which the session originated.\n",
    "- visitId - An identifier for this session. This is part of the value usually stored as the _utmb cookie. This is only unique to the user. For a completely unique ID, you should use a combination of fullVisitorId and visitId.\n",
    "- visitNumber - The session number for this user. If this is the first session, then this is set to 1.\n",
    "- visitStartTime - The timestamp (expressed as POSIX time).\n"
   ]
  },
  {
   "cell_type": "code",
   "execution_count": 19,
   "metadata": {},
   "outputs": [],
   "source": [
    "import pandas as pd\n",
    "import numpy as np\n",
    "import json\n",
    "from ast import literal_eval\n",
    "from pandas.io.json import json_normalize\n",
    "import matplotlib.pyplot as plt\n",
    "%matplotlib inline"
   ]
  },
  {
   "cell_type": "code",
   "execution_count": 2,
   "metadata": {},
   "outputs": [],
   "source": [
    "j_col = ['device', 'geoNetwork', 'totals', 'trafficSource']"
   ]
  },
  {
   "cell_type": "code",
   "execution_count": 34,
   "metadata": {},
   "outputs": [],
   "source": [
    "train_df = pd.read_csv('train_v2.csv', converters={column: json.loads for column in j_col},dtype={'fullVisitorId': 'str'}, nrows=100000)"
   ]
  },
  {
   "cell_type": "code",
   "execution_count": 12,
   "metadata": {},
   "outputs": [
    {
     "data": {
      "text/html": [
       "<div>\n",
       "<style scoped>\n",
       "    .dataframe tbody tr th:only-of-type {\n",
       "        vertical-align: middle;\n",
       "    }\n",
       "\n",
       "    .dataframe tbody tr th {\n",
       "        vertical-align: top;\n",
       "    }\n",
       "\n",
       "    .dataframe thead th {\n",
       "        text-align: right;\n",
       "    }\n",
       "</style>\n",
       "<table border=\"1\" class=\"dataframe\">\n",
       "  <thead>\n",
       "    <tr style=\"text-align: right;\">\n",
       "      <th></th>\n",
       "      <th>channelGrouping</th>\n",
       "      <th>customDimensions</th>\n",
       "      <th>date</th>\n",
       "      <th>device</th>\n",
       "      <th>fullVisitorId</th>\n",
       "      <th>geoNetwork</th>\n",
       "      <th>hits</th>\n",
       "      <th>socialEngagementType</th>\n",
       "      <th>totals</th>\n",
       "      <th>trafficSource</th>\n",
       "      <th>visitId</th>\n",
       "      <th>visitNumber</th>\n",
       "      <th>visitStartTime</th>\n",
       "    </tr>\n",
       "  </thead>\n",
       "  <tbody>\n",
       "    <tr>\n",
       "      <th>0</th>\n",
       "      <td>Organic Search</td>\n",
       "      <td>[{'index': '4', 'value': 'EMEA'}]</td>\n",
       "      <td>20171016</td>\n",
       "      <td>{'browser': 'Firefox', 'browserVersion': 'not ...</td>\n",
       "      <td>3162355547410993243</td>\n",
       "      <td>{'continent': 'Europe', 'subContinent': 'Weste...</td>\n",
       "      <td>[{'hitNumber': '1', 'time': '0', 'hour': '17',...</td>\n",
       "      <td>Not Socially Engaged</td>\n",
       "      <td>{'visits': '1', 'hits': '1', 'pageviews': '1',...</td>\n",
       "      <td>{'campaign': '(not set)', 'source': 'google', ...</td>\n",
       "      <td>1508198450</td>\n",
       "      <td>1</td>\n",
       "      <td>1508198450</td>\n",
       "    </tr>\n",
       "    <tr>\n",
       "      <th>1</th>\n",
       "      <td>Referral</td>\n",
       "      <td>[{'index': '4', 'value': 'North America'}]</td>\n",
       "      <td>20171016</td>\n",
       "      <td>{'browser': 'Chrome', 'browserVersion': 'not a...</td>\n",
       "      <td>8934116514970143966</td>\n",
       "      <td>{'continent': 'Americas', 'subContinent': 'Nor...</td>\n",
       "      <td>[{'hitNumber': '1', 'time': '0', 'hour': '10',...</td>\n",
       "      <td>Not Socially Engaged</td>\n",
       "      <td>{'visits': '1', 'hits': '2', 'pageviews': '2',...</td>\n",
       "      <td>{'referralPath': '/a/google.com/transportation...</td>\n",
       "      <td>1508176307</td>\n",
       "      <td>6</td>\n",
       "      <td>1508176307</td>\n",
       "    </tr>\n",
       "    <tr>\n",
       "      <th>2</th>\n",
       "      <td>Direct</td>\n",
       "      <td>[{'index': '4', 'value': 'North America'}]</td>\n",
       "      <td>20171016</td>\n",
       "      <td>{'browser': 'Chrome', 'browserVersion': 'not a...</td>\n",
       "      <td>7992466427990357681</td>\n",
       "      <td>{'continent': 'Americas', 'subContinent': 'Nor...</td>\n",
       "      <td>[{'hitNumber': '1', 'time': '0', 'hour': '17',...</td>\n",
       "      <td>Not Socially Engaged</td>\n",
       "      <td>{'visits': '1', 'hits': '2', 'pageviews': '2',...</td>\n",
       "      <td>{'campaign': '(not set)', 'source': '(direct)'...</td>\n",
       "      <td>1508201613</td>\n",
       "      <td>1</td>\n",
       "      <td>1508201613</td>\n",
       "    </tr>\n",
       "    <tr>\n",
       "      <th>3</th>\n",
       "      <td>Organic Search</td>\n",
       "      <td>[{'index': '4', 'value': 'EMEA'}]</td>\n",
       "      <td>20171016</td>\n",
       "      <td>{'browser': 'Chrome', 'browserVersion': 'not a...</td>\n",
       "      <td>9075655783635761930</td>\n",
       "      <td>{'continent': 'Asia', 'subContinent': 'Western...</td>\n",
       "      <td>[{'hitNumber': '1', 'time': '0', 'hour': '9', ...</td>\n",
       "      <td>Not Socially Engaged</td>\n",
       "      <td>{'visits': '1', 'hits': '2', 'pageviews': '2',...</td>\n",
       "      <td>{'campaign': '(not set)', 'source': 'google', ...</td>\n",
       "      <td>1508169851</td>\n",
       "      <td>1</td>\n",
       "      <td>1508169851</td>\n",
       "    </tr>\n",
       "    <tr>\n",
       "      <th>4</th>\n",
       "      <td>Organic Search</td>\n",
       "      <td>[{'index': '4', 'value': 'Central America'}]</td>\n",
       "      <td>20171016</td>\n",
       "      <td>{'browser': 'Chrome', 'browserVersion': 'not a...</td>\n",
       "      <td>6960673291025684308</td>\n",
       "      <td>{'continent': 'Americas', 'subContinent': 'Cen...</td>\n",
       "      <td>[{'hitNumber': '1', 'time': '0', 'hour': '14',...</td>\n",
       "      <td>Not Socially Engaged</td>\n",
       "      <td>{'visits': '1', 'hits': '2', 'pageviews': '2',...</td>\n",
       "      <td>{'campaign': '(not set)', 'source': 'google', ...</td>\n",
       "      <td>1508190552</td>\n",
       "      <td>1</td>\n",
       "      <td>1508190552</td>\n",
       "    </tr>\n",
       "  </tbody>\n",
       "</table>\n",
       "</div>"
      ],
      "text/plain": [
       "  channelGrouping                              customDimensions      date  \\\n",
       "0  Organic Search             [{'index': '4', 'value': 'EMEA'}]  20171016   \n",
       "1        Referral    [{'index': '4', 'value': 'North America'}]  20171016   \n",
       "2          Direct    [{'index': '4', 'value': 'North America'}]  20171016   \n",
       "3  Organic Search             [{'index': '4', 'value': 'EMEA'}]  20171016   \n",
       "4  Organic Search  [{'index': '4', 'value': 'Central America'}]  20171016   \n",
       "\n",
       "                                              device        fullVisitorId  \\\n",
       "0  {'browser': 'Firefox', 'browserVersion': 'not ...  3162355547410993243   \n",
       "1  {'browser': 'Chrome', 'browserVersion': 'not a...  8934116514970143966   \n",
       "2  {'browser': 'Chrome', 'browserVersion': 'not a...  7992466427990357681   \n",
       "3  {'browser': 'Chrome', 'browserVersion': 'not a...  9075655783635761930   \n",
       "4  {'browser': 'Chrome', 'browserVersion': 'not a...  6960673291025684308   \n",
       "\n",
       "                                          geoNetwork  \\\n",
       "0  {'continent': 'Europe', 'subContinent': 'Weste...   \n",
       "1  {'continent': 'Americas', 'subContinent': 'Nor...   \n",
       "2  {'continent': 'Americas', 'subContinent': 'Nor...   \n",
       "3  {'continent': 'Asia', 'subContinent': 'Western...   \n",
       "4  {'continent': 'Americas', 'subContinent': 'Cen...   \n",
       "\n",
       "                                                hits  socialEngagementType  \\\n",
       "0  [{'hitNumber': '1', 'time': '0', 'hour': '17',...  Not Socially Engaged   \n",
       "1  [{'hitNumber': '1', 'time': '0', 'hour': '10',...  Not Socially Engaged   \n",
       "2  [{'hitNumber': '1', 'time': '0', 'hour': '17',...  Not Socially Engaged   \n",
       "3  [{'hitNumber': '1', 'time': '0', 'hour': '9', ...  Not Socially Engaged   \n",
       "4  [{'hitNumber': '1', 'time': '0', 'hour': '14',...  Not Socially Engaged   \n",
       "\n",
       "                                              totals  \\\n",
       "0  {'visits': '1', 'hits': '1', 'pageviews': '1',...   \n",
       "1  {'visits': '1', 'hits': '2', 'pageviews': '2',...   \n",
       "2  {'visits': '1', 'hits': '2', 'pageviews': '2',...   \n",
       "3  {'visits': '1', 'hits': '2', 'pageviews': '2',...   \n",
       "4  {'visits': '1', 'hits': '2', 'pageviews': '2',...   \n",
       "\n",
       "                                       trafficSource     visitId  visitNumber  \\\n",
       "0  {'campaign': '(not set)', 'source': 'google', ...  1508198450            1   \n",
       "1  {'referralPath': '/a/google.com/transportation...  1508176307            6   \n",
       "2  {'campaign': '(not set)', 'source': '(direct)'...  1508201613            1   \n",
       "3  {'campaign': '(not set)', 'source': 'google', ...  1508169851            1   \n",
       "4  {'campaign': '(not set)', 'source': 'google', ...  1508190552            1   \n",
       "\n",
       "   visitStartTime  \n",
       "0      1508198450  \n",
       "1      1508176307  \n",
       "2      1508201613  \n",
       "3      1508169851  \n",
       "4      1508190552  "
      ]
     },
     "execution_count": 12,
     "metadata": {},
     "output_type": "execute_result"
    }
   ],
   "source": [
    "train_df.head()"
   ]
  },
  {
   "cell_type": "code",
   "execution_count": 5,
   "metadata": {},
   "outputs": [
    {
     "data": {
      "text/plain": [
       "(100000, 13)"
      ]
     },
     "execution_count": 5,
     "metadata": {},
     "output_type": "execute_result"
    }
   ],
   "source": [
    "train_df.shape"
   ]
  },
  {
   "cell_type": "code",
   "execution_count": 6,
   "metadata": {},
   "outputs": [
    {
     "data": {
      "text/plain": [
       "channelGrouping         object\n",
       "customDimensions        object\n",
       "date                     int64\n",
       "device                  object\n",
       "fullVisitorId           object\n",
       "geoNetwork              object\n",
       "hits                    object\n",
       "socialEngagementType    object\n",
       "totals                  object\n",
       "trafficSource           object\n",
       "visitId                  int64\n",
       "visitNumber              int64\n",
       "visitStartTime           int64\n",
       "dtype: object"
      ]
     },
     "execution_count": 6,
     "metadata": {},
     "output_type": "execute_result"
    }
   ],
   "source": [
    "train_df.dtypes"
   ]
  },
  {
   "cell_type": "code",
   "execution_count": 44,
   "metadata": {},
   "outputs": [],
   "source": [
    "hits_chunk = json_normalize(train_df['hits'].apply(lambda x: literal_eval(x)[0] if x != \"[]\" else literal_eval(\"{}\")))"
   ]
  },
  {
   "cell_type": "code",
   "execution_count": 45,
   "metadata": {},
   "outputs": [
    {
     "data": {
      "text/html": [
       "<div>\n",
       "<style scoped>\n",
       "    .dataframe tbody tr th:only-of-type {\n",
       "        vertical-align: middle;\n",
       "    }\n",
       "\n",
       "    .dataframe tbody tr th {\n",
       "        vertical-align: top;\n",
       "    }\n",
       "\n",
       "    .dataframe thead th {\n",
       "        text-align: right;\n",
       "    }\n",
       "</style>\n",
       "<table border=\"1\" class=\"dataframe\">\n",
       "  <thead>\n",
       "    <tr style=\"text-align: right;\">\n",
       "      <th></th>\n",
       "      <th>appInfo.exitScreenName</th>\n",
       "      <th>appInfo.landingScreenName</th>\n",
       "      <th>appInfo.screenDepth</th>\n",
       "      <th>appInfo.screenName</th>\n",
       "      <th>contentGroup.contentGroup1</th>\n",
       "      <th>contentGroup.contentGroup2</th>\n",
       "      <th>contentGroup.contentGroup3</th>\n",
       "      <th>contentGroup.contentGroup4</th>\n",
       "      <th>contentGroup.contentGroup5</th>\n",
       "      <th>contentGroup.contentGroupUniqueViews1</th>\n",
       "      <th>...</th>\n",
       "      <th>promotionActionInfo.promoIsClick</th>\n",
       "      <th>promotionActionInfo.promoIsView</th>\n",
       "      <th>publisher_infos</th>\n",
       "      <th>referer</th>\n",
       "      <th>social.hasSocialSourceReferral</th>\n",
       "      <th>social.socialInteractionNetworkAction</th>\n",
       "      <th>social.socialNetwork</th>\n",
       "      <th>time</th>\n",
       "      <th>transaction.currencyCode</th>\n",
       "      <th>type</th>\n",
       "    </tr>\n",
       "  </thead>\n",
       "  <tbody>\n",
       "    <tr>\n",
       "      <th>0</th>\n",
       "      <td>shop.googlemerchandisestore.com/google+redesig...</td>\n",
       "      <td>shop.googlemerchandisestore.com/google+redesig...</td>\n",
       "      <td>0</td>\n",
       "      <td>shop.googlemerchandisestore.com/google+redesig...</td>\n",
       "      <td>(not set)</td>\n",
       "      <td>Bags</td>\n",
       "      <td>(not set)</td>\n",
       "      <td>(not set)</td>\n",
       "      <td>(not set)</td>\n",
       "      <td>NaN</td>\n",
       "      <td>...</td>\n",
       "      <td>NaN</td>\n",
       "      <td>NaN</td>\n",
       "      <td>[]</td>\n",
       "      <td>https://www.google.co.uk/search?q=water+bottle...</td>\n",
       "      <td>No</td>\n",
       "      <td>:</td>\n",
       "      <td>(not set)</td>\n",
       "      <td>0</td>\n",
       "      <td>USD</td>\n",
       "      <td>PAGE</td>\n",
       "    </tr>\n",
       "    <tr>\n",
       "      <th>1</th>\n",
       "      <td>shop.googlemerchandisestore.com/asearch.html</td>\n",
       "      <td>shop.googlemerchandisestore.com/home</td>\n",
       "      <td>0</td>\n",
       "      <td>shop.googlemerchandisestore.com/home</td>\n",
       "      <td>(not set)</td>\n",
       "      <td>(not set)</td>\n",
       "      <td>(not set)</td>\n",
       "      <td>(not set)</td>\n",
       "      <td>(not set)</td>\n",
       "      <td>NaN</td>\n",
       "      <td>...</td>\n",
       "      <td>NaN</td>\n",
       "      <td>True</td>\n",
       "      <td>[]</td>\n",
       "      <td>https://sites.google.com/a/google.com/transpor...</td>\n",
       "      <td>No</td>\n",
       "      <td>:</td>\n",
       "      <td>(not set)</td>\n",
       "      <td>0</td>\n",
       "      <td>NaN</td>\n",
       "      <td>PAGE</td>\n",
       "    </tr>\n",
       "    <tr>\n",
       "      <th>2</th>\n",
       "      <td>shop.googlemerchandisestore.com/google+redesig...</td>\n",
       "      <td>shop.googlemerchandisestore.com/home</td>\n",
       "      <td>0</td>\n",
       "      <td>shop.googlemerchandisestore.com/home</td>\n",
       "      <td>(not set)</td>\n",
       "      <td>(not set)</td>\n",
       "      <td>(not set)</td>\n",
       "      <td>(not set)</td>\n",
       "      <td>(not set)</td>\n",
       "      <td>NaN</td>\n",
       "      <td>...</td>\n",
       "      <td>NaN</td>\n",
       "      <td>True</td>\n",
       "      <td>[]</td>\n",
       "      <td>https://www.googlemerchandisestore.com/</td>\n",
       "      <td>No</td>\n",
       "      <td>:</td>\n",
       "      <td>(not set)</td>\n",
       "      <td>0</td>\n",
       "      <td>NaN</td>\n",
       "      <td>PAGE</td>\n",
       "    </tr>\n",
       "    <tr>\n",
       "      <th>3</th>\n",
       "      <td>shop.googlemerchandisestore.com/google+redesig...</td>\n",
       "      <td>shop.googlemerchandisestore.com/home</td>\n",
       "      <td>0</td>\n",
       "      <td>shop.googlemerchandisestore.com/home</td>\n",
       "      <td>(not set)</td>\n",
       "      <td>(not set)</td>\n",
       "      <td>(not set)</td>\n",
       "      <td>(not set)</td>\n",
       "      <td>(not set)</td>\n",
       "      <td>NaN</td>\n",
       "      <td>...</td>\n",
       "      <td>NaN</td>\n",
       "      <td>True</td>\n",
       "      <td>[]</td>\n",
       "      <td>https://www.google.com.tr/</td>\n",
       "      <td>No</td>\n",
       "      <td>:</td>\n",
       "      <td>(not set)</td>\n",
       "      <td>0</td>\n",
       "      <td>NaN</td>\n",
       "      <td>PAGE</td>\n",
       "    </tr>\n",
       "    <tr>\n",
       "      <th>4</th>\n",
       "      <td>shop.googlemerchandisestore.com/google+redesig...</td>\n",
       "      <td>shop.googlemerchandisestore.com/home</td>\n",
       "      <td>0</td>\n",
       "      <td>shop.googlemerchandisestore.com/home</td>\n",
       "      <td>(not set)</td>\n",
       "      <td>(not set)</td>\n",
       "      <td>(not set)</td>\n",
       "      <td>(not set)</td>\n",
       "      <td>(not set)</td>\n",
       "      <td>NaN</td>\n",
       "      <td>...</td>\n",
       "      <td>NaN</td>\n",
       "      <td>True</td>\n",
       "      <td>[]</td>\n",
       "      <td>https://www.google.com.mx/</td>\n",
       "      <td>No</td>\n",
       "      <td>:</td>\n",
       "      <td>(not set)</td>\n",
       "      <td>0</td>\n",
       "      <td>NaN</td>\n",
       "      <td>PAGE</td>\n",
       "    </tr>\n",
       "  </tbody>\n",
       "</table>\n",
       "<p>5 rows × 68 columns</p>\n",
       "</div>"
      ],
      "text/plain": [
       "                              appInfo.exitScreenName  \\\n",
       "0  shop.googlemerchandisestore.com/google+redesig...   \n",
       "1       shop.googlemerchandisestore.com/asearch.html   \n",
       "2  shop.googlemerchandisestore.com/google+redesig...   \n",
       "3  shop.googlemerchandisestore.com/google+redesig...   \n",
       "4  shop.googlemerchandisestore.com/google+redesig...   \n",
       "\n",
       "                           appInfo.landingScreenName appInfo.screenDepth  \\\n",
       "0  shop.googlemerchandisestore.com/google+redesig...                   0   \n",
       "1               shop.googlemerchandisestore.com/home                   0   \n",
       "2               shop.googlemerchandisestore.com/home                   0   \n",
       "3               shop.googlemerchandisestore.com/home                   0   \n",
       "4               shop.googlemerchandisestore.com/home                   0   \n",
       "\n",
       "                                  appInfo.screenName  \\\n",
       "0  shop.googlemerchandisestore.com/google+redesig...   \n",
       "1               shop.googlemerchandisestore.com/home   \n",
       "2               shop.googlemerchandisestore.com/home   \n",
       "3               shop.googlemerchandisestore.com/home   \n",
       "4               shop.googlemerchandisestore.com/home   \n",
       "\n",
       "  contentGroup.contentGroup1 contentGroup.contentGroup2  \\\n",
       "0                  (not set)                       Bags   \n",
       "1                  (not set)                  (not set)   \n",
       "2                  (not set)                  (not set)   \n",
       "3                  (not set)                  (not set)   \n",
       "4                  (not set)                  (not set)   \n",
       "\n",
       "  contentGroup.contentGroup3 contentGroup.contentGroup4  \\\n",
       "0                  (not set)                  (not set)   \n",
       "1                  (not set)                  (not set)   \n",
       "2                  (not set)                  (not set)   \n",
       "3                  (not set)                  (not set)   \n",
       "4                  (not set)                  (not set)   \n",
       "\n",
       "  contentGroup.contentGroup5 contentGroup.contentGroupUniqueViews1  ...  \\\n",
       "0                  (not set)                                   NaN  ...   \n",
       "1                  (not set)                                   NaN  ...   \n",
       "2                  (not set)                                   NaN  ...   \n",
       "3                  (not set)                                   NaN  ...   \n",
       "4                  (not set)                                   NaN  ...   \n",
       "\n",
       "  promotionActionInfo.promoIsClick promotionActionInfo.promoIsView  \\\n",
       "0                              NaN                             NaN   \n",
       "1                              NaN                            True   \n",
       "2                              NaN                            True   \n",
       "3                              NaN                            True   \n",
       "4                              NaN                            True   \n",
       "\n",
       "  publisher_infos                                            referer  \\\n",
       "0              []  https://www.google.co.uk/search?q=water+bottle...   \n",
       "1              []  https://sites.google.com/a/google.com/transpor...   \n",
       "2              []            https://www.googlemerchandisestore.com/   \n",
       "3              []                         https://www.google.com.tr/   \n",
       "4              []                         https://www.google.com.mx/   \n",
       "\n",
       "  social.hasSocialSourceReferral social.socialInteractionNetworkAction  \\\n",
       "0                             No                                    :    \n",
       "1                             No                                    :    \n",
       "2                             No                                    :    \n",
       "3                             No                                    :    \n",
       "4                             No                                    :    \n",
       "\n",
       "  social.socialNetwork time transaction.currencyCode  type  \n",
       "0            (not set)    0                      USD  PAGE  \n",
       "1            (not set)    0                      NaN  PAGE  \n",
       "2            (not set)    0                      NaN  PAGE  \n",
       "3            (not set)    0                      NaN  PAGE  \n",
       "4            (not set)    0                      NaN  PAGE  \n",
       "\n",
       "[5 rows x 68 columns]"
      ]
     },
     "execution_count": 45,
     "metadata": {},
     "output_type": "execute_result"
    }
   ],
   "source": [
    "hits_chunk.head()"
   ]
  },
  {
   "cell_type": "code",
   "execution_count": 35,
   "metadata": {},
   "outputs": [],
   "source": [
    "for column in j_col:\n",
    "    column_as_df = json_normalize(train_df[column])\n",
    "    column_as_df.columns = [f\"{column}_{subcolumn}\" for subcolumn in column_as_df.columns]\n",
    "    train_df = train_df.drop(column, axis=1).merge(column_as_df, right_index=True, left_index=True)"
   ]
  },
  {
   "cell_type": "code",
   "execution_count": 38,
   "metadata": {},
   "outputs": [],
   "source": [
    "column_as_df = json_normalize(train_df['customDimensions'].apply(lambda x: literal_eval(x)[0] if x != \"[]\" else {'index': 'NaN', 'value': 'NaN'}))\n",
    "column_as_df.columns = [f\" {'customDimensions'}_{subcolumn}\" for subcolumn in column_as_df.columns]\n",
    "train_df = train_df.drop('customDimensions', axis=1).merge(column_as_df, right_index=True, left_index=True)"
   ]
  },
  {
   "cell_type": "code",
   "execution_count": 39,
   "metadata": {},
   "outputs": [
    {
     "data": {
      "text/plain": [
       "(100000, 60)"
      ]
     },
     "execution_count": 39,
     "metadata": {},
     "output_type": "execute_result"
    }
   ],
   "source": [
    "train_df.shape"
   ]
  },
  {
   "cell_type": "code",
   "execution_count": 46,
   "metadata": {},
   "outputs": [
    {
     "data": {
      "text/html": [
       "<div>\n",
       "<style scoped>\n",
       "    .dataframe tbody tr th:only-of-type {\n",
       "        vertical-align: middle;\n",
       "    }\n",
       "\n",
       "    .dataframe tbody tr th {\n",
       "        vertical-align: top;\n",
       "    }\n",
       "\n",
       "    .dataframe thead th {\n",
       "        text-align: right;\n",
       "    }\n",
       "</style>\n",
       "<table border=\"1\" class=\"dataframe\">\n",
       "  <thead>\n",
       "    <tr style=\"text-align: right;\">\n",
       "      <th></th>\n",
       "      <th>channelGrouping</th>\n",
       "      <th>date</th>\n",
       "      <th>fullVisitorId</th>\n",
       "      <th>hits</th>\n",
       "      <th>socialEngagementType</th>\n",
       "      <th>visitId</th>\n",
       "      <th>visitNumber</th>\n",
       "      <th>visitStartTime</th>\n",
       "      <th>device_browser</th>\n",
       "      <th>device_browserSize</th>\n",
       "      <th>...</th>\n",
       "      <th>trafficSource_adwordsClickInfo.page</th>\n",
       "      <th>trafficSource_adwordsClickInfo.slot</th>\n",
       "      <th>trafficSource_campaign</th>\n",
       "      <th>trafficSource_isTrueDirect</th>\n",
       "      <th>trafficSource_keyword</th>\n",
       "      <th>trafficSource_medium</th>\n",
       "      <th>trafficSource_referralPath</th>\n",
       "      <th>trafficSource_source</th>\n",
       "      <th>customDimensions_index</th>\n",
       "      <th>customDimensions_value</th>\n",
       "    </tr>\n",
       "  </thead>\n",
       "  <tbody>\n",
       "    <tr>\n",
       "      <th>0</th>\n",
       "      <td>Organic Search</td>\n",
       "      <td>20171016</td>\n",
       "      <td>3162355547410993243</td>\n",
       "      <td>[{'hitNumber': '1', 'time': '0', 'hour': '17',...</td>\n",
       "      <td>Not Socially Engaged</td>\n",
       "      <td>1508198450</td>\n",
       "      <td>1</td>\n",
       "      <td>1508198450</td>\n",
       "      <td>Firefox</td>\n",
       "      <td>not available in demo dataset</td>\n",
       "      <td>...</td>\n",
       "      <td>NaN</td>\n",
       "      <td>NaN</td>\n",
       "      <td>(not set)</td>\n",
       "      <td>NaN</td>\n",
       "      <td>water bottle</td>\n",
       "      <td>organic</td>\n",
       "      <td>NaN</td>\n",
       "      <td>google</td>\n",
       "      <td>4</td>\n",
       "      <td>EMEA</td>\n",
       "    </tr>\n",
       "    <tr>\n",
       "      <th>1</th>\n",
       "      <td>Referral</td>\n",
       "      <td>20171016</td>\n",
       "      <td>8934116514970143966</td>\n",
       "      <td>[{'hitNumber': '1', 'time': '0', 'hour': '10',...</td>\n",
       "      <td>Not Socially Engaged</td>\n",
       "      <td>1508176307</td>\n",
       "      <td>6</td>\n",
       "      <td>1508176307</td>\n",
       "      <td>Chrome</td>\n",
       "      <td>not available in demo dataset</td>\n",
       "      <td>...</td>\n",
       "      <td>NaN</td>\n",
       "      <td>NaN</td>\n",
       "      <td>(not set)</td>\n",
       "      <td>NaN</td>\n",
       "      <td>NaN</td>\n",
       "      <td>referral</td>\n",
       "      <td>/a/google.com/transportation/mtv-services/bike...</td>\n",
       "      <td>sites.google.com</td>\n",
       "      <td>4</td>\n",
       "      <td>North America</td>\n",
       "    </tr>\n",
       "    <tr>\n",
       "      <th>2</th>\n",
       "      <td>Direct</td>\n",
       "      <td>20171016</td>\n",
       "      <td>7992466427990357681</td>\n",
       "      <td>[{'hitNumber': '1', 'time': '0', 'hour': '17',...</td>\n",
       "      <td>Not Socially Engaged</td>\n",
       "      <td>1508201613</td>\n",
       "      <td>1</td>\n",
       "      <td>1508201613</td>\n",
       "      <td>Chrome</td>\n",
       "      <td>not available in demo dataset</td>\n",
       "      <td>...</td>\n",
       "      <td>NaN</td>\n",
       "      <td>NaN</td>\n",
       "      <td>(not set)</td>\n",
       "      <td>True</td>\n",
       "      <td>NaN</td>\n",
       "      <td>(none)</td>\n",
       "      <td>NaN</td>\n",
       "      <td>(direct)</td>\n",
       "      <td>4</td>\n",
       "      <td>North America</td>\n",
       "    </tr>\n",
       "    <tr>\n",
       "      <th>3</th>\n",
       "      <td>Organic Search</td>\n",
       "      <td>20171016</td>\n",
       "      <td>9075655783635761930</td>\n",
       "      <td>[{'hitNumber': '1', 'time': '0', 'hour': '9', ...</td>\n",
       "      <td>Not Socially Engaged</td>\n",
       "      <td>1508169851</td>\n",
       "      <td>1</td>\n",
       "      <td>1508169851</td>\n",
       "      <td>Chrome</td>\n",
       "      <td>not available in demo dataset</td>\n",
       "      <td>...</td>\n",
       "      <td>NaN</td>\n",
       "      <td>NaN</td>\n",
       "      <td>(not set)</td>\n",
       "      <td>NaN</td>\n",
       "      <td>(not provided)</td>\n",
       "      <td>organic</td>\n",
       "      <td>NaN</td>\n",
       "      <td>google</td>\n",
       "      <td>4</td>\n",
       "      <td>EMEA</td>\n",
       "    </tr>\n",
       "    <tr>\n",
       "      <th>4</th>\n",
       "      <td>Organic Search</td>\n",
       "      <td>20171016</td>\n",
       "      <td>6960673291025684308</td>\n",
       "      <td>[{'hitNumber': '1', 'time': '0', 'hour': '14',...</td>\n",
       "      <td>Not Socially Engaged</td>\n",
       "      <td>1508190552</td>\n",
       "      <td>1</td>\n",
       "      <td>1508190552</td>\n",
       "      <td>Chrome</td>\n",
       "      <td>not available in demo dataset</td>\n",
       "      <td>...</td>\n",
       "      <td>NaN</td>\n",
       "      <td>NaN</td>\n",
       "      <td>(not set)</td>\n",
       "      <td>NaN</td>\n",
       "      <td>(not provided)</td>\n",
       "      <td>organic</td>\n",
       "      <td>NaN</td>\n",
       "      <td>google</td>\n",
       "      <td>4</td>\n",
       "      <td>Central America</td>\n",
       "    </tr>\n",
       "  </tbody>\n",
       "</table>\n",
       "<p>5 rows × 60 columns</p>\n",
       "</div>"
      ],
      "text/plain": [
       "  channelGrouping      date        fullVisitorId  \\\n",
       "0  Organic Search  20171016  3162355547410993243   \n",
       "1        Referral  20171016  8934116514970143966   \n",
       "2          Direct  20171016  7992466427990357681   \n",
       "3  Organic Search  20171016  9075655783635761930   \n",
       "4  Organic Search  20171016  6960673291025684308   \n",
       "\n",
       "                                                hits  socialEngagementType  \\\n",
       "0  [{'hitNumber': '1', 'time': '0', 'hour': '17',...  Not Socially Engaged   \n",
       "1  [{'hitNumber': '1', 'time': '0', 'hour': '10',...  Not Socially Engaged   \n",
       "2  [{'hitNumber': '1', 'time': '0', 'hour': '17',...  Not Socially Engaged   \n",
       "3  [{'hitNumber': '1', 'time': '0', 'hour': '9', ...  Not Socially Engaged   \n",
       "4  [{'hitNumber': '1', 'time': '0', 'hour': '14',...  Not Socially Engaged   \n",
       "\n",
       "      visitId  visitNumber  visitStartTime device_browser  \\\n",
       "0  1508198450            1      1508198450        Firefox   \n",
       "1  1508176307            6      1508176307         Chrome   \n",
       "2  1508201613            1      1508201613         Chrome   \n",
       "3  1508169851            1      1508169851         Chrome   \n",
       "4  1508190552            1      1508190552         Chrome   \n",
       "\n",
       "              device_browserSize  ... trafficSource_adwordsClickInfo.page  \\\n",
       "0  not available in demo dataset  ...                                 NaN   \n",
       "1  not available in demo dataset  ...                                 NaN   \n",
       "2  not available in demo dataset  ...                                 NaN   \n",
       "3  not available in demo dataset  ...                                 NaN   \n",
       "4  not available in demo dataset  ...                                 NaN   \n",
       "\n",
       "  trafficSource_adwordsClickInfo.slot trafficSource_campaign  \\\n",
       "0                                 NaN              (not set)   \n",
       "1                                 NaN              (not set)   \n",
       "2                                 NaN              (not set)   \n",
       "3                                 NaN              (not set)   \n",
       "4                                 NaN              (not set)   \n",
       "\n",
       "   trafficSource_isTrueDirect trafficSource_keyword trafficSource_medium  \\\n",
       "0                         NaN          water bottle              organic   \n",
       "1                         NaN                   NaN             referral   \n",
       "2                        True                   NaN               (none)   \n",
       "3                         NaN        (not provided)              organic   \n",
       "4                         NaN        (not provided)              organic   \n",
       "\n",
       "                          trafficSource_referralPath trafficSource_source  \\\n",
       "0                                                NaN               google   \n",
       "1  /a/google.com/transportation/mtv-services/bike...     sites.google.com   \n",
       "2                                                NaN             (direct)   \n",
       "3                                                NaN               google   \n",
       "4                                                NaN               google   \n",
       "\n",
       "   customDimensions_index  customDimensions_value  \n",
       "0                       4                    EMEA  \n",
       "1                       4           North America  \n",
       "2                       4           North America  \n",
       "3                       4                    EMEA  \n",
       "4                       4         Central America  \n",
       "\n",
       "[5 rows x 60 columns]"
      ]
     },
     "execution_count": 46,
     "metadata": {},
     "output_type": "execute_result"
    }
   ],
   "source": [
    "train_df.head()"
   ]
  },
  {
   "cell_type": "code",
   "execution_count": 22,
   "metadata": {},
   "outputs": [
    {
     "data": {
      "text/plain": [
       "Index(['channelGrouping', 'date', 'fullVisitorId', 'hits',\n",
       "       'socialEngagementType', 'visitId', 'visitNumber', 'visitStartTime',\n",
       "       'device_browser', 'device_browserSize', 'device_browserVersion',\n",
       "       'device_deviceCategory', 'device_flashVersion', 'device_isMobile',\n",
       "       'device_language', 'device_mobileDeviceBranding',\n",
       "       'device_mobileDeviceInfo', 'device_mobileDeviceMarketingName',\n",
       "       'device_mobileDeviceModel', 'device_mobileInputSelector',\n",
       "       'device_operatingSystem', 'device_operatingSystemVersion',\n",
       "       'device_screenColors', 'device_screenResolution', 'geoNetwork_city',\n",
       "       'geoNetwork_cityId', 'geoNetwork_continent', 'geoNetwork_country',\n",
       "       'geoNetwork_latitude', 'geoNetwork_longitude', 'geoNetwork_metro',\n",
       "       'geoNetwork_networkDomain', 'geoNetwork_networkLocation',\n",
       "       'geoNetwork_region', 'geoNetwork_subContinent', 'totals_bounces',\n",
       "       'totals_hits', 'totals_newVisits', 'totals_pageviews',\n",
       "       'totals_sessionQualityDim', 'totals_timeOnSite',\n",
       "       'totals_totalTransactionRevenue', 'totals_transactionRevenue',\n",
       "       'totals_transactions', 'totals_visits', 'trafficSource_adContent',\n",
       "       'trafficSource_adwordsClickInfo.adNetworkType',\n",
       "       'trafficSource_adwordsClickInfo.criteriaParameters',\n",
       "       'trafficSource_adwordsClickInfo.gclId',\n",
       "       'trafficSource_adwordsClickInfo.isVideoAd',\n",
       "       'trafficSource_adwordsClickInfo.page',\n",
       "       'trafficSource_adwordsClickInfo.slot', 'trafficSource_campaign',\n",
       "       'trafficSource_isTrueDirect', 'trafficSource_keyword',\n",
       "       'trafficSource_medium', 'trafficSource_referralPath',\n",
       "       'trafficSource_source', 'customDimensions_index',\n",
       "       'customDimensions_value'],\n",
       "      dtype='object')"
      ]
     },
     "execution_count": 22,
     "metadata": {},
     "output_type": "execute_result"
    }
   ],
   "source": [
    "train_df.columns"
   ]
  },
  {
   "cell_type": "code",
   "execution_count": 47,
   "metadata": {},
   "outputs": [],
   "source": [
    "train_df.totals_transactionRevenue.fillna(0,inplace=True)"
   ]
  },
  {
   "cell_type": "code",
   "execution_count": 48,
   "metadata": {},
   "outputs": [
    {
     "data": {
      "text/plain": [
       "0            99003\n",
       "17590000        22\n",
       "33590000        22\n",
       "13590000        17\n",
       "18990000        15\n",
       "16990000        14\n",
       "21990000        14\n",
       "55990000        11\n",
       "19990000        10\n",
       "59990000        10\n",
       "44790000         8\n",
       "15190000         8\n",
       "47990000         8\n",
       "35180000         7\n",
       "15990000         7\n",
       "79990000         7\n",
       "24990000         6\n",
       "10390000         6\n",
       "19190000         5\n",
       "12990000         5\n",
       "67180000         5\n",
       "13290000         5\n",
       "28780000         5\n",
       "100000000        5\n",
       "8790000          4\n",
       "119990000        4\n",
       "23990000         4\n",
       "51990000         4\n",
       "27180000         4\n",
       "8990000          4\n",
       "             ...  \n",
       "30460000         1\n",
       "26400000         1\n",
       "134750000        1\n",
       "127980000        1\n",
       "37960000         1\n",
       "139500000        1\n",
       "31950000         1\n",
       "90460000         1\n",
       "80260000         1\n",
       "728200000        1\n",
       "147100000        1\n",
       "23490000         1\n",
       "279500000        1\n",
       "137340000        1\n",
       "116780000        1\n",
       "76020000         1\n",
       "103360000        1\n",
       "263700000        1\n",
       "200660000        1\n",
       "74430000         1\n",
       "37970000         1\n",
       "86380000         1\n",
       "110070000        1\n",
       "51290000         1\n",
       "62590000         1\n",
       "151150000        1\n",
       "137650000        1\n",
       "32660000         1\n",
       "34480000         1\n",
       "103240000        1\n",
       "Name: totals_transactionRevenue, Length: 688, dtype: int64"
      ]
     },
     "execution_count": 48,
     "metadata": {},
     "output_type": "execute_result"
    }
   ],
   "source": [
    "train_df.totals_transactionRevenue.value_counts()"
   ]
  },
  {
   "cell_type": "code",
   "execution_count": 50,
   "metadata": {},
   "outputs": [
    {
     "data": {
      "text/plain": [
       "<matplotlib.axes._subplots.AxesSubplot at 0x29b2f8240>"
      ]
     },
     "execution_count": 50,
     "metadata": {},
     "output_type": "execute_result"
    },
    {
     "data": {
      "image/png": "[encoded data removed]",
      "text/plain": [
       "<Figure size 1440x1080 with 1 Axes>"
      ]
     },
     "metadata": {
      "needs_background": "light"
     },
     "output_type": "display_data"
    }
   ],
   "source": [
    "train_df.totals_transactionRevenue.value_counts(dropna=False)[:10].plot.bar(figsize=(20,15))"
   ]
  },
  {
   "cell_type": "code",
   "execution_count": 23,
   "metadata": {},
   "outputs": [
    {
     "data": {
      "text/plain": [
       "Chrome                      68272\n",
       "Safari                      18609\n",
       "Firefox                      3641\n",
       "Android Webview              2357\n",
       "Internet Explorer            2070\n",
       "Edge                         1176\n",
       "Samsung Internet              914\n",
       "Opera Mini                    884\n",
       "Safari (in-app)               744\n",
       "Opera                         521\n",
       "UC Browser                    328\n",
       "YaBrowser                     153\n",
       "Amazon Silk                    97\n",
       "Coc Coc                        66\n",
       "Android Browser                49\n",
       "Mozilla Compatible Agent       32\n",
       "BlackBerry                     17\n",
       "Nintendo Browser               15\n",
       "MRCHROME                       12\n",
       "Puffin                         11\n",
       "Maxthon                         9\n",
       "Nokia Browser                   8\n",
       "DESKTOP                         2\n",
       "Browser                         2\n",
       "Seznam                          1\n",
       "LYF_LS_4002_12                  1\n",
       "SeaMonkey                       1\n",
       "ThumbSniper                     1\n",
       "Mozilla                         1\n",
       "IE with Chrome Frame            1\n",
       "osee2unifiedRelease             1\n",
       "ADM                             1\n",
       "Playstation Vita Browser        1\n",
       "Lunascape                       1\n",
       "(not set)                       1\n",
       "Name: device_browser, dtype: int64"
      ]
     },
     "execution_count": 23,
     "metadata": {},
     "output_type": "execute_result"
    }
   ],
   "source": [
    "train_df.device_browser.value_counts(dropna=False)"
   ]
  },
  {
   "cell_type": "code",
   "execution_count": 24,
   "metadata": {},
   "outputs": [
    {
     "data": {
      "text/plain": [
       "desktop    68920\n",
       "mobile     27574\n",
       "tablet      3506\n",
       "Name: device_deviceCategory, dtype: int64"
      ]
     },
     "execution_count": 24,
     "metadata": {},
     "output_type": "execute_result"
    }
   ],
   "source": [
    "train_df.device_deviceCategory.value_counts(dropna=False)"
   ]
  },
  {
   "cell_type": "code",
   "execution_count": 7,
   "metadata": {},
   "outputs": [
    {
     "data": {
      "text/plain": [
       "<matplotlib.axes._subplots.AxesSubplot at 0x1337ab9e8>"
      ]
     },
     "execution_count": 7,
     "metadata": {},
     "output_type": "execute_result"
    },
    {
     "data": {
      "image/png": "[encoded data removed]",
      "text/plain": [
       "<Figure size 1440x1080 with 1 Axes>"
      ]
     },
     "metadata": {
      "needs_background": "light"
     },
     "output_type": "display_data"
    }
   ],
   "source": [
    "train_df.device_deviceCategory.value_counts(dropna=False).plot.bar(figsize=(20,15))"
   ]
  },
  {
   "cell_type": "code",
   "execution_count": 25,
   "metadata": {},
   "outputs": [
    {
     "data": {
      "text/plain": [
       "not available in demo dataset    100000\n",
       "Name: device_screenColors, dtype: int64"
      ]
     },
     "execution_count": 25,
     "metadata": {},
     "output_type": "execute_result"
    }
   ],
   "source": [
    "train_df.device_screenColors.value_counts(dropna=False)"
   ]
  },
  {
   "cell_type": "code",
   "execution_count": 26,
   "metadata": {},
   "outputs": [
    {
     "data": {
      "text/plain": [
       "not available in demo dataset    100000\n",
       "Name: geoNetwork_longitude, dtype: int64"
      ]
     },
     "execution_count": 26,
     "metadata": {},
     "output_type": "execute_result"
    }
   ],
   "source": [
    "train_df.geoNetwork_longitude.value_counts(dropna=False)"
   ]
  },
  {
   "cell_type": "code",
   "execution_count": 27,
   "metadata": {},
   "outputs": [
    {
     "data": {
      "text/plain": [
       "United States               40783\n",
       "India                        6472\n",
       "United Kingdom               4322\n",
       "Canada                       3011\n",
       "Vietnam                      2486\n",
       "Germany                      2183\n",
       "Brazil                       2176\n",
       "Japan                        2048\n",
       "Thailand                     1905\n",
       "France                       1847\n",
       "Turkey                       1746\n",
       "Mexico                       1581\n",
       "Taiwan                       1527\n",
       "Netherlands                  1521\n",
       "Australia                    1352\n",
       "Spain                        1332\n",
       "Italy                        1240\n",
       "Indonesia                    1038\n",
       "Russia                       1021\n",
       "Poland                        928\n",
       "Singapore                     870\n",
       "Romania                       821\n",
       "Philippines                   811\n",
       "Malaysia                      714\n",
       "South Korea                   682\n",
       "Ireland                       643\n",
       "Egypt                         641\n",
       "Belgium                       609\n",
       "Ukraine                       580\n",
       "Argentina                     569\n",
       "                            ...  \n",
       "Monaco                          2\n",
       "Sint Maarten                    2\n",
       "Northern Mariana Islands        2\n",
       "Liechtenstein                   2\n",
       "South Sudan                     2\n",
       "Bahamas                         2\n",
       "Liberia                         2\n",
       "Tajikistan                      2\n",
       "Turkmenistan                    2\n",
       "Congo - Brazzaville             2\n",
       "Belize                          2\n",
       "Guernsey                        2\n",
       "Mauritania                      2\n",
       "Fiji                            2\n",
       "Niger                           2\n",
       "Togo                            2\n",
       "Turks & Caicos Islands          2\n",
       "Zimbabwe                        2\n",
       "Bermuda                         2\n",
       "Papua New Guinea                1\n",
       "Jersey                          1\n",
       "Bhutan                          1\n",
       "St. Lucia                       1\n",
       "Swaziland                       1\n",
       "Andorra                         1\n",
       "St. Vincent & Grenadines        1\n",
       "Guinea-Bissau                   1\n",
       "San Marino                      1\n",
       "French Polynesia                1\n",
       "Malawi                          1\n",
       "Name: geoNetwork_country, Length: 188, dtype: int64"
      ]
     },
     "execution_count": 27,
     "metadata": {},
     "output_type": "execute_result"
    }
   ],
   "source": [
    "train_df.geoNetwork_country.value_counts(dropna=False)"
   ]
  },
  {
   "cell_type": "code",
   "execution_count": 10,
   "metadata": {},
   "outputs": [
    {
     "data": {
      "text/plain": [
       "<matplotlib.axes._subplots.AxesSubplot at 0x1334fde80>"
      ]
     },
     "execution_count": 10,
     "metadata": {},
     "output_type": "execute_result"
    },
    {
     "data": {
      "image/png": "[encoded data removed]",
      "text/plain": [
       "<Figure size 1440x1080 with 1 Axes>"
      ]
     },
     "metadata": {
      "needs_background": "light"
     },
     "output_type": "display_data"
    }
   ],
   "source": [
    "train_df.geoNetwork_country.value_counts(dropna=False)[:10].plot.bar(figsize=(20,15))"
   ]
  },
  {
   "cell_type": "code",
   "execution_count": 28,
   "metadata": {},
   "outputs": [
    {
     "data": {
      "text/plain": [
       "not available in demo dataset    54332\n",
       "Mountain View                     4460\n",
       "(not set)                         3863\n",
       "New York                          2753\n",
       "San Francisco                     2270\n",
       "Sunnyvale                         1603\n",
       "London                            1343\n",
       "San Jose                          1189\n",
       "Los Angeles                        942\n",
       "Chicago                            840\n",
       "Bangkok                            758\n",
       "Ho Chi Minh City                   675\n",
       "Bengaluru                          626\n",
       "Toronto                            584\n",
       "Seattle                            584\n",
       "Istanbul                           575\n",
       "Hyderabad                          542\n",
       "Mumbai                             532\n",
       "Sydney                             526\n",
       "Hanoi                              520\n",
       "Chennai                            516\n",
       "Dublin                             491\n",
       "Sao Paulo                          482\n",
       "Paris                              455\n",
       "Singapore                          447\n",
       "Jakarta                            424\n",
       "Santa Clara                        412\n",
       "Austin                             398\n",
       "New Delhi                          385\n",
       "Mexico City                        371\n",
       "                                 ...  \n",
       "Eskisehir                            6\n",
       "Amherst                              6\n",
       "Telford                              6\n",
       "Ridgewood                            6\n",
       "Pozuelo de Alarcon                   6\n",
       "Hradec Kralove                       6\n",
       "Tiruchirappalli                      6\n",
       "Can Tho                              6\n",
       "Santiago de Queretaro                6\n",
       "Belgrade                             6\n",
       "Quang Ngai                           6\n",
       "Addis Ababa                          6\n",
       "Konya                                6\n",
       "Melville                             6\n",
       "Agra                                 6\n",
       "Bhubaneswar                          6\n",
       "Nairobi                              6\n",
       "Cyberjaya                            6\n",
       "Surat                                6\n",
       "Campinas                             6\n",
       "Helsinki                             6\n",
       "Antalya                              6\n",
       "Canterbury                           5\n",
       "Jacksonville                         5\n",
       "Danville                             4\n",
       "Council Bluffs                       3\n",
       "Bellevue                             3\n",
       "Seville                              3\n",
       "Bothell                              3\n",
       "Menlo Park                           2\n",
       "Name: geoNetwork_city, Length: 318, dtype: int64"
      ]
     },
     "execution_count": 28,
     "metadata": {},
     "output_type": "execute_result"
    }
   ],
   "source": [
    "train_df.geoNetwork_city.value_counts(dropna=False)"
   ]
  },
  {
   "cell_type": "code",
   "execution_count": 9,
   "metadata": {},
   "outputs": [
    {
     "data": {
      "text/plain": [
       "<matplotlib.axes._subplots.AxesSubplot at 0x13369d390>"
      ]
     },
     "execution_count": 9,
     "metadata": {},
     "output_type": "execute_result"
    },
    {
     "data": {
      "image/png": "[encoded data removed]",
      "text/plain": [
       "<Figure size 1440x1080 with 1 Axes>"
      ]
     },
     "metadata": {
      "needs_background": "light"
     },
     "output_type": "display_data"
    }
   ],
   "source": [
    "train_df.geoNetwork_city.value_counts(dropna=False)[:10].plot.bar(figsize=(20,15))"
   ]
  },
  {
   "cell_type": "code",
   "execution_count": 29,
   "metadata": {},
   "outputs": [
    {
     "data": {
      "text/plain": [
       "NaN                                   96237\n",
       "Google Merchandise Store               2276\n",
       "Google Merchandise Collection           490\n",
       "Placement Accessores 300 x 250          176\n",
       "Display Ad created 3/11/14              118\n",
       "Google Online Store                      96\n",
       "Smart display ad - 8/17/2017             81\n",
       "Full auto ad IMAGE ONLY                  52\n",
       "Ad from 12/15/17                         51\n",
       "Placement Drinkware 300x250              48\n",
       "Official Google Merchandise              47\n",
       "Ad from 12/13/16                         42\n",
       "Display Ad created 3/11/15               33\n",
       "Placement Accessories 336 x 280          25\n",
       "{KeyWord:Google Merchandise}             23\n",
       "Placement Accessories 160 x 600          17\n",
       "{KeyWord:Google Brand Items}             15\n",
       "Display Ad created 11/17/14              14\n",
       "BQ                                       13\n",
       "Placement Accessories 300 x 250          10\n",
       "Swag with Google Logos                    9\n",
       "Ad from 11/3/16                           9\n",
       "{KeyWord:Looking for Google Bags?}        8\n",
       "Drinkware 336x280                         8\n",
       "{KeyWord:Google Branded Gear}             8\n",
       "Bags 300x250                              8\n",
       "Placement Office 300x250                  7\n",
       "First Full Auto Template Test Ad          7\n",
       "Bags 336x280                              6\n",
       "{KeyWord:Want Google Stickers?}           6\n",
       "Placement 300 x 250                       6\n",
       "Placememnt Drinkware 160x600              5\n",
       "{KeyWord:Google Drinkware}                4\n",
       "Ad from 11/7/16                           4\n",
       "Placement 336x280                         4\n",
       "{KeyWord:Google Branded Apparel}          4\n",
       "{KeyWord:Google Men's T-Shirts}           3\n",
       "Placement Elecronics 300 x 250            3\n",
       "Ad from 12/21/16                          3\n",
       "Google Merchandise                        3\n",
       "Placement Accessories2 120 x 600          2\n",
       "Google Store                              2\n",
       "Full auto ad TEXT ONLY                    2\n",
       "Want Google Sunglasses                    2\n",
       "Bags 160 x 600                            2\n",
       "{KeyWord:Google Branded Kit}              2\n",
       "Office Placement 160x600                  1\n",
       "google store                              1\n",
       "{KeyWord:Want Google Pet Toys?}           1\n",
       "LeEco_1a                                  1\n",
       "test_tyler_hr_merchant                    1\n",
       "Full auto ad TEXT/NATIVE                  1\n",
       "Office 2018 - 120 x 600                   1\n",
       "Placement Electronics 160 x 600           1\n",
       "Google Paraphernalia                      1\n",
       "Name: trafficSource_adContent, dtype: int64"
      ]
     },
     "execution_count": 29,
     "metadata": {},
     "output_type": "execute_result"
    }
   ],
   "source": [
    "train_df.trafficSource_adContent.value_counts(dropna=False)"
   ]
  },
  {
   "cell_type": "code",
   "execution_count": 11,
   "metadata": {},
   "outputs": [
    {
     "data": {
      "text/plain": [
       "<matplotlib.axes._subplots.AxesSubplot at 0x133452b00>"
      ]
     },
     "execution_count": 11,
     "metadata": {},
     "output_type": "execute_result"
    },
    {
     "data": {
      "image/png": "[encoded data removed]",
      "text/plain": [
       "<Figure size 1440x1080 with 1 Axes>"
      ]
     },
     "metadata": {
      "needs_background": "light"
     },
     "output_type": "display_data"
    }
   ],
   "source": [
    "train_df.trafficSource_adContent.value_counts(dropna=False)[1:10].plot.bar(figsize=(20,15))"
   ]
  }
 ],
 "metadata": {
  "kernelspec": {
   "display_name": "Python 3",
   "language": "python",
   "name": "python3"
  },
  "language_info": {
   "codemirror_mode": {
    "name": "ipython",
    "version": 3
   },
   "file_extension": ".py",
   "mimetype": "text/x-python",
   "name": "python",
   "nbconvert_exporter": "python",
   "pygments_lexer": "ipython3",
   "version": "3.7.3"
  }
 },
 "nbformat": 4,
 "nbformat_minor": 2
}
